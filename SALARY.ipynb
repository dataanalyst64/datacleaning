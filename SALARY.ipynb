{
 "cells": [
  {
   "cell_type": "code",
   "execution_count": 1,
   "id": "afca303d",
   "metadata": {},
   "outputs": [],
   "source": [
    "import pandas as pd"
   ]
  },
  {
   "cell_type": "code",
   "execution_count": 3,
   "id": "06d515ab",
   "metadata": {},
   "outputs": [],
   "source": [
    "data=pd.read_csv(\"Employee_Salaries.csv\")"
   ]
  },
  {
   "cell_type": "code",
   "execution_count": 4,
   "id": "88b711b7",
   "metadata": {},
   "outputs": [
    {
     "data": {
      "text/html": [
       "<div>\n",
       "<style scoped>\n",
       "    .dataframe tbody tr th:only-of-type {\n",
       "        vertical-align: middle;\n",
       "    }\n",
       "\n",
       "    .dataframe tbody tr th {\n",
       "        vertical-align: top;\n",
       "    }\n",
       "\n",
       "    .dataframe thead th {\n",
       "        text-align: right;\n",
       "    }\n",
       "</style>\n",
       "<table border=\"1\" class=\"dataframe\">\n",
       "  <thead>\n",
       "    <tr style=\"text-align: right;\">\n",
       "      <th></th>\n",
       "      <th>Department</th>\n",
       "      <th>Department_Name</th>\n",
       "      <th>Division</th>\n",
       "      <th>Gender</th>\n",
       "      <th>Base_Salary</th>\n",
       "      <th>Overtime_Pay</th>\n",
       "      <th>Longevity_Pay</th>\n",
       "      <th>Grade</th>\n",
       "    </tr>\n",
       "  </thead>\n",
       "  <tbody>\n",
       "    <tr>\n",
       "      <th>0</th>\n",
       "      <td>ABS</td>\n",
       "      <td>Alcohol Beverage Services</td>\n",
       "      <td>ABS 85 Administration</td>\n",
       "      <td>M</td>\n",
       "      <td>175873.0</td>\n",
       "      <td>0.0</td>\n",
       "      <td>0.0</td>\n",
       "      <td>M2</td>\n",
       "    </tr>\n",
       "  </tbody>\n",
       "</table>\n",
       "</div>"
      ],
      "text/plain": [
       "  Department            Department_Name               Division Gender  \\\n",
       "0        ABS  Alcohol Beverage Services  ABS 85 Administration      M   \n",
       "\n",
       "   Base_Salary  Overtime_Pay  Longevity_Pay Grade  \n",
       "0     175873.0           0.0            0.0    M2  "
      ]
     },
     "execution_count": 4,
     "metadata": {},
     "output_type": "execute_result"
    }
   ],
   "source": [
    "data.head(1)"
   ]
  },
  {
   "cell_type": "code",
   "execution_count": 5,
   "id": "e40118da",
   "metadata": {},
   "outputs": [
    {
     "name": "stdout",
     "output_type": "stream",
     "text": [
      "<class 'pandas.core.frame.DataFrame'>\n",
      "RangeIndex: 10291 entries, 0 to 10290\n",
      "Data columns (total 8 columns):\n",
      " #   Column           Non-Null Count  Dtype  \n",
      "---  ------           --------------  -----  \n",
      " 0   Department       10291 non-null  object \n",
      " 1   Department_Name  10291 non-null  object \n",
      " 2   Division         10291 non-null  object \n",
      " 3   Gender           10291 non-null  object \n",
      " 4   Base_Salary      10291 non-null  float64\n",
      " 5   Overtime_Pay     10291 non-null  float64\n",
      " 6   Longevity_Pay    10291 non-null  float64\n",
      " 7   Grade            10258 non-null  object \n",
      "dtypes: float64(3), object(5)\n",
      "memory usage: 643.3+ KB\n"
     ]
    }
   ],
   "source": [
    "data.info()"
   ]
  },
  {
   "cell_type": "code",
   "execution_count": 6,
   "id": "01c172e5",
   "metadata": {},
   "outputs": [
    {
     "data": {
      "text/plain": [
       "Department          0\n",
       "Department_Name     0\n",
       "Division            0\n",
       "Gender              0\n",
       "Base_Salary         0\n",
       "Overtime_Pay        0\n",
       "Longevity_Pay       0\n",
       "Grade              33\n",
       "dtype: int64"
      ]
     },
     "execution_count": 6,
     "metadata": {},
     "output_type": "execute_result"
    }
   ],
   "source": [
    "data.isna().sum()"
   ]
  },
  {
   "cell_type": "code",
   "execution_count": 7,
   "id": "d97dd645",
   "metadata": {},
   "outputs": [
    {
     "data": {
      "text/plain": [
       "0         M2\n",
       "1         M3\n",
       "2         M3\n",
       "3         21\n",
       "4         16\n",
       "        ... \n",
       "10286    N28\n",
       "10287    NaN\n",
       "10288    N18\n",
       "10289    N21\n",
       "10290    N35\n",
       "Name: Grade, Length: 10291, dtype: object"
      ]
     },
     "execution_count": 7,
     "metadata": {},
     "output_type": "execute_result"
    }
   ],
   "source": [
    "data['Grade']"
   ]
  },
  {
   "cell_type": "code",
   "execution_count": 8,
   "id": "22cf2b2b",
   "metadata": {},
   "outputs": [],
   "source": [
    "data.fillna(\"unknown\",inplace=True)"
   ]
  },
  {
   "cell_type": "code",
   "execution_count": 9,
   "id": "123b89a6",
   "metadata": {},
   "outputs": [
    {
     "data": {
      "text/plain": [
       "0             M2\n",
       "1             M3\n",
       "2             M3\n",
       "3             21\n",
       "4             16\n",
       "          ...   \n",
       "10286        N28\n",
       "10287    unknown\n",
       "10288        N18\n",
       "10289        N21\n",
       "10290        N35\n",
       "Name: Grade, Length: 10291, dtype: object"
      ]
     },
     "execution_count": 9,
     "metadata": {},
     "output_type": "execute_result"
    }
   ],
   "source": [
    "data['Grade']"
   ]
  },
  {
   "cell_type": "code",
   "execution_count": 10,
   "id": "4793f8f6",
   "metadata": {},
   "outputs": [
    {
     "data": {
      "text/plain": [
       "Department         0\n",
       "Department_Name    0\n",
       "Division           0\n",
       "Gender             0\n",
       "Base_Salary        0\n",
       "Overtime_Pay       0\n",
       "Longevity_Pay      0\n",
       "Grade              0\n",
       "dtype: int64"
      ]
     },
     "execution_count": 10,
     "metadata": {},
     "output_type": "execute_result"
    }
   ],
   "source": [
    "data.isna().sum()"
   ]
  },
  {
   "cell_type": "code",
   "execution_count": 11,
   "id": "10040207",
   "metadata": {},
   "outputs": [
    {
     "data": {
      "text/plain": [
       "Department         0\n",
       "Department_Name    0\n",
       "Division           0\n",
       "Gender             0\n",
       "Base_Salary        0\n",
       "Overtime_Pay       0\n",
       "Longevity_Pay      0\n",
       "Grade              0\n",
       "dtype: int64"
      ]
     },
     "execution_count": 11,
     "metadata": {},
     "output_type": "execute_result"
    }
   ],
   "source": [
    "data.isnull().sum()"
   ]
  },
  {
   "cell_type": "code",
   "execution_count": 12,
   "id": "fed6ea20",
   "metadata": {},
   "outputs": [
    {
     "data": {
      "text/plain": [
       "Index(['Department', 'Department_Name', 'Division', 'Gender', 'Base_Salary',\n",
       "       'Overtime_Pay', 'Longevity_Pay', 'Grade'],\n",
       "      dtype='object')"
      ]
     },
     "execution_count": 12,
     "metadata": {},
     "output_type": "execute_result"
    }
   ],
   "source": [
    "data.columns"
   ]
  },
  {
   "cell_type": "code",
   "execution_count": 15,
   "id": "dd131860",
   "metadata": {},
   "outputs": [],
   "source": [
    "data=data.rename(columns={\n",
    "    'Department_Name':'Department Name',\n",
    "    'Base_Salary':'Base Salary',\n",
    "    'Overtime_Pay':'Overtime Pay',\n",
    "    'Longevity_Pay':'Longevity Pay'\n",
    "})"
   ]
  },
  {
   "cell_type": "code",
   "execution_count": 16,
   "id": "57fb2cc9",
   "metadata": {},
   "outputs": [
    {
     "data": {
      "text/plain": [
       "Index(['Department', 'Department Name', 'Division', 'Gender', 'Base Salary',\n",
       "       'Overtime Pay', 'Longevity Pay', 'Grade'],\n",
       "      dtype='object')"
      ]
     },
     "execution_count": 16,
     "metadata": {},
     "output_type": "execute_result"
    }
   ],
   "source": [
    "data.columns"
   ]
  },
  {
   "cell_type": "code",
   "execution_count": 17,
   "id": "9fcd4beb",
   "metadata": {},
   "outputs": [
    {
     "data": {
      "text/html": [
       "<div>\n",
       "<style scoped>\n",
       "    .dataframe tbody tr th:only-of-type {\n",
       "        vertical-align: middle;\n",
       "    }\n",
       "\n",
       "    .dataframe tbody tr th {\n",
       "        vertical-align: top;\n",
       "    }\n",
       "\n",
       "    .dataframe thead th {\n",
       "        text-align: right;\n",
       "    }\n",
       "</style>\n",
       "<table border=\"1\" class=\"dataframe\">\n",
       "  <thead>\n",
       "    <tr style=\"text-align: right;\">\n",
       "      <th></th>\n",
       "      <th>Department</th>\n",
       "      <th>Department Name</th>\n",
       "      <th>Division</th>\n",
       "      <th>Gender</th>\n",
       "      <th>Base Salary</th>\n",
       "      <th>Overtime Pay</th>\n",
       "      <th>Longevity Pay</th>\n",
       "      <th>Grade</th>\n",
       "    </tr>\n",
       "  </thead>\n",
       "  <tbody>\n",
       "    <tr>\n",
       "      <th>0</th>\n",
       "      <td>ABS</td>\n",
       "      <td>Alcohol Beverage Services</td>\n",
       "      <td>ABS 85 Administration</td>\n",
       "      <td>M</td>\n",
       "      <td>175873.00</td>\n",
       "      <td>0.0</td>\n",
       "      <td>0.0</td>\n",
       "      <td>M2</td>\n",
       "    </tr>\n",
       "    <tr>\n",
       "      <th>1</th>\n",
       "      <td>ABS</td>\n",
       "      <td>Alcohol Beverage Services</td>\n",
       "      <td>ABS 85 Administration</td>\n",
       "      <td>M</td>\n",
       "      <td>145613.36</td>\n",
       "      <td>0.0</td>\n",
       "      <td>0.0</td>\n",
       "      <td>M3</td>\n",
       "    </tr>\n",
       "  </tbody>\n",
       "</table>\n",
       "</div>"
      ],
      "text/plain": [
       "  Department            Department Name               Division Gender  \\\n",
       "0        ABS  Alcohol Beverage Services  ABS 85 Administration      M   \n",
       "1        ABS  Alcohol Beverage Services  ABS 85 Administration      M   \n",
       "\n",
       "   Base Salary  Overtime Pay  Longevity Pay Grade  \n",
       "0    175873.00           0.0            0.0    M2  \n",
       "1    145613.36           0.0            0.0    M3  "
      ]
     },
     "execution_count": 17,
     "metadata": {},
     "output_type": "execute_result"
    }
   ],
   "source": [
    "data.head(2)"
   ]
  },
  {
   "cell_type": "code",
   "execution_count": 18,
   "id": "6387de0f",
   "metadata": {},
   "outputs": [],
   "source": [
    "data.drop(columns=\"Department\",inplace=True)"
   ]
  },
  {
   "cell_type": "code",
   "execution_count": 19,
   "id": "3e38d52a",
   "metadata": {},
   "outputs": [
    {
     "data": {
      "text/plain": [
       "Index(['Department Name', 'Division', 'Gender', 'Base Salary', 'Overtime Pay',\n",
       "       'Longevity Pay', 'Grade'],\n",
       "      dtype='object')"
      ]
     },
     "execution_count": 19,
     "metadata": {},
     "output_type": "execute_result"
    }
   ],
   "source": [
    "data.columns"
   ]
  },
  {
   "cell_type": "code",
   "execution_count": 20,
   "id": "ba62ae47",
   "metadata": {},
   "outputs": [
    {
     "data": {
      "text/html": [
       "<div>\n",
       "<style scoped>\n",
       "    .dataframe tbody tr th:only-of-type {\n",
       "        vertical-align: middle;\n",
       "    }\n",
       "\n",
       "    .dataframe tbody tr th {\n",
       "        vertical-align: top;\n",
       "    }\n",
       "\n",
       "    .dataframe thead th {\n",
       "        text-align: right;\n",
       "    }\n",
       "</style>\n",
       "<table border=\"1\" class=\"dataframe\">\n",
       "  <thead>\n",
       "    <tr style=\"text-align: right;\">\n",
       "      <th></th>\n",
       "      <th>Department Name</th>\n",
       "      <th>Division</th>\n",
       "      <th>Gender</th>\n",
       "      <th>Base Salary</th>\n",
       "      <th>Overtime Pay</th>\n",
       "      <th>Longevity Pay</th>\n",
       "      <th>Grade</th>\n",
       "    </tr>\n",
       "  </thead>\n",
       "  <tbody>\n",
       "    <tr>\n",
       "      <th>0</th>\n",
       "      <td>Alcohol Beverage Services</td>\n",
       "      <td>ABS 85 Administration</td>\n",
       "      <td>M</td>\n",
       "      <td>175873.0</td>\n",
       "      <td>0.0</td>\n",
       "      <td>0.0</td>\n",
       "      <td>M2</td>\n",
       "    </tr>\n",
       "  </tbody>\n",
       "</table>\n",
       "</div>"
      ],
      "text/plain": [
       "             Department Name               Division Gender  Base Salary  \\\n",
       "0  Alcohol Beverage Services  ABS 85 Administration      M     175873.0   \n",
       "\n",
       "   Overtime Pay  Longevity Pay Grade  \n",
       "0           0.0            0.0    M2  "
      ]
     },
     "execution_count": 20,
     "metadata": {},
     "output_type": "execute_result"
    }
   ],
   "source": [
    "data.head(1)"
   ]
  },
  {
   "cell_type": "code",
   "execution_count": 21,
   "id": "2e065829",
   "metadata": {},
   "outputs": [],
   "source": [
    "data.to_csv(\"cleaned_employee_salary_data.csv\",index=False)"
   ]
  },
  {
   "cell_type": "code",
   "execution_count": null,
   "id": "4f10e47a",
   "metadata": {},
   "outputs": [],
   "source": []
  },
  {
   "cell_type": "code",
   "execution_count": null,
   "id": "34d9dd59",
   "metadata": {},
   "outputs": [],
   "source": []
  },
  {
   "cell_type": "code",
   "execution_count": null,
   "id": "c84d6bba",
   "metadata": {},
   "outputs": [],
   "source": []
  }
 ],
 "metadata": {
  "kernelspec": {
   "display_name": "Python 3",
   "language": "python",
   "name": "python3"
  },
  "language_info": {
   "codemirror_mode": {
    "name": "ipython",
    "version": 3
   },
   "file_extension": ".py",
   "mimetype": "text/x-python",
   "name": "python",
   "nbconvert_exporter": "python",
   "pygments_lexer": "ipython3",
   "version": "3.12.3"
  }
 },
 "nbformat": 4,
 "nbformat_minor": 5
}
