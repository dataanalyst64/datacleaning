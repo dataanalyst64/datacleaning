{
 "cells": [
  {
   "cell_type": "code",
   "execution_count": 4,
   "id": "58bece26",
   "metadata": {},
   "outputs": [],
   "source": [
    "import pandas as pd\n",
    "import matplotlib.pyplot as plt\n",
    "import seaborn as sns"
   ]
  },
  {
   "cell_type": "code",
   "execution_count": 5,
   "id": "6e8f2857",
   "metadata": {},
   "outputs": [],
   "source": [
    "dataset = pd.read_csv('data-car-price-prediction.csv')"
   ]
  },
  {
   "cell_type": "code",
   "execution_count": 6,
   "id": "2206cf00",
   "metadata": {},
   "outputs": [
    {
     "data": {
      "text/html": [
       "<div>\n",
       "<style scoped>\n",
       "    .dataframe tbody tr th:only-of-type {\n",
       "        vertical-align: middle;\n",
       "    }\n",
       "\n",
       "    .dataframe tbody tr th {\n",
       "        vertical-align: top;\n",
       "    }\n",
       "\n",
       "    .dataframe thead th {\n",
       "        text-align: right;\n",
       "    }\n",
       "</style>\n",
       "<table border=\"1\" class=\"dataframe\">\n",
       "  <thead>\n",
       "    <tr style=\"text-align: right;\">\n",
       "      <th></th>\n",
       "      <th>Unnamed: 0</th>\n",
       "      <th>Brand</th>\n",
       "      <th>Model</th>\n",
       "      <th>Varient</th>\n",
       "      <th>Manufacture Year</th>\n",
       "      <th>Driven Kilometers</th>\n",
       "      <th>Fuel</th>\n",
       "      <th>Number of Owner</th>\n",
       "      <th>Body Type</th>\n",
       "      <th>Location</th>\n",
       "      <th>Price</th>\n",
       "    </tr>\n",
       "  </thead>\n",
       "  <tbody>\n",
       "    <tr>\n",
       "      <th>0</th>\n",
       "      <td>0</td>\n",
       "      <td>Maruti</td>\n",
       "      <td>Zen</td>\n",
       "      <td>Estilo LXI</td>\n",
       "      <td>2011</td>\n",
       "      <td>24,337km</td>\n",
       "      <td>Petrol</td>\n",
       "      <td>First Owner</td>\n",
       "      <td>Hatchback</td>\n",
       "      <td>Delhi</td>\n",
       "      <td>210499.0</td>\n",
       "    </tr>\n",
       "    <tr>\n",
       "      <th>1</th>\n",
       "      <td>1</td>\n",
       "      <td>Maruti</td>\n",
       "      <td>Alto</td>\n",
       "      <td>K10 VXI</td>\n",
       "      <td>2018</td>\n",
       "      <td>5,198km</td>\n",
       "      <td>Petrol</td>\n",
       "      <td>First Owner</td>\n",
       "      <td>Hatchback</td>\n",
       "      <td>Delhi</td>\n",
       "      <td>343799.0</td>\n",
       "    </tr>\n",
       "    <tr>\n",
       "      <th>2</th>\n",
       "      <td>2</td>\n",
       "      <td>Maruti</td>\n",
       "      <td>Celerio</td>\n",
       "      <td>VXI AMT</td>\n",
       "      <td>2015</td>\n",
       "      <td>27,739km</td>\n",
       "      <td>Petrol</td>\n",
       "      <td>First Owner</td>\n",
       "      <td>Hatchback</td>\n",
       "      <td>Delhi</td>\n",
       "      <td>371199.0</td>\n",
       "    </tr>\n",
       "    <tr>\n",
       "      <th>3</th>\n",
       "      <td>3</td>\n",
       "      <td>Hyundai</td>\n",
       "      <td>i20</td>\n",
       "      <td>SPORTZ 1.2 VTVT</td>\n",
       "      <td>2014</td>\n",
       "      <td>25,187km</td>\n",
       "      <td>Petrol</td>\n",
       "      <td>First Owner</td>\n",
       "      <td>Hatchback</td>\n",
       "      <td>Delhi</td>\n",
       "      <td>360099.0</td>\n",
       "    </tr>\n",
       "    <tr>\n",
       "      <th>4</th>\n",
       "      <td>4</td>\n",
       "      <td>Maruti</td>\n",
       "      <td>S</td>\n",
       "      <td>PRESSO VXI PLUS</td>\n",
       "      <td>2020</td>\n",
       "      <td>7,556km</td>\n",
       "      <td>Petrol</td>\n",
       "      <td>First Owner</td>\n",
       "      <td>Hatchback</td>\n",
       "      <td>Delhi</td>\n",
       "      <td>415999.0</td>\n",
       "    </tr>\n",
       "  </tbody>\n",
       "</table>\n",
       "</div>"
      ],
      "text/plain": [
       "   Unnamed: 0    Brand    Model          Varient  Manufacture Year  \\\n",
       "0           0   Maruti      Zen       Estilo LXI              2011   \n",
       "1           1   Maruti     Alto          K10 VXI              2018   \n",
       "2           2   Maruti  Celerio          VXI AMT              2015   \n",
       "3           3  Hyundai      i20  SPORTZ 1.2 VTVT              2014   \n",
       "4           4   Maruti        S  PRESSO VXI PLUS              2020   \n",
       "\n",
       "  Driven Kilometers    Fuel Number of Owner  Body Type Location     Price  \n",
       "0          24,337km  Petrol     First Owner  Hatchback    Delhi  210499.0  \n",
       "1           5,198km  Petrol     First Owner  Hatchback    Delhi  343799.0  \n",
       "2          27,739km  Petrol     First Owner  Hatchback    Delhi  371199.0  \n",
       "3          25,187km  Petrol     First Owner  Hatchback    Delhi  360099.0  \n",
       "4           7,556km  Petrol     First Owner  Hatchback    Delhi  415999.0  "
      ]
     },
     "execution_count": 6,
     "metadata": {},
     "output_type": "execute_result"
    }
   ],
   "source": [
    "dataset.head()"
   ]
  },
  {
   "cell_type": "code",
   "execution_count": 7,
   "id": "fd6b14e4",
   "metadata": {},
   "outputs": [
    {
     "data": {
      "text/html": [
       "<div>\n",
       "<style scoped>\n",
       "    .dataframe tbody tr th:only-of-type {\n",
       "        vertical-align: middle;\n",
       "    }\n",
       "\n",
       "    .dataframe tbody tr th {\n",
       "        vertical-align: top;\n",
       "    }\n",
       "\n",
       "    .dataframe thead th {\n",
       "        text-align: right;\n",
       "    }\n",
       "</style>\n",
       "<table border=\"1\" class=\"dataframe\">\n",
       "  <thead>\n",
       "    <tr style=\"text-align: right;\">\n",
       "      <th></th>\n",
       "      <th>Unnamed: 0</th>\n",
       "      <th>Brand</th>\n",
       "      <th>Model</th>\n",
       "      <th>Varient</th>\n",
       "      <th>Manufacture Year</th>\n",
       "      <th>Driven Kilometers</th>\n",
       "      <th>Fuel</th>\n",
       "      <th>Number of Owner</th>\n",
       "      <th>Body Type</th>\n",
       "      <th>Location</th>\n",
       "      <th>Price</th>\n",
       "    </tr>\n",
       "  </thead>\n",
       "  <tbody>\n",
       "    <tr>\n",
       "      <th>0</th>\n",
       "      <td>0</td>\n",
       "      <td>Maruti</td>\n",
       "      <td>Zen</td>\n",
       "      <td>Estilo LXI</td>\n",
       "      <td>2011</td>\n",
       "      <td>24,337km</td>\n",
       "      <td>Petrol</td>\n",
       "      <td>First Owner</td>\n",
       "      <td>Hatchback</td>\n",
       "      <td>Delhi</td>\n",
       "      <td>210499.0</td>\n",
       "    </tr>\n",
       "    <tr>\n",
       "      <th>1</th>\n",
       "      <td>1</td>\n",
       "      <td>Maruti</td>\n",
       "      <td>Alto</td>\n",
       "      <td>K10 VXI</td>\n",
       "      <td>2018</td>\n",
       "      <td>5,198km</td>\n",
       "      <td>Petrol</td>\n",
       "      <td>First Owner</td>\n",
       "      <td>Hatchback</td>\n",
       "      <td>Delhi</td>\n",
       "      <td>343799.0</td>\n",
       "    </tr>\n",
       "  </tbody>\n",
       "</table>\n",
       "</div>"
      ],
      "text/plain": [
       "   Unnamed: 0   Brand Model     Varient  Manufacture Year Driven Kilometers  \\\n",
       "0           0  Maruti   Zen  Estilo LXI              2011          24,337km   \n",
       "1           1  Maruti  Alto     K10 VXI              2018           5,198km   \n",
       "\n",
       "     Fuel Number of Owner  Body Type Location     Price  \n",
       "0  Petrol     First Owner  Hatchback    Delhi  210499.0  \n",
       "1  Petrol     First Owner  Hatchback    Delhi  343799.0  "
      ]
     },
     "execution_count": 7,
     "metadata": {},
     "output_type": "execute_result"
    }
   ],
   "source": [
    "dataset.head(2)"
   ]
  },
  {
   "cell_type": "code",
   "execution_count": 8,
   "id": "6a825587",
   "metadata": {},
   "outputs": [
    {
     "name": "stdout",
     "output_type": "stream",
     "text": [
      "<class 'pandas.core.frame.DataFrame'>\n",
      "RangeIndex: 10083 entries, 0 to 10082\n",
      "Data columns (total 11 columns):\n",
      " #   Column             Non-Null Count  Dtype  \n",
      "---  ------             --------------  -----  \n",
      " 0   Unnamed: 0         10083 non-null  int64  \n",
      " 1   Brand              10083 non-null  object \n",
      " 2   Model              10083 non-null  object \n",
      " 3   Varient            10083 non-null  object \n",
      " 4   Manufacture Year   10083 non-null  int64  \n",
      " 5   Driven Kilometers  10083 non-null  object \n",
      " 6   Fuel               10083 non-null  object \n",
      " 7   Number of Owner    10083 non-null  object \n",
      " 8   Body Type          10083 non-null  object \n",
      " 9   Location           10083 non-null  object \n",
      " 10  Price              10083 non-null  float64\n",
      "dtypes: float64(1), int64(2), object(8)\n",
      "memory usage: 866.6+ KB\n"
     ]
    }
   ],
   "source": [
    "dataset.info()"
   ]
  },
  {
   "cell_type": "code",
   "execution_count": 9,
   "id": "4822b4ac",
   "metadata": {},
   "outputs": [
    {
     "data": {
      "text/plain": [
       "Index(['Unnamed: 0', 'Brand', 'Model', 'Varient', 'Manufacture Year',\n",
       "       'Driven Kilometers', 'Fuel', 'Number of Owner', 'Body Type', 'Location',\n",
       "       'Price'],\n",
       "      dtype='object')"
      ]
     },
     "execution_count": 9,
     "metadata": {},
     "output_type": "execute_result"
    }
   ],
   "source": [
    "dataset.columns"
   ]
  },
  {
   "cell_type": "code",
   "execution_count": 10,
   "id": "01243701",
   "metadata": {},
   "outputs": [],
   "source": [
    "dataset.drop(columns = \"Unnamed: 0\", inplace= True)"
   ]
  },
  {
   "cell_type": "code",
   "execution_count": 11,
   "id": "f0dfbfa1",
   "metadata": {},
   "outputs": [
    {
     "data": {
      "text/html": [
       "<div>\n",
       "<style scoped>\n",
       "    .dataframe tbody tr th:only-of-type {\n",
       "        vertical-align: middle;\n",
       "    }\n",
       "\n",
       "    .dataframe tbody tr th {\n",
       "        vertical-align: top;\n",
       "    }\n",
       "\n",
       "    .dataframe thead th {\n",
       "        text-align: right;\n",
       "    }\n",
       "</style>\n",
       "<table border=\"1\" class=\"dataframe\">\n",
       "  <thead>\n",
       "    <tr style=\"text-align: right;\">\n",
       "      <th></th>\n",
       "      <th>Brand</th>\n",
       "      <th>Model</th>\n",
       "      <th>Varient</th>\n",
       "      <th>Manufacture Year</th>\n",
       "      <th>Driven Kilometers</th>\n",
       "      <th>Fuel</th>\n",
       "      <th>Number of Owner</th>\n",
       "      <th>Body Type</th>\n",
       "      <th>Location</th>\n",
       "      <th>Price</th>\n",
       "    </tr>\n",
       "  </thead>\n",
       "  <tbody>\n",
       "    <tr>\n",
       "      <th>0</th>\n",
       "      <td>Maruti</td>\n",
       "      <td>Zen</td>\n",
       "      <td>Estilo LXI</td>\n",
       "      <td>2011</td>\n",
       "      <td>24,337km</td>\n",
       "      <td>Petrol</td>\n",
       "      <td>First Owner</td>\n",
       "      <td>Hatchback</td>\n",
       "      <td>Delhi</td>\n",
       "      <td>210499.0</td>\n",
       "    </tr>\n",
       "    <tr>\n",
       "      <th>1</th>\n",
       "      <td>Maruti</td>\n",
       "      <td>Alto</td>\n",
       "      <td>K10 VXI</td>\n",
       "      <td>2018</td>\n",
       "      <td>5,198km</td>\n",
       "      <td>Petrol</td>\n",
       "      <td>First Owner</td>\n",
       "      <td>Hatchback</td>\n",
       "      <td>Delhi</td>\n",
       "      <td>343799.0</td>\n",
       "    </tr>\n",
       "    <tr>\n",
       "      <th>2</th>\n",
       "      <td>Maruti</td>\n",
       "      <td>Celerio</td>\n",
       "      <td>VXI AMT</td>\n",
       "      <td>2015</td>\n",
       "      <td>27,739km</td>\n",
       "      <td>Petrol</td>\n",
       "      <td>First Owner</td>\n",
       "      <td>Hatchback</td>\n",
       "      <td>Delhi</td>\n",
       "      <td>371199.0</td>\n",
       "    </tr>\n",
       "    <tr>\n",
       "      <th>3</th>\n",
       "      <td>Hyundai</td>\n",
       "      <td>i20</td>\n",
       "      <td>SPORTZ 1.2 VTVT</td>\n",
       "      <td>2014</td>\n",
       "      <td>25,187km</td>\n",
       "      <td>Petrol</td>\n",
       "      <td>First Owner</td>\n",
       "      <td>Hatchback</td>\n",
       "      <td>Delhi</td>\n",
       "      <td>360099.0</td>\n",
       "    </tr>\n",
       "    <tr>\n",
       "      <th>4</th>\n",
       "      <td>Maruti</td>\n",
       "      <td>S</td>\n",
       "      <td>PRESSO VXI PLUS</td>\n",
       "      <td>2020</td>\n",
       "      <td>7,556km</td>\n",
       "      <td>Petrol</td>\n",
       "      <td>First Owner</td>\n",
       "      <td>Hatchback</td>\n",
       "      <td>Delhi</td>\n",
       "      <td>415999.0</td>\n",
       "    </tr>\n",
       "    <tr>\n",
       "      <th>...</th>\n",
       "      <td>...</td>\n",
       "      <td>...</td>\n",
       "      <td>...</td>\n",
       "      <td>...</td>\n",
       "      <td>...</td>\n",
       "      <td>...</td>\n",
       "      <td>...</td>\n",
       "      <td>...</td>\n",
       "      <td>...</td>\n",
       "      <td>...</td>\n",
       "    </tr>\n",
       "    <tr>\n",
       "      <th>10078</th>\n",
       "      <td>Toyota</td>\n",
       "      <td>Innova</td>\n",
       "      <td>2.5 EV CS 7 STR BSIV</td>\n",
       "      <td>2012</td>\n",
       "      <td>1,83,000 kms</td>\n",
       "      <td>Diesel</td>\n",
       "      <td>First Owner</td>\n",
       "      <td>MUV</td>\n",
       "      <td>Delhi NCR</td>\n",
       "      <td>525000.0</td>\n",
       "    </tr>\n",
       "    <tr>\n",
       "      <th>10079</th>\n",
       "      <td>Toyota</td>\n",
       "      <td>Innova</td>\n",
       "      <td>2.5 GX (Diesel) 7 Seater BS IV</td>\n",
       "      <td>2012</td>\n",
       "      <td>70,000 kms</td>\n",
       "      <td>Diesel</td>\n",
       "      <td>First Owner</td>\n",
       "      <td>MUV</td>\n",
       "      <td>Delhi NCR</td>\n",
       "      <td>650000.0</td>\n",
       "    </tr>\n",
       "    <tr>\n",
       "      <th>10080</th>\n",
       "      <td>Toyota</td>\n",
       "      <td>Innova</td>\n",
       "      <td>2.5 VX 8 STR BSIV</td>\n",
       "      <td>2010</td>\n",
       "      <td>2,20,000 kms</td>\n",
       "      <td>Diesel</td>\n",
       "      <td>First Owner</td>\n",
       "      <td>MUV</td>\n",
       "      <td>Delhi NCR</td>\n",
       "      <td>495000.0</td>\n",
       "    </tr>\n",
       "    <tr>\n",
       "      <th>10081</th>\n",
       "      <td>Mahindra</td>\n",
       "      <td>Bolero</td>\n",
       "      <td>SLE</td>\n",
       "      <td>2010</td>\n",
       "      <td>1,00,000 kms</td>\n",
       "      <td>Diesel</td>\n",
       "      <td>Second Owner</td>\n",
       "      <td>MUV</td>\n",
       "      <td>Delhi NCR</td>\n",
       "      <td>260000.0</td>\n",
       "    </tr>\n",
       "    <tr>\n",
       "      <th>10082</th>\n",
       "      <td>Maruti</td>\n",
       "      <td>Ertiga</td>\n",
       "      <td>VDI</td>\n",
       "      <td>2012</td>\n",
       "      <td>58,000 kms</td>\n",
       "      <td>Diesel</td>\n",
       "      <td>First Owner</td>\n",
       "      <td>MUV</td>\n",
       "      <td>Delhi NCR</td>\n",
       "      <td>395000.0</td>\n",
       "    </tr>\n",
       "  </tbody>\n",
       "</table>\n",
       "<p>10083 rows × 10 columns</p>\n",
       "</div>"
      ],
      "text/plain": [
       "          Brand    Model                         Varient  Manufacture Year  \\\n",
       "0        Maruti      Zen                      Estilo LXI              2011   \n",
       "1        Maruti     Alto                         K10 VXI              2018   \n",
       "2        Maruti  Celerio                         VXI AMT              2015   \n",
       "3       Hyundai      i20                 SPORTZ 1.2 VTVT              2014   \n",
       "4        Maruti        S                 PRESSO VXI PLUS              2020   \n",
       "...         ...      ...                             ...               ...   \n",
       "10078    Toyota   Innova            2.5 EV CS 7 STR BSIV              2012   \n",
       "10079    Toyota   Innova  2.5 GX (Diesel) 7 Seater BS IV              2012   \n",
       "10080    Toyota   Innova               2.5 VX 8 STR BSIV              2010   \n",
       "10081  Mahindra   Bolero                             SLE              2010   \n",
       "10082    Maruti   Ertiga                             VDI              2012   \n",
       "\n",
       "      Driven Kilometers    Fuel Number of Owner  Body Type   Location  \\\n",
       "0              24,337km  Petrol     First Owner  Hatchback      Delhi   \n",
       "1               5,198km  Petrol     First Owner  Hatchback      Delhi   \n",
       "2              27,739km  Petrol     First Owner  Hatchback      Delhi   \n",
       "3              25,187km  Petrol     First Owner  Hatchback      Delhi   \n",
       "4               7,556km  Petrol     First Owner  Hatchback      Delhi   \n",
       "...                 ...     ...             ...        ...        ...   \n",
       "10078      1,83,000 kms  Diesel     First Owner        MUV  Delhi NCR   \n",
       "10079        70,000 kms  Diesel     First Owner        MUV  Delhi NCR   \n",
       "10080      2,20,000 kms  Diesel     First Owner        MUV  Delhi NCR   \n",
       "10081      1,00,000 kms  Diesel    Second Owner        MUV  Delhi NCR   \n",
       "10082        58,000 kms  Diesel     First Owner        MUV  Delhi NCR   \n",
       "\n",
       "          Price  \n",
       "0      210499.0  \n",
       "1      343799.0  \n",
       "2      371199.0  \n",
       "3      360099.0  \n",
       "4      415999.0  \n",
       "...         ...  \n",
       "10078  525000.0  \n",
       "10079  650000.0  \n",
       "10080  495000.0  \n",
       "10081  260000.0  \n",
       "10082  395000.0  \n",
       "\n",
       "[10083 rows x 10 columns]"
      ]
     },
     "execution_count": 11,
     "metadata": {},
     "output_type": "execute_result"
    }
   ],
   "source": [
    "dataset"
   ]
  },
  {
   "cell_type": "code",
   "execution_count": 12,
   "id": "8c3f7d92",
   "metadata": {},
   "outputs": [
    {
     "data": {
      "text/plain": [
       "Index(['Brand', 'Model', 'Varient', 'Manufacture Year', 'Driven Kilometers',\n",
       "       'Fuel', 'Number of Owner', 'Body Type', 'Location', 'Price'],\n",
       "      dtype='object')"
      ]
     },
     "execution_count": 12,
     "metadata": {},
     "output_type": "execute_result"
    }
   ],
   "source": [
    "dataset.columns"
   ]
  },
  {
   "cell_type": "code",
   "execution_count": 13,
   "id": "574ccf8e",
   "metadata": {},
   "outputs": [
    {
     "data": {
      "text/html": [
       "<div>\n",
       "<style scoped>\n",
       "    .dataframe tbody tr th:only-of-type {\n",
       "        vertical-align: middle;\n",
       "    }\n",
       "\n",
       "    .dataframe tbody tr th {\n",
       "        vertical-align: top;\n",
       "    }\n",
       "\n",
       "    .dataframe thead th {\n",
       "        text-align: right;\n",
       "    }\n",
       "</style>\n",
       "<table border=\"1\" class=\"dataframe\">\n",
       "  <thead>\n",
       "    <tr style=\"text-align: right;\">\n",
       "      <th></th>\n",
       "      <th>Brand</th>\n",
       "      <th>Model</th>\n",
       "      <th>Varient</th>\n",
       "      <th>Manufacture Year</th>\n",
       "      <th>Driven Kilometers</th>\n",
       "      <th>Fuel</th>\n",
       "      <th>Number of Owner</th>\n",
       "      <th>Body Type</th>\n",
       "      <th>Location</th>\n",
       "      <th>Price</th>\n",
       "    </tr>\n",
       "  </thead>\n",
       "  <tbody>\n",
       "    <tr>\n",
       "      <th>0</th>\n",
       "      <td>Maruti</td>\n",
       "      <td>Zen</td>\n",
       "      <td>Estilo LXI</td>\n",
       "      <td>2011</td>\n",
       "      <td>24,337km</td>\n",
       "      <td>Petrol</td>\n",
       "      <td>First Owner</td>\n",
       "      <td>Hatchback</td>\n",
       "      <td>Delhi</td>\n",
       "      <td>210499.0</td>\n",
       "    </tr>\n",
       "  </tbody>\n",
       "</table>\n",
       "</div>"
      ],
      "text/plain": [
       "    Brand Model     Varient  Manufacture Year Driven Kilometers    Fuel  \\\n",
       "0  Maruti   Zen  Estilo LXI              2011          24,337km  Petrol   \n",
       "\n",
       "  Number of Owner  Body Type Location     Price  \n",
       "0     First Owner  Hatchback    Delhi  210499.0  "
      ]
     },
     "execution_count": 13,
     "metadata": {},
     "output_type": "execute_result"
    }
   ],
   "source": [
    "dataset.head(1)"
   ]
  },
  {
   "cell_type": "code",
   "execution_count": 14,
   "id": "a2202e49",
   "metadata": {},
   "outputs": [
    {
     "name": "stdout",
     "output_type": "stream",
     "text": [
      "<class 'pandas.core.frame.DataFrame'>\n",
      "RangeIndex: 10083 entries, 0 to 10082\n",
      "Data columns (total 10 columns):\n",
      " #   Column             Non-Null Count  Dtype  \n",
      "---  ------             --------------  -----  \n",
      " 0   Brand              10083 non-null  object \n",
      " 1   Model              10083 non-null  object \n",
      " 2   Varient            10083 non-null  object \n",
      " 3   Manufacture Year   10083 non-null  int64  \n",
      " 4   Driven Kilometers  10083 non-null  object \n",
      " 5   Fuel               10083 non-null  object \n",
      " 6   Number of Owner    10083 non-null  object \n",
      " 7   Body Type          10083 non-null  object \n",
      " 8   Location           10083 non-null  object \n",
      " 9   Price              10083 non-null  float64\n",
      "dtypes: float64(1), int64(1), object(8)\n",
      "memory usage: 787.9+ KB\n"
     ]
    }
   ],
   "source": [
    "dataset.info()"
   ]
  },
  {
   "cell_type": "code",
   "execution_count": 15,
   "id": "6f70bc36",
   "metadata": {},
   "outputs": [
    {
     "data": {
      "text/plain": [
       "Brand                0\n",
       "Model                0\n",
       "Varient              0\n",
       "Manufacture Year     0\n",
       "Driven Kilometers    0\n",
       "Fuel                 0\n",
       "Number of Owner      0\n",
       "Body Type            0\n",
       "Location             0\n",
       "Price                0\n",
       "dtype: int64"
      ]
     },
     "execution_count": 15,
     "metadata": {},
     "output_type": "execute_result"
    }
   ],
   "source": [
    "# 1st step to clean data is to identify that there shouldn't be a missing data\n",
    "dataset.isnull().sum()"
   ]
  },
  {
   "cell_type": "code",
   "execution_count": 16,
   "id": "7e8a0a86",
   "metadata": {},
   "outputs": [
    {
     "data": {
      "text/plain": [
       "(10083, 10)"
      ]
     },
     "execution_count": 16,
     "metadata": {},
     "output_type": "execute_result"
    }
   ],
   "source": [
    "#to find the total data in dataset\n",
    "dataset.shape"
   ]
  },
  {
   "cell_type": "code",
   "execution_count": 17,
   "id": "3b2eb47d",
   "metadata": {},
   "outputs": [
    {
     "data": {
      "text/plain": [
       "Brand                0\n",
       "Model                0\n",
       "Varient              0\n",
       "Manufacture Year     0\n",
       "Driven Kilometers    0\n",
       "Fuel                 0\n",
       "Number of Owner      0\n",
       "Body Type            0\n",
       "Location             0\n",
       "Price                0\n",
       "dtype: int64"
      ]
     },
     "execution_count": 17,
     "metadata": {},
     "output_type": "execute_result"
    }
   ],
   "source": [
    "dataset.isna().sum()"
   ]
  },
  {
   "cell_type": "code",
   "execution_count": 18,
   "id": "76fdd4e8",
   "metadata": {},
   "outputs": [
    {
     "data": {
      "text/plain": [
       "10083"
      ]
     },
     "execution_count": 18,
     "metadata": {},
     "output_type": "execute_result"
    }
   ],
   "source": [
    "# to find how much percentage data is missing in particular column\n",
    "dataset.shape[0]"
   ]
  },
  {
   "cell_type": "code",
   "execution_count": 20,
   "id": "d6dd17d2",
   "metadata": {},
   "outputs": [
    {
     "data": {
      "text/plain": [
       "Brand                0.0\n",
       "Model                0.0\n",
       "Varient              0.0\n",
       "Manufacture Year     0.0\n",
       "Driven Kilometers    0.0\n",
       "Fuel                 0.0\n",
       "Number of Owner      0.0\n",
       "Body Type            0.0\n",
       "Location             0.0\n",
       "Price                0.0\n",
       "dtype: float64"
      ]
     },
     "execution_count": 20,
     "metadata": {},
     "output_type": "execute_result"
    }
   ],
   "source": [
    "(dataset.isnull().sum()/dataset.shape[0])*100"
   ]
  },
  {
   "cell_type": "code",
   "execution_count": 21,
   "id": "d9b5ba0c",
   "metadata": {},
   "outputs": [],
   "source": [
    "# to remove the missing data\n",
    "\n",
    "dataset.dropna(inplace= True)"
   ]
  },
  {
   "cell_type": "code",
   "execution_count": 22,
   "id": "e9380a68",
   "metadata": {},
   "outputs": [
    {
     "data": {
      "text/plain": [
       "0          Maruti\n",
       "1          Maruti\n",
       "2          Maruti\n",
       "3         Hyundai\n",
       "4          Maruti\n",
       "           ...   \n",
       "10078      Toyota\n",
       "10079      Toyota\n",
       "10080      Toyota\n",
       "10081    Mahindra\n",
       "10082      Maruti\n",
       "Name: Brand, Length: 10083, dtype: object"
      ]
     },
     "execution_count": 22,
     "metadata": {},
     "output_type": "execute_result"
    }
   ],
   "source": [
    "#now we check every column one by one\n",
    "\n",
    "dataset['Brand']"
   ]
  },
  {
   "cell_type": "code",
   "execution_count": null,
   "id": "d898e4ee",
   "metadata": {},
   "outputs": [
    {
     "data": {
      "text/plain": [
       "str"
      ]
     },
     "execution_count": 23,
     "metadata": {},
     "output_type": "execute_result"
    }
   ],
   "source": [
    "#to check the type of data\n",
    "type(dataset[\"Brand\"][0])"
   ]
  },
  {
   "cell_type": "code",
   "execution_count": 24,
   "id": "37b9dd22",
   "metadata": {},
   "outputs": [
    {
     "data": {
      "text/html": [
       "<div>\n",
       "<style scoped>\n",
       "    .dataframe tbody tr th:only-of-type {\n",
       "        vertical-align: middle;\n",
       "    }\n",
       "\n",
       "    .dataframe tbody tr th {\n",
       "        vertical-align: top;\n",
       "    }\n",
       "\n",
       "    .dataframe thead th {\n",
       "        text-align: right;\n",
       "    }\n",
       "</style>\n",
       "<table border=\"1\" class=\"dataframe\">\n",
       "  <thead>\n",
       "    <tr style=\"text-align: right;\">\n",
       "      <th></th>\n",
       "      <th>Brand</th>\n",
       "      <th>Model</th>\n",
       "      <th>Varient</th>\n",
       "      <th>Manufacture Year</th>\n",
       "      <th>Driven Kilometers</th>\n",
       "      <th>Fuel</th>\n",
       "      <th>Number of Owner</th>\n",
       "      <th>Body Type</th>\n",
       "      <th>Location</th>\n",
       "      <th>Price</th>\n",
       "    </tr>\n",
       "  </thead>\n",
       "  <tbody>\n",
       "    <tr>\n",
       "      <th>0</th>\n",
       "      <td>Maruti</td>\n",
       "      <td>Zen</td>\n",
       "      <td>Estilo LXI</td>\n",
       "      <td>2011</td>\n",
       "      <td>24,337km</td>\n",
       "      <td>Petrol</td>\n",
       "      <td>First Owner</td>\n",
       "      <td>Hatchback</td>\n",
       "      <td>Delhi</td>\n",
       "      <td>210499.0</td>\n",
       "    </tr>\n",
       "  </tbody>\n",
       "</table>\n",
       "</div>"
      ],
      "text/plain": [
       "    Brand Model     Varient  Manufacture Year Driven Kilometers    Fuel  \\\n",
       "0  Maruti   Zen  Estilo LXI              2011          24,337km  Petrol   \n",
       "\n",
       "  Number of Owner  Body Type Location     Price  \n",
       "0     First Owner  Hatchback    Delhi  210499.0  "
      ]
     },
     "execution_count": 24,
     "metadata": {},
     "output_type": "execute_result"
    }
   ],
   "source": [
    "dataset.head(1)"
   ]
  },
  {
   "cell_type": "code",
   "execution_count": 25,
   "id": "b09e0705",
   "metadata": {},
   "outputs": [
    {
     "name": "stdout",
     "output_type": "stream",
     "text": [
      "<class 'pandas.core.frame.DataFrame'>\n",
      "RangeIndex: 10083 entries, 0 to 10082\n",
      "Data columns (total 10 columns):\n",
      " #   Column             Non-Null Count  Dtype  \n",
      "---  ------             --------------  -----  \n",
      " 0   Brand              10083 non-null  object \n",
      " 1   Model              10083 non-null  object \n",
      " 2   Varient            10083 non-null  object \n",
      " 3   Manufacture Year   10083 non-null  int64  \n",
      " 4   Driven Kilometers  10083 non-null  object \n",
      " 5   Fuel               10083 non-null  object \n",
      " 6   Number of Owner    10083 non-null  object \n",
      " 7   Body Type          10083 non-null  object \n",
      " 8   Location           10083 non-null  object \n",
      " 9   Price              10083 non-null  float64\n",
      "dtypes: float64(1), int64(1), object(8)\n",
      "memory usage: 787.9+ KB\n"
     ]
    }
   ],
   "source": [
    "dataset.info()"
   ]
  },
  {
   "cell_type": "code",
   "execution_count": 26,
   "id": "8027383d",
   "metadata": {},
   "outputs": [
    {
     "data": {
      "text/plain": [
       "str"
      ]
     },
     "execution_count": 26,
     "metadata": {},
     "output_type": "execute_result"
    }
   ],
   "source": [
    "type(dataset['Driven Kilometers'][0])"
   ]
  },
  {
   "cell_type": "code",
   "execution_count": null,
   "id": "842e8831",
   "metadata": {},
   "outputs": [],
   "source": [
    "# if we have to seperate things from column \n",
    "\n",
    "#x= dataset['car_name'][0]\n",
    "#x[x.index(\" \")]\n",
    "\n",
    "#def company_name(x):\n",
    " #   return x[x.index(\" \")]\n",
    "\n",
    "#dataset[\"company name\"] =  dataset['car_name'].apply(company_name)"
   ]
  },
  {
   "cell_type": "code",
   "execution_count": 30,
   "id": "129a5cbf",
   "metadata": {},
   "outputs": [],
   "source": [
    "dataset.drop(columns= \"Location\", inplace= True)"
   ]
  },
  {
   "cell_type": "code",
   "execution_count": 31,
   "id": "af4d6f3e",
   "metadata": {},
   "outputs": [
    {
     "data": {
      "text/html": [
       "<div>\n",
       "<style scoped>\n",
       "    .dataframe tbody tr th:only-of-type {\n",
       "        vertical-align: middle;\n",
       "    }\n",
       "\n",
       "    .dataframe tbody tr th {\n",
       "        vertical-align: top;\n",
       "    }\n",
       "\n",
       "    .dataframe thead th {\n",
       "        text-align: right;\n",
       "    }\n",
       "</style>\n",
       "<table border=\"1\" class=\"dataframe\">\n",
       "  <thead>\n",
       "    <tr style=\"text-align: right;\">\n",
       "      <th></th>\n",
       "      <th>Brand</th>\n",
       "      <th>Model</th>\n",
       "      <th>Varient</th>\n",
       "      <th>Manufacture Year</th>\n",
       "      <th>Driven Kilometers</th>\n",
       "      <th>Fuel</th>\n",
       "      <th>Number of Owner</th>\n",
       "      <th>Body Type</th>\n",
       "      <th>Price</th>\n",
       "    </tr>\n",
       "  </thead>\n",
       "  <tbody>\n",
       "    <tr>\n",
       "      <th>0</th>\n",
       "      <td>Maruti</td>\n",
       "      <td>Zen</td>\n",
       "      <td>Estilo LXI</td>\n",
       "      <td>2011</td>\n",
       "      <td>24,337km</td>\n",
       "      <td>Petrol</td>\n",
       "      <td>First Owner</td>\n",
       "      <td>Hatchback</td>\n",
       "      <td>210499.0</td>\n",
       "    </tr>\n",
       "  </tbody>\n",
       "</table>\n",
       "</div>"
      ],
      "text/plain": [
       "    Brand Model     Varient  Manufacture Year Driven Kilometers    Fuel  \\\n",
       "0  Maruti   Zen  Estilo LXI              2011          24,337km  Petrol   \n",
       "\n",
       "  Number of Owner  Body Type     Price  \n",
       "0     First Owner  Hatchback  210499.0  "
      ]
     },
     "execution_count": 31,
     "metadata": {},
     "output_type": "execute_result"
    }
   ],
   "source": [
    "dataset.head(1)"
   ]
  },
  {
   "cell_type": "code",
   "execution_count": 32,
   "id": "d10e1df9",
   "metadata": {},
   "outputs": [],
   "source": [
    "dataset.to_csv(\"cleaned_car_data.csv\", index= False)"
   ]
  },
  {
   "cell_type": "code",
   "execution_count": null,
   "id": "c06151e6",
   "metadata": {},
   "outputs": [],
   "source": []
  }
 ],
 "metadata": {
  "kernelspec": {
   "display_name": "Python 3",
   "language": "python",
   "name": "python3"
  },
  "language_info": {
   "codemirror_mode": {
    "name": "ipython",
    "version": 3
   },
   "file_extension": ".py",
   "mimetype": "text/x-python",
   "name": "python",
   "nbconvert_exporter": "python",
   "pygments_lexer": "ipython3",
   "version": "3.12.3"
  }
 },
 "nbformat": 4,
 "nbformat_minor": 5
}
