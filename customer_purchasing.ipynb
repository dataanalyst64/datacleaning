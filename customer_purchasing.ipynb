{
 "cells": [
  {
   "cell_type": "code",
   "execution_count": 1,
   "id": "aed471cd",
   "metadata": {},
   "outputs": [],
   "source": [
    "import pandas as pd"
   ]
  },
  {
   "cell_type": "code",
   "execution_count": 3,
   "id": "13f1cffc",
   "metadata": {},
   "outputs": [],
   "source": [
    "data= pd.read_csv(\"Customer Purchasing Behaviors.csv\")"
   ]
  },
  {
   "cell_type": "code",
   "execution_count": 4,
   "id": "5e4cdf55",
   "metadata": {},
   "outputs": [
    {
     "data": {
      "text/html": [
       "<div>\n",
       "<style scoped>\n",
       "    .dataframe tbody tr th:only-of-type {\n",
       "        vertical-align: middle;\n",
       "    }\n",
       "\n",
       "    .dataframe tbody tr th {\n",
       "        vertical-align: top;\n",
       "    }\n",
       "\n",
       "    .dataframe thead th {\n",
       "        text-align: right;\n",
       "    }\n",
       "</style>\n",
       "<table border=\"1\" class=\"dataframe\">\n",
       "  <thead>\n",
       "    <tr style=\"text-align: right;\">\n",
       "      <th></th>\n",
       "      <th>user_id</th>\n",
       "      <th>age</th>\n",
       "      <th>annual_income</th>\n",
       "      <th>purchase_amount</th>\n",
       "      <th>loyalty_score</th>\n",
       "      <th>region</th>\n",
       "      <th>purchase_frequency</th>\n",
       "    </tr>\n",
       "  </thead>\n",
       "  <tbody>\n",
       "    <tr>\n",
       "      <th>0</th>\n",
       "      <td>1</td>\n",
       "      <td>25</td>\n",
       "      <td>45000</td>\n",
       "      <td>200</td>\n",
       "      <td>4.5</td>\n",
       "      <td>North</td>\n",
       "      <td>12</td>\n",
       "    </tr>\n",
       "    <tr>\n",
       "      <th>1</th>\n",
       "      <td>2</td>\n",
       "      <td>34</td>\n",
       "      <td>55000</td>\n",
       "      <td>350</td>\n",
       "      <td>7.0</td>\n",
       "      <td>South</td>\n",
       "      <td>18</td>\n",
       "    </tr>\n",
       "    <tr>\n",
       "      <th>2</th>\n",
       "      <td>3</td>\n",
       "      <td>45</td>\n",
       "      <td>65000</td>\n",
       "      <td>500</td>\n",
       "      <td>8.0</td>\n",
       "      <td>West</td>\n",
       "      <td>22</td>\n",
       "    </tr>\n",
       "    <tr>\n",
       "      <th>3</th>\n",
       "      <td>4</td>\n",
       "      <td>22</td>\n",
       "      <td>30000</td>\n",
       "      <td>150</td>\n",
       "      <td>3.0</td>\n",
       "      <td>East</td>\n",
       "      <td>10</td>\n",
       "    </tr>\n",
       "    <tr>\n",
       "      <th>4</th>\n",
       "      <td>5</td>\n",
       "      <td>29</td>\n",
       "      <td>47000</td>\n",
       "      <td>220</td>\n",
       "      <td>4.8</td>\n",
       "      <td>North</td>\n",
       "      <td>13</td>\n",
       "    </tr>\n",
       "    <tr>\n",
       "      <th>...</th>\n",
       "      <td>...</td>\n",
       "      <td>...</td>\n",
       "      <td>...</td>\n",
       "      <td>...</td>\n",
       "      <td>...</td>\n",
       "      <td>...</td>\n",
       "      <td>...</td>\n",
       "    </tr>\n",
       "    <tr>\n",
       "      <th>233</th>\n",
       "      <td>234</td>\n",
       "      <td>40</td>\n",
       "      <td>60000</td>\n",
       "      <td>450</td>\n",
       "      <td>7.2</td>\n",
       "      <td>West</td>\n",
       "      <td>20</td>\n",
       "    </tr>\n",
       "    <tr>\n",
       "      <th>234</th>\n",
       "      <td>235</td>\n",
       "      <td>38</td>\n",
       "      <td>59000</td>\n",
       "      <td>430</td>\n",
       "      <td>6.9</td>\n",
       "      <td>North</td>\n",
       "      <td>20</td>\n",
       "    </tr>\n",
       "    <tr>\n",
       "      <th>235</th>\n",
       "      <td>236</td>\n",
       "      <td>54</td>\n",
       "      <td>74000</td>\n",
       "      <td>630</td>\n",
       "      <td>9.4</td>\n",
       "      <td>South</td>\n",
       "      <td>27</td>\n",
       "    </tr>\n",
       "    <tr>\n",
       "      <th>236</th>\n",
       "      <td>237</td>\n",
       "      <td>32</td>\n",
       "      <td>52000</td>\n",
       "      <td>360</td>\n",
       "      <td>5.8</td>\n",
       "      <td>West</td>\n",
       "      <td>18</td>\n",
       "    </tr>\n",
       "    <tr>\n",
       "      <th>237</th>\n",
       "      <td>238</td>\n",
       "      <td>31</td>\n",
       "      <td>51000</td>\n",
       "      <td>340</td>\n",
       "      <td>5.6</td>\n",
       "      <td>North</td>\n",
       "      <td>17</td>\n",
       "    </tr>\n",
       "  </tbody>\n",
       "</table>\n",
       "<p>238 rows × 7 columns</p>\n",
       "</div>"
      ],
      "text/plain": [
       "     user_id  age  annual_income  purchase_amount  loyalty_score region  \\\n",
       "0          1   25          45000              200            4.5  North   \n",
       "1          2   34          55000              350            7.0  South   \n",
       "2          3   45          65000              500            8.0   West   \n",
       "3          4   22          30000              150            3.0   East   \n",
       "4          5   29          47000              220            4.8  North   \n",
       "..       ...  ...            ...              ...            ...    ...   \n",
       "233      234   40          60000              450            7.2   West   \n",
       "234      235   38          59000              430            6.9  North   \n",
       "235      236   54          74000              630            9.4  South   \n",
       "236      237   32          52000              360            5.8   West   \n",
       "237      238   31          51000              340            5.6  North   \n",
       "\n",
       "     purchase_frequency  \n",
       "0                    12  \n",
       "1                    18  \n",
       "2                    22  \n",
       "3                    10  \n",
       "4                    13  \n",
       "..                  ...  \n",
       "233                  20  \n",
       "234                  20  \n",
       "235                  27  \n",
       "236                  18  \n",
       "237                  17  \n",
       "\n",
       "[238 rows x 7 columns]"
      ]
     },
     "execution_count": 4,
     "metadata": {},
     "output_type": "execute_result"
    }
   ],
   "source": [
    "data"
   ]
  },
  {
   "cell_type": "code",
   "execution_count": 5,
   "id": "42005e59",
   "metadata": {},
   "outputs": [
    {
     "data": {
      "text/html": [
       "<div>\n",
       "<style scoped>\n",
       "    .dataframe tbody tr th:only-of-type {\n",
       "        vertical-align: middle;\n",
       "    }\n",
       "\n",
       "    .dataframe tbody tr th {\n",
       "        vertical-align: top;\n",
       "    }\n",
       "\n",
       "    .dataframe thead th {\n",
       "        text-align: right;\n",
       "    }\n",
       "</style>\n",
       "<table border=\"1\" class=\"dataframe\">\n",
       "  <thead>\n",
       "    <tr style=\"text-align: right;\">\n",
       "      <th></th>\n",
       "      <th>user_id</th>\n",
       "      <th>age</th>\n",
       "      <th>annual_income</th>\n",
       "      <th>purchase_amount</th>\n",
       "      <th>loyalty_score</th>\n",
       "      <th>region</th>\n",
       "      <th>purchase_frequency</th>\n",
       "    </tr>\n",
       "  </thead>\n",
       "  <tbody>\n",
       "    <tr>\n",
       "      <th>0</th>\n",
       "      <td>1</td>\n",
       "      <td>25</td>\n",
       "      <td>45000</td>\n",
       "      <td>200</td>\n",
       "      <td>4.5</td>\n",
       "      <td>North</td>\n",
       "      <td>12</td>\n",
       "    </tr>\n",
       "  </tbody>\n",
       "</table>\n",
       "</div>"
      ],
      "text/plain": [
       "   user_id  age  annual_income  purchase_amount  loyalty_score region  \\\n",
       "0        1   25          45000              200            4.5  North   \n",
       "\n",
       "   purchase_frequency  \n",
       "0                  12  "
      ]
     },
     "execution_count": 5,
     "metadata": {},
     "output_type": "execute_result"
    }
   ],
   "source": [
    "data.head(1)"
   ]
  },
  {
   "cell_type": "code",
   "execution_count": 6,
   "id": "d8580227",
   "metadata": {},
   "outputs": [
    {
     "name": "stdout",
     "output_type": "stream",
     "text": [
      "<class 'pandas.core.frame.DataFrame'>\n",
      "RangeIndex: 238 entries, 0 to 237\n",
      "Data columns (total 7 columns):\n",
      " #   Column              Non-Null Count  Dtype  \n",
      "---  ------              --------------  -----  \n",
      " 0   user_id             238 non-null    int64  \n",
      " 1   age                 238 non-null    int64  \n",
      " 2   annual_income       238 non-null    int64  \n",
      " 3   purchase_amount     238 non-null    int64  \n",
      " 4   loyalty_score       238 non-null    float64\n",
      " 5   region              238 non-null    object \n",
      " 6   purchase_frequency  238 non-null    int64  \n",
      "dtypes: float64(1), int64(5), object(1)\n",
      "memory usage: 13.1+ KB\n"
     ]
    }
   ],
   "source": [
    "data.info()"
   ]
  },
  {
   "cell_type": "code",
   "execution_count": 7,
   "id": "ecc68d37",
   "metadata": {},
   "outputs": [
    {
     "data": {
      "text/plain": [
       "user_id               0\n",
       "age                   0\n",
       "annual_income         0\n",
       "purchase_amount       0\n",
       "loyalty_score         0\n",
       "region                0\n",
       "purchase_frequency    0\n",
       "dtype: int64"
      ]
     },
     "execution_count": 7,
     "metadata": {},
     "output_type": "execute_result"
    }
   ],
   "source": [
    "data.isna().sum()"
   ]
  },
  {
   "cell_type": "code",
   "execution_count": 8,
   "id": "a173e7aa",
   "metadata": {},
   "outputs": [
    {
     "data": {
      "text/plain": [
       "user_id               0\n",
       "age                   0\n",
       "annual_income         0\n",
       "purchase_amount       0\n",
       "loyalty_score         0\n",
       "region                0\n",
       "purchase_frequency    0\n",
       "dtype: int64"
      ]
     },
     "execution_count": 8,
     "metadata": {},
     "output_type": "execute_result"
    }
   ],
   "source": [
    "data.isnull().sum()"
   ]
  },
  {
   "cell_type": "code",
   "execution_count": 9,
   "id": "70e792c5",
   "metadata": {},
   "outputs": [
    {
     "data": {
      "text/plain": [
       "Index(['user_id', 'age', 'annual_income', 'purchase_amount', 'loyalty_score',\n",
       "       'region', 'purchase_frequency'],\n",
       "      dtype='object')"
      ]
     },
     "execution_count": 9,
     "metadata": {},
     "output_type": "execute_result"
    }
   ],
   "source": [
    "data.columns"
   ]
  },
  {
   "cell_type": "code",
   "execution_count": 12,
   "id": "1759573e",
   "metadata": {},
   "outputs": [],
   "source": [
    "data= data.rename(columns= {\n",
    "    'user_id':'User ID',\n",
    "    'age': 'Age',\n",
    "    'region': 'Region',\n",
    "    'annual_income': 'Annual Income', \n",
    "    'purchase_amount': 'Purchase Amount', \n",
    "    'loyalty_score': 'Loyalty Score',\n",
    "    'purchase_frequency': 'Purchase Frequency'\n",
    "})"
   ]
  },
  {
   "cell_type": "code",
   "execution_count": 13,
   "id": "cfc83d16",
   "metadata": {},
   "outputs": [
    {
     "data": {
      "text/plain": [
       "Index(['User ID', 'Age', 'Annual Income', 'Purchase Amount', 'Loyalty Score',\n",
       "       'Region', 'Purchase Frequency'],\n",
       "      dtype='object')"
      ]
     },
     "execution_count": 13,
     "metadata": {},
     "output_type": "execute_result"
    }
   ],
   "source": [
    "data.columns"
   ]
  },
  {
   "cell_type": "code",
   "execution_count": 14,
   "id": "eac31d0c",
   "metadata": {},
   "outputs": [
    {
     "data": {
      "text/html": [
       "<div>\n",
       "<style scoped>\n",
       "    .dataframe tbody tr th:only-of-type {\n",
       "        vertical-align: middle;\n",
       "    }\n",
       "\n",
       "    .dataframe tbody tr th {\n",
       "        vertical-align: top;\n",
       "    }\n",
       "\n",
       "    .dataframe thead th {\n",
       "        text-align: right;\n",
       "    }\n",
       "</style>\n",
       "<table border=\"1\" class=\"dataframe\">\n",
       "  <thead>\n",
       "    <tr style=\"text-align: right;\">\n",
       "      <th></th>\n",
       "      <th>User ID</th>\n",
       "      <th>Age</th>\n",
       "      <th>Annual Income</th>\n",
       "      <th>Purchase Amount</th>\n",
       "      <th>Loyalty Score</th>\n",
       "      <th>Region</th>\n",
       "      <th>Purchase Frequency</th>\n",
       "    </tr>\n",
       "  </thead>\n",
       "  <tbody>\n",
       "    <tr>\n",
       "      <th>0</th>\n",
       "      <td>1</td>\n",
       "      <td>25</td>\n",
       "      <td>45000</td>\n",
       "      <td>200</td>\n",
       "      <td>4.5</td>\n",
       "      <td>North</td>\n",
       "      <td>12</td>\n",
       "    </tr>\n",
       "  </tbody>\n",
       "</table>\n",
       "</div>"
      ],
      "text/plain": [
       "   User ID  Age  Annual Income  Purchase Amount  Loyalty Score Region  \\\n",
       "0        1   25          45000              200            4.5  North   \n",
       "\n",
       "   Purchase Frequency  \n",
       "0                  12  "
      ]
     },
     "execution_count": 14,
     "metadata": {},
     "output_type": "execute_result"
    }
   ],
   "source": [
    "data.head(1)"
   ]
  },
  {
   "cell_type": "code",
   "execution_count": 15,
   "id": "836e7848",
   "metadata": {},
   "outputs": [
    {
     "data": {
      "text/plain": [
       "0      12\n",
       "1      18\n",
       "2      22\n",
       "3      10\n",
       "4      13\n",
       "       ..\n",
       "233    20\n",
       "234    20\n",
       "235    27\n",
       "236    18\n",
       "237    17\n",
       "Name: Purchase Frequency, Length: 238, dtype: int64"
      ]
     },
     "execution_count": 15,
     "metadata": {},
     "output_type": "execute_result"
    }
   ],
   "source": [
    "data['Purchase Frequency']"
   ]
  },
  {
   "cell_type": "code",
   "execution_count": 18,
   "id": "5797891b",
   "metadata": {},
   "outputs": [],
   "source": [
    "data= data.rename(columns= {\n",
    "    'Purchase Frequency': 'Number of Purchases'\n",
    "})"
   ]
  },
  {
   "cell_type": "code",
   "execution_count": 19,
   "id": "b5672421",
   "metadata": {},
   "outputs": [
    {
     "data": {
      "text/plain": [
       "Index(['User ID', 'Age', 'Annual Income', 'Purchase Amount', 'Loyalty Score',\n",
       "       'Region', 'Number of Purchases'],\n",
       "      dtype='object')"
      ]
     },
     "execution_count": 19,
     "metadata": {},
     "output_type": "execute_result"
    }
   ],
   "source": [
    "data.columns"
   ]
  },
  {
   "cell_type": "code",
   "execution_count": 20,
   "id": "a6a8c627",
   "metadata": {},
   "outputs": [
    {
     "data": {
      "text/html": [
       "<div>\n",
       "<style scoped>\n",
       "    .dataframe tbody tr th:only-of-type {\n",
       "        vertical-align: middle;\n",
       "    }\n",
       "\n",
       "    .dataframe tbody tr th {\n",
       "        vertical-align: top;\n",
       "    }\n",
       "\n",
       "    .dataframe thead th {\n",
       "        text-align: right;\n",
       "    }\n",
       "</style>\n",
       "<table border=\"1\" class=\"dataframe\">\n",
       "  <thead>\n",
       "    <tr style=\"text-align: right;\">\n",
       "      <th></th>\n",
       "      <th>User ID</th>\n",
       "      <th>Age</th>\n",
       "      <th>Annual Income</th>\n",
       "      <th>Purchase Amount</th>\n",
       "      <th>Loyalty Score</th>\n",
       "      <th>Region</th>\n",
       "      <th>Number of Purchases</th>\n",
       "    </tr>\n",
       "  </thead>\n",
       "  <tbody>\n",
       "    <tr>\n",
       "      <th>0</th>\n",
       "      <td>1</td>\n",
       "      <td>25</td>\n",
       "      <td>45000</td>\n",
       "      <td>200</td>\n",
       "      <td>4.5</td>\n",
       "      <td>North</td>\n",
       "      <td>12</td>\n",
       "    </tr>\n",
       "  </tbody>\n",
       "</table>\n",
       "</div>"
      ],
      "text/plain": [
       "   User ID  Age  Annual Income  Purchase Amount  Loyalty Score Region  \\\n",
       "0        1   25          45000              200            4.5  North   \n",
       "\n",
       "   Number of Purchases  \n",
       "0                   12  "
      ]
     },
     "execution_count": 20,
     "metadata": {},
     "output_type": "execute_result"
    }
   ],
   "source": [
    "data.head(1)"
   ]
  },
  {
   "cell_type": "code",
   "execution_count": 21,
   "id": "d8e40b78",
   "metadata": {},
   "outputs": [],
   "source": [
    "data.to_csv(\"cleaned_customer_purchase_behavior.csv\", index= False)"
   ]
  },
  {
   "cell_type": "code",
   "execution_count": null,
   "id": "ea39c962",
   "metadata": {},
   "outputs": [],
   "source": []
  },
  {
   "cell_type": "code",
   "execution_count": null,
   "id": "814b0bef",
   "metadata": {},
   "outputs": [],
   "source": []
  },
  {
   "cell_type": "code",
   "execution_count": null,
   "id": "c7d5e554",
   "metadata": {},
   "outputs": [],
   "source": []
  },
  {
   "cell_type": "code",
   "execution_count": null,
   "id": "62e5b7fa",
   "metadata": {},
   "outputs": [],
   "source": []
  },
  {
   "cell_type": "code",
   "execution_count": null,
   "id": "0bc3c4f3",
   "metadata": {},
   "outputs": [],
   "source": []
  }
 ],
 "metadata": {
  "kernelspec": {
   "display_name": "Python 3",
   "language": "python",
   "name": "python3"
  },
  "language_info": {
   "codemirror_mode": {
    "name": "ipython",
    "version": 3
   },
   "file_extension": ".py",
   "mimetype": "text/x-python",
   "name": "python",
   "nbconvert_exporter": "python",
   "pygments_lexer": "ipython3",
   "version": "3.12.3"
  }
 },
 "nbformat": 4,
 "nbformat_minor": 5
}
