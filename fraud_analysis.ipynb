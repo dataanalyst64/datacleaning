{
 "cells": [
  {
   "cell_type": "code",
   "execution_count": 1,
   "id": "beef09cd",
   "metadata": {},
   "outputs": [],
   "source": [
    "import pandas as pd"
   ]
  },
  {
   "cell_type": "code",
   "execution_count": 3,
   "id": "e44b9838",
   "metadata": {},
   "outputs": [],
   "source": [
    "data= pd.read_csv(\"synthetic_financial_data.csv\")"
   ]
  },
  {
   "cell_type": "code",
   "execution_count": 4,
   "id": "6822ff72",
   "metadata": {},
   "outputs": [
    {
     "data": {
      "text/html": [
       "<div>\n",
       "<style scoped>\n",
       "    .dataframe tbody tr th:only-of-type {\n",
       "        vertical-align: middle;\n",
       "    }\n",
       "\n",
       "    .dataframe tbody tr th {\n",
       "        vertical-align: top;\n",
       "    }\n",
       "\n",
       "    .dataframe thead th {\n",
       "        text-align: right;\n",
       "    }\n",
       "</style>\n",
       "<table border=\"1\" class=\"dataframe\">\n",
       "  <thead>\n",
       "    <tr style=\"text-align: right;\">\n",
       "      <th></th>\n",
       "      <th>transaction_id</th>\n",
       "      <th>customer_id</th>\n",
       "      <th>merchant_id</th>\n",
       "      <th>amount</th>\n",
       "      <th>transaction_time</th>\n",
       "      <th>is_fraudulent</th>\n",
       "      <th>card_type</th>\n",
       "      <th>location</th>\n",
       "      <th>purchase_category</th>\n",
       "      <th>customer_age</th>\n",
       "      <th>transaction_description</th>\n",
       "    </tr>\n",
       "  </thead>\n",
       "  <tbody>\n",
       "    <tr>\n",
       "      <th>0</th>\n",
       "      <td>1</td>\n",
       "      <td>1082</td>\n",
       "      <td>2027</td>\n",
       "      <td>5758.59</td>\n",
       "      <td>2023-01-01 00:00:00</td>\n",
       "      <td>0</td>\n",
       "      <td>MasterCard</td>\n",
       "      <td>City-30</td>\n",
       "      <td>Gas Station</td>\n",
       "      <td>43</td>\n",
       "      <td>Purchase at Merchant-2027</td>\n",
       "    </tr>\n",
       "  </tbody>\n",
       "</table>\n",
       "</div>"
      ],
      "text/plain": [
       "   transaction_id  customer_id  merchant_id   amount     transaction_time  \\\n",
       "0               1         1082         2027  5758.59  2023-01-01 00:00:00   \n",
       "\n",
       "   is_fraudulent   card_type location purchase_category  customer_age  \\\n",
       "0              0  MasterCard  City-30       Gas Station            43   \n",
       "\n",
       "     transaction_description  \n",
       "0  Purchase at Merchant-2027  "
      ]
     },
     "execution_count": 4,
     "metadata": {},
     "output_type": "execute_result"
    }
   ],
   "source": [
    "data.head(1)"
   ]
  },
  {
   "cell_type": "code",
   "execution_count": 5,
   "id": "ef527145",
   "metadata": {},
   "outputs": [
    {
     "name": "stdout",
     "output_type": "stream",
     "text": [
      "<class 'pandas.core.frame.DataFrame'>\n",
      "RangeIndex: 10000 entries, 0 to 9999\n",
      "Data columns (total 11 columns):\n",
      " #   Column                   Non-Null Count  Dtype  \n",
      "---  ------                   --------------  -----  \n",
      " 0   transaction_id           10000 non-null  int64  \n",
      " 1   customer_id              10000 non-null  int64  \n",
      " 2   merchant_id              10000 non-null  int64  \n",
      " 3   amount                   10000 non-null  float64\n",
      " 4   transaction_time         10000 non-null  object \n",
      " 5   is_fraudulent            10000 non-null  int64  \n",
      " 6   card_type                10000 non-null  object \n",
      " 7   location                 10000 non-null  object \n",
      " 8   purchase_category        10000 non-null  object \n",
      " 9   customer_age             10000 non-null  int64  \n",
      " 10  transaction_description  10000 non-null  object \n",
      "dtypes: float64(1), int64(5), object(5)\n",
      "memory usage: 859.5+ KB\n"
     ]
    }
   ],
   "source": [
    "data.info()"
   ]
  },
  {
   "cell_type": "code",
   "execution_count": 6,
   "id": "6080b799",
   "metadata": {},
   "outputs": [
    {
     "data": {
      "text/plain": [
       "transaction_id             0\n",
       "customer_id                0\n",
       "merchant_id                0\n",
       "amount                     0\n",
       "transaction_time           0\n",
       "is_fraudulent              0\n",
       "card_type                  0\n",
       "location                   0\n",
       "purchase_category          0\n",
       "customer_age               0\n",
       "transaction_description    0\n",
       "dtype: int64"
      ]
     },
     "execution_count": 6,
     "metadata": {},
     "output_type": "execute_result"
    }
   ],
   "source": [
    "data.isna().sum()"
   ]
  },
  {
   "cell_type": "code",
   "execution_count": 7,
   "id": "bcded70e",
   "metadata": {},
   "outputs": [
    {
     "data": {
      "text/plain": [
       "transaction_id             0\n",
       "customer_id                0\n",
       "merchant_id                0\n",
       "amount                     0\n",
       "transaction_time           0\n",
       "is_fraudulent              0\n",
       "card_type                  0\n",
       "location                   0\n",
       "purchase_category          0\n",
       "customer_age               0\n",
       "transaction_description    0\n",
       "dtype: int64"
      ]
     },
     "execution_count": 7,
     "metadata": {},
     "output_type": "execute_result"
    }
   ],
   "source": [
    "data.isnull().sum()"
   ]
  },
  {
   "cell_type": "code",
   "execution_count": 8,
   "id": "6022b6b6",
   "metadata": {},
   "outputs": [
    {
     "data": {
      "text/plain": [
       "Index(['transaction_id', 'customer_id', 'merchant_id', 'amount',\n",
       "       'transaction_time', 'is_fraudulent', 'card_type', 'location',\n",
       "       'purchase_category', 'customer_age', 'transaction_description'],\n",
       "      dtype='object')"
      ]
     },
     "execution_count": 8,
     "metadata": {},
     "output_type": "execute_result"
    }
   ],
   "source": [
    "data.columns"
   ]
  },
  {
   "cell_type": "code",
   "execution_count": 11,
   "id": "d9a9a952",
   "metadata": {},
   "outputs": [],
   "source": [
    "data=data.rename(columns={\n",
    "    'transaction_id': 'Transaction ID', \n",
    "    'customer_id': 'Customer ID', \n",
    "    'merchant_id': 'Merchant ID',\n",
    "    'transaction_time': 'Transaction Time', \n",
    "    'is_fraudulent': 'Fraudulent', \n",
    "    'card_type': 'Card Type',\n",
    "    'purchase_category': 'Purchase Category', \n",
    "    'customer_age': 'Customer Age', \n",
    "    'transaction_description': 'Transaction Description',\n",
    "    'amount': 'Amount',\n",
    "    'location': 'Location'\n",
    "})"
   ]
  },
  {
   "cell_type": "code",
   "execution_count": 12,
   "id": "b9d2ac03",
   "metadata": {},
   "outputs": [
    {
     "data": {
      "text/plain": [
       "Index(['Transaction ID', 'Customer ID', 'Merchant ID', 'Amount',\n",
       "       'Transaction Time', 'Fraudulent', 'Card Type', 'Location',\n",
       "       'Purchase Category', 'Customer Age', 'Transaction Description'],\n",
       "      dtype='object')"
      ]
     },
     "execution_count": 12,
     "metadata": {},
     "output_type": "execute_result"
    }
   ],
   "source": [
    "data.columns"
   ]
  },
  {
   "cell_type": "code",
   "execution_count": 13,
   "id": "f02581bd",
   "metadata": {},
   "outputs": [
    {
     "data": {
      "text/html": [
       "<div>\n",
       "<style scoped>\n",
       "    .dataframe tbody tr th:only-of-type {\n",
       "        vertical-align: middle;\n",
       "    }\n",
       "\n",
       "    .dataframe tbody tr th {\n",
       "        vertical-align: top;\n",
       "    }\n",
       "\n",
       "    .dataframe thead th {\n",
       "        text-align: right;\n",
       "    }\n",
       "</style>\n",
       "<table border=\"1\" class=\"dataframe\">\n",
       "  <thead>\n",
       "    <tr style=\"text-align: right;\">\n",
       "      <th></th>\n",
       "      <th>Transaction ID</th>\n",
       "      <th>Customer ID</th>\n",
       "      <th>Merchant ID</th>\n",
       "      <th>Amount</th>\n",
       "      <th>Transaction Time</th>\n",
       "      <th>Fraudulent</th>\n",
       "      <th>Card Type</th>\n",
       "      <th>Location</th>\n",
       "      <th>Purchase Category</th>\n",
       "      <th>Customer Age</th>\n",
       "      <th>Transaction Description</th>\n",
       "    </tr>\n",
       "  </thead>\n",
       "  <tbody>\n",
       "    <tr>\n",
       "      <th>0</th>\n",
       "      <td>1</td>\n",
       "      <td>1082</td>\n",
       "      <td>2027</td>\n",
       "      <td>5758.59</td>\n",
       "      <td>2023-01-01 00:00:00</td>\n",
       "      <td>0</td>\n",
       "      <td>MasterCard</td>\n",
       "      <td>City-30</td>\n",
       "      <td>Gas Station</td>\n",
       "      <td>43</td>\n",
       "      <td>Purchase at Merchant-2027</td>\n",
       "    </tr>\n",
       "  </tbody>\n",
       "</table>\n",
       "</div>"
      ],
      "text/plain": [
       "   Transaction ID  Customer ID  Merchant ID   Amount     Transaction Time  \\\n",
       "0               1         1082         2027  5758.59  2023-01-01 00:00:00   \n",
       "\n",
       "   Fraudulent   Card Type Location Purchase Category  Customer Age  \\\n",
       "0           0  MasterCard  City-30       Gas Station            43   \n",
       "\n",
       "     Transaction Description  \n",
       "0  Purchase at Merchant-2027  "
      ]
     },
     "execution_count": 13,
     "metadata": {},
     "output_type": "execute_result"
    }
   ],
   "source": [
    "data.head(1)"
   ]
  },
  {
   "cell_type": "code",
   "execution_count": null,
   "id": "84bc8182",
   "metadata": {},
   "outputs": [
    {
     "data": {
      "text/plain": [
       "0       2023-01-01 00:00:00\n",
       "1       2023-01-01 00:00:01\n",
       "2       2023-01-01 00:00:02\n",
       "3       2023-01-01 00:00:03\n",
       "4       2023-01-01 00:00:04\n",
       "               ...         \n",
       "9995    2023-01-01 02:46:35\n",
       "9996    2023-01-01 02:46:36\n",
       "9997    2023-01-01 02:46:37\n",
       "9998    2023-01-01 02:46:38\n",
       "9999    2023-01-01 02:46:39\n",
       "Name: Transaction Time, Length: 10000, dtype: object"
      ]
     },
     "execution_count": 14,
     "metadata": {},
     "output_type": "execute_result"
    }
   ],
   "source": [
    "data['Transaction Time']"
   ]
  },
  {
   "cell_type": "code",
   "execution_count": 15,
   "id": "8e3a0884",
   "metadata": {},
   "outputs": [],
   "source": [
    "data['Transaction Time']= pd.to_datetime(data['Transaction Time'])"
   ]
  },
  {
   "cell_type": "code",
   "execution_count": 16,
   "id": "8792c054",
   "metadata": {},
   "outputs": [
    {
     "data": {
      "text/plain": [
       "0      2023-01-01 00:00:00\n",
       "1      2023-01-01 00:00:01\n",
       "2      2023-01-01 00:00:02\n",
       "3      2023-01-01 00:00:03\n",
       "4      2023-01-01 00:00:04\n",
       "               ...        \n",
       "9995   2023-01-01 02:46:35\n",
       "9996   2023-01-01 02:46:36\n",
       "9997   2023-01-01 02:46:37\n",
       "9998   2023-01-01 02:46:38\n",
       "9999   2023-01-01 02:46:39\n",
       "Name: Transaction Time, Length: 10000, dtype: datetime64[ns]"
      ]
     },
     "execution_count": 16,
     "metadata": {},
     "output_type": "execute_result"
    }
   ],
   "source": [
    "data['Transaction Time']"
   ]
  },
  {
   "cell_type": "code",
   "execution_count": 17,
   "id": "a9f950ce",
   "metadata": {},
   "outputs": [
    {
     "data": {
      "text/html": [
       "<div>\n",
       "<style scoped>\n",
       "    .dataframe tbody tr th:only-of-type {\n",
       "        vertical-align: middle;\n",
       "    }\n",
       "\n",
       "    .dataframe tbody tr th {\n",
       "        vertical-align: top;\n",
       "    }\n",
       "\n",
       "    .dataframe thead th {\n",
       "        text-align: right;\n",
       "    }\n",
       "</style>\n",
       "<table border=\"1\" class=\"dataframe\">\n",
       "  <thead>\n",
       "    <tr style=\"text-align: right;\">\n",
       "      <th></th>\n",
       "      <th>Transaction ID</th>\n",
       "      <th>Customer ID</th>\n",
       "      <th>Merchant ID</th>\n",
       "      <th>Amount</th>\n",
       "      <th>Transaction Time</th>\n",
       "      <th>Fraudulent</th>\n",
       "      <th>Card Type</th>\n",
       "      <th>Location</th>\n",
       "      <th>Purchase Category</th>\n",
       "      <th>Customer Age</th>\n",
       "      <th>Transaction Description</th>\n",
       "    </tr>\n",
       "  </thead>\n",
       "  <tbody>\n",
       "    <tr>\n",
       "      <th>0</th>\n",
       "      <td>1</td>\n",
       "      <td>1082</td>\n",
       "      <td>2027</td>\n",
       "      <td>5758.59</td>\n",
       "      <td>2023-01-01</td>\n",
       "      <td>0</td>\n",
       "      <td>MasterCard</td>\n",
       "      <td>City-30</td>\n",
       "      <td>Gas Station</td>\n",
       "      <td>43</td>\n",
       "      <td>Purchase at Merchant-2027</td>\n",
       "    </tr>\n",
       "  </tbody>\n",
       "</table>\n",
       "</div>"
      ],
      "text/plain": [
       "   Transaction ID  Customer ID  Merchant ID   Amount Transaction Time  \\\n",
       "0               1         1082         2027  5758.59       2023-01-01   \n",
       "\n",
       "   Fraudulent   Card Type Location Purchase Category  Customer Age  \\\n",
       "0           0  MasterCard  City-30       Gas Station            43   \n",
       "\n",
       "     Transaction Description  \n",
       "0  Purchase at Merchant-2027  "
      ]
     },
     "execution_count": 17,
     "metadata": {},
     "output_type": "execute_result"
    }
   ],
   "source": [
    "data.head(1)"
   ]
  },
  {
   "cell_type": "code",
   "execution_count": 18,
   "id": "6bb5aa8e",
   "metadata": {},
   "outputs": [],
   "source": [
    "data.to_csv(\"cleaned_fraud_analysis_data.csv\",index=False)"
   ]
  },
  {
   "cell_type": "code",
   "execution_count": null,
   "id": "1d037032",
   "metadata": {},
   "outputs": [],
   "source": []
  },
  {
   "cell_type": "code",
   "execution_count": null,
   "id": "4fa658ef",
   "metadata": {},
   "outputs": [],
   "source": []
  },
  {
   "cell_type": "code",
   "execution_count": null,
   "id": "d5765ac8",
   "metadata": {},
   "outputs": [],
   "source": []
  }
 ],
 "metadata": {
  "kernelspec": {
   "display_name": "Python 3",
   "language": "python",
   "name": "python3"
  },
  "language_info": {
   "codemirror_mode": {
    "name": "ipython",
    "version": 3
   },
   "file_extension": ".py",
   "mimetype": "text/x-python",
   "name": "python",
   "nbconvert_exporter": "python",
   "pygments_lexer": "ipython3",
   "version": "3.12.3"
  }
 },
 "nbformat": 4,
 "nbformat_minor": 5
}
