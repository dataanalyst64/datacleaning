{
 "cells": [
  {
   "cell_type": "code",
   "execution_count": 1,
   "id": "d9e7bf44",
   "metadata": {},
   "outputs": [],
   "source": [
    "import pandas as pd"
   ]
  },
  {
   "cell_type": "code",
   "execution_count": 3,
   "id": "461ff915",
   "metadata": {},
   "outputs": [],
   "source": [
    "data= pd.read_csv(\"Walmart_customer_purchases.csv\")"
   ]
  },
  {
   "cell_type": "code",
   "execution_count": 4,
   "id": "5eeba650",
   "metadata": {},
   "outputs": [
    {
     "data": {
      "text/html": [
       "<div>\n",
       "<style scoped>\n",
       "    .dataframe tbody tr th:only-of-type {\n",
       "        vertical-align: middle;\n",
       "    }\n",
       "\n",
       "    .dataframe tbody tr th {\n",
       "        vertical-align: top;\n",
       "    }\n",
       "\n",
       "    .dataframe thead th {\n",
       "        text-align: right;\n",
       "    }\n",
       "</style>\n",
       "<table border=\"1\" class=\"dataframe\">\n",
       "  <thead>\n",
       "    <tr style=\"text-align: right;\">\n",
       "      <th></th>\n",
       "      <th>Customer_ID</th>\n",
       "      <th>Age</th>\n",
       "      <th>Gender</th>\n",
       "      <th>City</th>\n",
       "      <th>Category</th>\n",
       "      <th>Product_Name</th>\n",
       "      <th>Purchase_Date</th>\n",
       "      <th>Purchase_Amount</th>\n",
       "      <th>Payment_Method</th>\n",
       "      <th>Discount_Applied</th>\n",
       "      <th>Rating</th>\n",
       "      <th>Repeat_Customer</th>\n",
       "    </tr>\n",
       "  </thead>\n",
       "  <tbody>\n",
       "    <tr>\n",
       "      <th>0</th>\n",
       "      <td>84607c1f-910c-44d5-b89f-e1ee06dd34c0</td>\n",
       "      <td>49</td>\n",
       "      <td>Female</td>\n",
       "      <td>New Cynthia</td>\n",
       "      <td>Electronics</td>\n",
       "      <td>Smartphone</td>\n",
       "      <td>2024-08-30</td>\n",
       "      <td>253.26</td>\n",
       "      <td>Cash on Delivery</td>\n",
       "      <td>No</td>\n",
       "      <td>1</td>\n",
       "      <td>Yes</td>\n",
       "    </tr>\n",
       "  </tbody>\n",
       "</table>\n",
       "</div>"
      ],
      "text/plain": [
       "                            Customer_ID  Age  Gender         City  \\\n",
       "0  84607c1f-910c-44d5-b89f-e1ee06dd34c0   49  Female  New Cynthia   \n",
       "\n",
       "      Category Product_Name Purchase_Date  Purchase_Amount    Payment_Method  \\\n",
       "0  Electronics   Smartphone    2024-08-30           253.26  Cash on Delivery   \n",
       "\n",
       "  Discount_Applied  Rating Repeat_Customer  \n",
       "0               No       1             Yes  "
      ]
     },
     "execution_count": 4,
     "metadata": {},
     "output_type": "execute_result"
    }
   ],
   "source": [
    "data.head(1)"
   ]
  },
  {
   "cell_type": "code",
   "execution_count": 5,
   "id": "1bf9f52a",
   "metadata": {},
   "outputs": [
    {
     "data": {
      "text/plain": [
       "Index(['Customer_ID', 'Age', 'Gender', 'City', 'Category', 'Product_Name',\n",
       "       'Purchase_Date', 'Purchase_Amount', 'Payment_Method',\n",
       "       'Discount_Applied', 'Rating', 'Repeat_Customer'],\n",
       "      dtype='object')"
      ]
     },
     "execution_count": 5,
     "metadata": {},
     "output_type": "execute_result"
    }
   ],
   "source": [
    "data.columns"
   ]
  },
  {
   "cell_type": "code",
   "execution_count": 6,
   "id": "c43501b7",
   "metadata": {},
   "outputs": [],
   "source": [
    "data= data.rename(columns={\n",
    "    'Customer_ID': 'Customer ID',\n",
    "    'Product_Name': 'Product Name',\n",
    "    'Purchase_Date': 'Purchase Date', \n",
    "    'Purchase_Amount': 'Purchase Amount', \n",
    "    'Payment_Method': 'Payment Method',\n",
    "    'Discount_Applied': 'Discount Applied',\n",
    "    'Repeat_Customer': 'Repeat Customer'\n",
    "\n",
    "\n",
    "})"
   ]
  },
  {
   "cell_type": "code",
   "execution_count": 7,
   "id": "63177604",
   "metadata": {},
   "outputs": [
    {
     "data": {
      "text/plain": [
       "Index(['Customer ID', 'Age', 'Gender', 'City', 'Category', 'Product Name',\n",
       "       'Purchase Date', 'Purchase Amount', 'Payment Method',\n",
       "       'Discount Applied', 'Rating', 'Repeat Customer'],\n",
       "      dtype='object')"
      ]
     },
     "execution_count": 7,
     "metadata": {},
     "output_type": "execute_result"
    }
   ],
   "source": [
    "data.columns"
   ]
  },
  {
   "cell_type": "code",
   "execution_count": 8,
   "id": "ce674e7a",
   "metadata": {},
   "outputs": [
    {
     "data": {
      "text/html": [
       "<div>\n",
       "<style scoped>\n",
       "    .dataframe tbody tr th:only-of-type {\n",
       "        vertical-align: middle;\n",
       "    }\n",
       "\n",
       "    .dataframe tbody tr th {\n",
       "        vertical-align: top;\n",
       "    }\n",
       "\n",
       "    .dataframe thead th {\n",
       "        text-align: right;\n",
       "    }\n",
       "</style>\n",
       "<table border=\"1\" class=\"dataframe\">\n",
       "  <thead>\n",
       "    <tr style=\"text-align: right;\">\n",
       "      <th></th>\n",
       "      <th>Customer ID</th>\n",
       "      <th>Age</th>\n",
       "      <th>Gender</th>\n",
       "      <th>City</th>\n",
       "      <th>Category</th>\n",
       "      <th>Product Name</th>\n",
       "      <th>Purchase Date</th>\n",
       "      <th>Purchase Amount</th>\n",
       "      <th>Payment Method</th>\n",
       "      <th>Discount Applied</th>\n",
       "      <th>Rating</th>\n",
       "      <th>Repeat Customer</th>\n",
       "    </tr>\n",
       "  </thead>\n",
       "  <tbody>\n",
       "    <tr>\n",
       "      <th>0</th>\n",
       "      <td>84607c1f-910c-44d5-b89f-e1ee06dd34c0</td>\n",
       "      <td>49</td>\n",
       "      <td>Female</td>\n",
       "      <td>New Cynthia</td>\n",
       "      <td>Electronics</td>\n",
       "      <td>Smartphone</td>\n",
       "      <td>2024-08-30</td>\n",
       "      <td>253.26</td>\n",
       "      <td>Cash on Delivery</td>\n",
       "      <td>No</td>\n",
       "      <td>1</td>\n",
       "      <td>Yes</td>\n",
       "    </tr>\n",
       "  </tbody>\n",
       "</table>\n",
       "</div>"
      ],
      "text/plain": [
       "                            Customer ID  Age  Gender         City  \\\n",
       "0  84607c1f-910c-44d5-b89f-e1ee06dd34c0   49  Female  New Cynthia   \n",
       "\n",
       "      Category Product Name Purchase Date  Purchase Amount    Payment Method  \\\n",
       "0  Electronics   Smartphone    2024-08-30           253.26  Cash on Delivery   \n",
       "\n",
       "  Discount Applied  Rating Repeat Customer  \n",
       "0               No       1             Yes  "
      ]
     },
     "execution_count": 8,
     "metadata": {},
     "output_type": "execute_result"
    }
   ],
   "source": [
    "data.head(1)"
   ]
  },
  {
   "cell_type": "code",
   "execution_count": 9,
   "id": "60f7ecee",
   "metadata": {},
   "outputs": [
    {
     "name": "stdout",
     "output_type": "stream",
     "text": [
      "<class 'pandas.core.frame.DataFrame'>\n",
      "RangeIndex: 50000 entries, 0 to 49999\n",
      "Data columns (total 12 columns):\n",
      " #   Column            Non-Null Count  Dtype  \n",
      "---  ------            --------------  -----  \n",
      " 0   Customer ID       50000 non-null  object \n",
      " 1   Age               50000 non-null  int64  \n",
      " 2   Gender            50000 non-null  object \n",
      " 3   City              50000 non-null  object \n",
      " 4   Category          50000 non-null  object \n",
      " 5   Product Name      50000 non-null  object \n",
      " 6   Purchase Date     50000 non-null  object \n",
      " 7   Purchase Amount   50000 non-null  float64\n",
      " 8   Payment Method    50000 non-null  object \n",
      " 9   Discount Applied  50000 non-null  object \n",
      " 10  Rating            50000 non-null  int64  \n",
      " 11  Repeat Customer   50000 non-null  object \n",
      "dtypes: float64(1), int64(2), object(9)\n",
      "memory usage: 4.6+ MB\n"
     ]
    }
   ],
   "source": [
    "data.info()"
   ]
  },
  {
   "cell_type": "code",
   "execution_count": 10,
   "id": "c4a14fbc",
   "metadata": {},
   "outputs": [],
   "source": [
    "data['Purchase Date'] = pd.to_datetime(data['Purchase Date'])"
   ]
  },
  {
   "cell_type": "code",
   "execution_count": 11,
   "id": "39980765",
   "metadata": {},
   "outputs": [
    {
     "name": "stdout",
     "output_type": "stream",
     "text": [
      "<class 'pandas.core.frame.DataFrame'>\n",
      "RangeIndex: 50000 entries, 0 to 49999\n",
      "Data columns (total 12 columns):\n",
      " #   Column            Non-Null Count  Dtype         \n",
      "---  ------            --------------  -----         \n",
      " 0   Customer ID       50000 non-null  object        \n",
      " 1   Age               50000 non-null  int64         \n",
      " 2   Gender            50000 non-null  object        \n",
      " 3   City              50000 non-null  object        \n",
      " 4   Category          50000 non-null  object        \n",
      " 5   Product Name      50000 non-null  object        \n",
      " 6   Purchase Date     50000 non-null  datetime64[ns]\n",
      " 7   Purchase Amount   50000 non-null  float64       \n",
      " 8   Payment Method    50000 non-null  object        \n",
      " 9   Discount Applied  50000 non-null  object        \n",
      " 10  Rating            50000 non-null  int64         \n",
      " 11  Repeat Customer   50000 non-null  object        \n",
      "dtypes: datetime64[ns](1), float64(1), int64(2), object(8)\n",
      "memory usage: 4.6+ MB\n"
     ]
    }
   ],
   "source": [
    "data.info()"
   ]
  },
  {
   "cell_type": "code",
   "execution_count": 12,
   "id": "62390f76",
   "metadata": {},
   "outputs": [
    {
     "data": {
      "text/plain": [
       "0       2024-08-30\n",
       "1       2024-12-21\n",
       "2       2024-12-26\n",
       "3       2024-11-04\n",
       "4       2024-10-07\n",
       "           ...    \n",
       "49995   2024-11-18\n",
       "49996   2024-11-19\n",
       "49997   2024-02-11\n",
       "49998   2024-08-31\n",
       "49999   2024-09-18\n",
       "Name: Purchase Date, Length: 50000, dtype: datetime64[ns]"
      ]
     },
     "execution_count": 12,
     "metadata": {},
     "output_type": "execute_result"
    }
   ],
   "source": [
    "data['Purchase Date']"
   ]
  },
  {
   "cell_type": "code",
   "execution_count": 13,
   "id": "0b2fff6c",
   "metadata": {},
   "outputs": [],
   "source": [
    "data.to_csv(\"cleaned_walmart data.csv\", index= False)"
   ]
  },
  {
   "cell_type": "code",
   "execution_count": null,
   "id": "e6deb2e8",
   "metadata": {},
   "outputs": [],
   "source": []
  },
  {
   "cell_type": "code",
   "execution_count": null,
   "id": "7f910326",
   "metadata": {},
   "outputs": [],
   "source": []
  }
 ],
 "metadata": {
  "kernelspec": {
   "display_name": "Python 3",
   "language": "python",
   "name": "python3"
  },
  "language_info": {
   "codemirror_mode": {
    "name": "ipython",
    "version": 3
   },
   "file_extension": ".py",
   "mimetype": "text/x-python",
   "name": "python",
   "nbconvert_exporter": "python",
   "pygments_lexer": "ipython3",
   "version": "3.12.3"
  }
 },
 "nbformat": 4,
 "nbformat_minor": 5
}
