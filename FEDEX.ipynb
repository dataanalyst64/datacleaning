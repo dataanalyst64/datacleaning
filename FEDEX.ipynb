{
 "cells": [
  {
   "cell_type": "code",
   "execution_count": 1,
   "id": "1858ac16",
   "metadata": {},
   "outputs": [],
   "source": [
    "import pandas as pd"
   ]
  },
  {
   "cell_type": "code",
   "execution_count": 3,
   "id": "42091473",
   "metadata": {},
   "outputs": [],
   "source": [
    "data=pd.read_csv(\"fedex.csv\")"
   ]
  },
  {
   "cell_type": "code",
   "execution_count": 4,
   "id": "0a82c098",
   "metadata": {},
   "outputs": [
    {
     "data": {
      "text/html": [
       "<div>\n",
       "<style scoped>\n",
       "    .dataframe tbody tr th:only-of-type {\n",
       "        vertical-align: middle;\n",
       "    }\n",
       "\n",
       "    .dataframe tbody tr th {\n",
       "        vertical-align: top;\n",
       "    }\n",
       "\n",
       "    .dataframe thead th {\n",
       "        text-align: right;\n",
       "    }\n",
       "</style>\n",
       "<table border=\"1\" class=\"dataframe\">\n",
       "  <thead>\n",
       "    <tr style=\"text-align: right;\">\n",
       "      <th></th>\n",
       "      <th>Year</th>\n",
       "      <th>Month</th>\n",
       "      <th>DayofMonth</th>\n",
       "      <th>DayOfWeek</th>\n",
       "      <th>Actual_Shipment_Time</th>\n",
       "      <th>Planned_Shipment_Time</th>\n",
       "      <th>Planned_Delivery_Time</th>\n",
       "      <th>Carrier_Name</th>\n",
       "      <th>Carrier_Num</th>\n",
       "      <th>Planned_TimeofTravel</th>\n",
       "      <th>Shipment_Delay</th>\n",
       "      <th>Source</th>\n",
       "      <th>Destination</th>\n",
       "      <th>Distance</th>\n",
       "      <th>Delivery_Status</th>\n",
       "    </tr>\n",
       "  </thead>\n",
       "  <tbody>\n",
       "    <tr>\n",
       "      <th>0</th>\n",
       "      <td>2008</td>\n",
       "      <td>1</td>\n",
       "      <td>3</td>\n",
       "      <td>4</td>\n",
       "      <td>2003.0</td>\n",
       "      <td>1955</td>\n",
       "      <td>2225</td>\n",
       "      <td>WN</td>\n",
       "      <td>335</td>\n",
       "      <td>150.0</td>\n",
       "      <td>8.0</td>\n",
       "      <td>IAD</td>\n",
       "      <td>TPA</td>\n",
       "      <td>810</td>\n",
       "      <td>0.0</td>\n",
       "    </tr>\n",
       "  </tbody>\n",
       "</table>\n",
       "</div>"
      ],
      "text/plain": [
       "   Year  Month  DayofMonth  DayOfWeek  Actual_Shipment_Time  \\\n",
       "0  2008      1           3          4                2003.0   \n",
       "\n",
       "   Planned_Shipment_Time  Planned_Delivery_Time Carrier_Name  Carrier_Num  \\\n",
       "0                   1955                   2225           WN          335   \n",
       "\n",
       "   Planned_TimeofTravel  Shipment_Delay Source Destination  Distance  \\\n",
       "0                 150.0             8.0    IAD         TPA       810   \n",
       "\n",
       "   Delivery_Status  \n",
       "0              0.0  "
      ]
     },
     "execution_count": 4,
     "metadata": {},
     "output_type": "execute_result"
    }
   ],
   "source": [
    "data.head(1)"
   ]
  },
  {
   "cell_type": "code",
   "execution_count": 5,
   "id": "6fbdb703",
   "metadata": {},
   "outputs": [
    {
     "name": "stdout",
     "output_type": "stream",
     "text": [
      "<class 'pandas.core.frame.DataFrame'>\n",
      "RangeIndex: 3604175 entries, 0 to 3604174\n",
      "Data columns (total 15 columns):\n",
      " #   Column                 Dtype  \n",
      "---  ------                 -----  \n",
      " 0   Year                   int64  \n",
      " 1   Month                  int64  \n",
      " 2   DayofMonth             int64  \n",
      " 3   DayOfWeek              int64  \n",
      " 4   Actual_Shipment_Time   float64\n",
      " 5   Planned_Shipment_Time  int64  \n",
      " 6   Planned_Delivery_Time  int64  \n",
      " 7   Carrier_Name           object \n",
      " 8   Carrier_Num            int64  \n",
      " 9   Planned_TimeofTravel   float64\n",
      " 10  Shipment_Delay         float64\n",
      " 11  Source                 object \n",
      " 12  Destination            object \n",
      " 13  Distance               int64  \n",
      " 14  Delivery_Status        float64\n",
      "dtypes: float64(4), int64(8), object(3)\n",
      "memory usage: 412.5+ MB\n"
     ]
    }
   ],
   "source": [
    "data.info()"
   ]
  },
  {
   "cell_type": "code",
   "execution_count": 6,
   "id": "80ef0294",
   "metadata": {},
   "outputs": [
    {
     "data": {
      "text/plain": [
       "Year                         0\n",
       "Month                        0\n",
       "DayofMonth                   0\n",
       "DayOfWeek                    0\n",
       "Actual_Shipment_Time     81602\n",
       "Planned_Shipment_Time        0\n",
       "Planned_Delivery_Time        0\n",
       "Carrier_Name                 0\n",
       "Carrier_Num                  0\n",
       "Planned_TimeofTravel       547\n",
       "Shipment_Delay           81602\n",
       "Source                       0\n",
       "Destination                  0\n",
       "Distance                     0\n",
       "Delivery_Status          81602\n",
       "dtype: int64"
      ]
     },
     "execution_count": 6,
     "metadata": {},
     "output_type": "execute_result"
    }
   ],
   "source": [
    "data.isna().sum()"
   ]
  },
  {
   "cell_type": "code",
   "execution_count": 7,
   "id": "5dc03eeb",
   "metadata": {},
   "outputs": [
    {
     "data": {
      "text/plain": [
       "0          2003.0\n",
       "1           754.0\n",
       "2           628.0\n",
       "3           926.0\n",
       "4          1829.0\n",
       "            ...  \n",
       "3604170    1059.0\n",
       "3604171     555.0\n",
       "3604172     821.0\n",
       "3604173     718.0\n",
       "3604174    1127.0\n",
       "Name: Actual_Shipment_Time, Length: 3604175, dtype: float64"
      ]
     },
     "execution_count": 7,
     "metadata": {},
     "output_type": "execute_result"
    }
   ],
   "source": [
    "data['Actual_Shipment_Time']"
   ]
  },
  {
   "cell_type": "code",
   "execution_count": 8,
   "id": "f2152c80",
   "metadata": {},
   "outputs": [
    {
     "name": "stderr",
     "output_type": "stream",
     "text": [
      "C:\\Users\\DELL\\AppData\\Local\\Temp\\ipykernel_23596\\2740345649.py:1: FutureWarning: Setting an item of incompatible dtype is deprecated and will raise an error in a future version of pandas. Value 'unknown value' has dtype incompatible with float64, please explicitly cast to a compatible dtype first.\n",
      "  data.fillna(\"unknown value\",inplace=True)\n"
     ]
    }
   ],
   "source": [
    "data.fillna(\"unknown value\",inplace=True)"
   ]
  },
  {
   "cell_type": "code",
   "execution_count": 9,
   "id": "1b94846e",
   "metadata": {},
   "outputs": [],
   "source": [
    "data=data.drop_duplicates()"
   ]
  },
  {
   "cell_type": "code",
   "execution_count": 10,
   "id": "e420e68e",
   "metadata": {},
   "outputs": [
    {
     "data": {
      "text/plain": [
       "Index(['Year', 'Month', 'DayofMonth', 'DayOfWeek', 'Actual_Shipment_Time',\n",
       "       'Planned_Shipment_Time', 'Planned_Delivery_Time', 'Carrier_Name',\n",
       "       'Carrier_Num', 'Planned_TimeofTravel', 'Shipment_Delay', 'Source',\n",
       "       'Destination', 'Distance', 'Delivery_Status'],\n",
       "      dtype='object')"
      ]
     },
     "execution_count": 10,
     "metadata": {},
     "output_type": "execute_result"
    }
   ],
   "source": [
    "data.columns"
   ]
  },
  {
   "cell_type": "code",
   "execution_count": 11,
   "id": "6d989b1b",
   "metadata": {},
   "outputs": [],
   "source": [
    "data=data.rename(columns={\n",
    "    'DayofMonth': 'Day Of Month', \n",
    "    'DayOfWeek': 'Day Of Week', \n",
    "    'Actual_Shipment_Time': 'Actual Shipment Time',\n",
    "    'Planned_Shipment_Time': 'Planned Shipment Time', \n",
    "    'Planned_Delivery_Time': 'Planned Delivery Time', \n",
    "    'Carrier_Name': 'Carrier Name',\n",
    "    'Carrier_Num': 'Carrier Number', \n",
    "    'Planned_TimeofTravel': 'Planned Time Of Travel', \n",
    "    'Shipment_Delay': 'Shipment Delay',\n",
    "    'Delivery_Status': 'Delivery Status'\n",
    "})"
   ]
  },
  {
   "cell_type": "code",
   "execution_count": 12,
   "id": "05e32f94",
   "metadata": {},
   "outputs": [
    {
     "data": {
      "text/plain": [
       "Index(['Year', 'Month', 'Day Of Month', 'Day Of Week', 'Actual Shipment Time',\n",
       "       'Planned Shipment Time', 'Planned Delivery Time', 'Carrier Name',\n",
       "       'Carrier Number', 'Planned Time Of Travel', 'Shipment Delay', 'Source',\n",
       "       'Destination', 'Distance', 'Delivery Status'],\n",
       "      dtype='object')"
      ]
     },
     "execution_count": 12,
     "metadata": {},
     "output_type": "execute_result"
    }
   ],
   "source": [
    "data.columns"
   ]
  },
  {
   "cell_type": "code",
   "execution_count": 13,
   "id": "8887d92c",
   "metadata": {},
   "outputs": [
    {
     "name": "stdout",
     "output_type": "stream",
     "text": [
      "<class 'pandas.core.frame.DataFrame'>\n",
      "Index: 3604171 entries, 0 to 3604174\n",
      "Data columns (total 15 columns):\n",
      " #   Column                  Dtype \n",
      "---  ------                  ----- \n",
      " 0   Year                    int64 \n",
      " 1   Month                   int64 \n",
      " 2   Day Of Month            int64 \n",
      " 3   Day Of Week             int64 \n",
      " 4   Actual Shipment Time    object\n",
      " 5   Planned Shipment Time   int64 \n",
      " 6   Planned Delivery Time   int64 \n",
      " 7   Carrier Name            object\n",
      " 8   Carrier Number          int64 \n",
      " 9   Planned Time Of Travel  object\n",
      " 10  Shipment Delay          object\n",
      " 11  Source                  object\n",
      " 12  Destination             object\n",
      " 13  Distance                int64 \n",
      " 14  Delivery Status         object\n",
      "dtypes: int64(8), object(7)\n",
      "memory usage: 440.0+ MB\n"
     ]
    }
   ],
   "source": [
    "data.info()"
   ]
  },
  {
   "cell_type": "code",
   "execution_count": 14,
   "id": "e38695c6",
   "metadata": {},
   "outputs": [
    {
     "data": {
      "text/plain": [
       "Year                      0\n",
       "Month                     0\n",
       "Day Of Month              0\n",
       "Day Of Week               0\n",
       "Actual Shipment Time      0\n",
       "Planned Shipment Time     0\n",
       "Planned Delivery Time     0\n",
       "Carrier Name              0\n",
       "Carrier Number            0\n",
       "Planned Time Of Travel    0\n",
       "Shipment Delay            0\n",
       "Source                    0\n",
       "Destination               0\n",
       "Distance                  0\n",
       "Delivery Status           0\n",
       "dtype: int64"
      ]
     },
     "execution_count": 14,
     "metadata": {},
     "output_type": "execute_result"
    }
   ],
   "source": [
    "data.isna().sum()"
   ]
  },
  {
   "cell_type": "code",
   "execution_count": 15,
   "id": "baf641a5",
   "metadata": {},
   "outputs": [],
   "source": [
    "data.to_csv(\"cleaned_fedex_data.csv\",index=False)"
   ]
  },
  {
   "cell_type": "code",
   "execution_count": null,
   "id": "aec50b87",
   "metadata": {},
   "outputs": [],
   "source": []
  },
  {
   "cell_type": "code",
   "execution_count": null,
   "id": "12665a65",
   "metadata": {},
   "outputs": [],
   "source": []
  }
 ],
 "metadata": {
  "kernelspec": {
   "display_name": "Python 3",
   "language": "python",
   "name": "python3"
  },
  "language_info": {
   "codemirror_mode": {
    "name": "ipython",
    "version": 3
   },
   "file_extension": ".py",
   "mimetype": "text/x-python",
   "name": "python",
   "nbconvert_exporter": "python",
   "pygments_lexer": "ipython3",
   "version": "3.12.3"
  }
 },
 "nbformat": 4,
 "nbformat_minor": 5
}
