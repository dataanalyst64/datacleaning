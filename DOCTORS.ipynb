{
 "cells": [
  {
   "cell_type": "code",
   "execution_count": 1,
   "id": "2eb58591",
   "metadata": {},
   "outputs": [],
   "source": [
    "import pandas as pd"
   ]
  },
  {
   "cell_type": "code",
   "execution_count": 3,
   "id": "8c8e9fba",
   "metadata": {},
   "outputs": [],
   "source": [
    "data=pd.read_csv(\"final_cleansed_data.csv\")"
   ]
  },
  {
   "cell_type": "code",
   "execution_count": 4,
   "id": "79798017",
   "metadata": {},
   "outputs": [
    {
     "data": {
      "text/html": [
       "<div>\n",
       "<style scoped>\n",
       "    .dataframe tbody tr th:only-of-type {\n",
       "        vertical-align: middle;\n",
       "    }\n",
       "\n",
       "    .dataframe tbody tr th {\n",
       "        vertical-align: top;\n",
       "    }\n",
       "\n",
       "    .dataframe thead th {\n",
       "        text-align: right;\n",
       "    }\n",
       "</style>\n",
       "<table border=\"1\" class=\"dataframe\">\n",
       "  <thead>\n",
       "    <tr style=\"text-align: right;\">\n",
       "      <th></th>\n",
       "      <th>Doctor Name</th>\n",
       "      <th>City</th>\n",
       "      <th>Specialization</th>\n",
       "      <th>Doctor Qualification</th>\n",
       "      <th>Experience(Years)</th>\n",
       "      <th>Total_Reviews</th>\n",
       "      <th>Patient Satisfaction Rate(%age)</th>\n",
       "      <th>Avg Time to Patients(mins)</th>\n",
       "      <th>Wait Time(mins)</th>\n",
       "      <th>Hospital Address</th>\n",
       "      <th>Doctors Link</th>\n",
       "      <th>Fee(PKR)</th>\n",
       "    </tr>\n",
       "  </thead>\n",
       "  <tbody>\n",
       "    <tr>\n",
       "      <th>0</th>\n",
       "      <td>Prof. Dr. Syed Shamsuddin</td>\n",
       "      <td>QUETTA</td>\n",
       "      <td>Dermatologist</td>\n",
       "      <td>MBBS, MCPS, FCPS</td>\n",
       "      <td>30.0</td>\n",
       "      <td>827.0</td>\n",
       "      <td>98.0</td>\n",
       "      <td>14.0</td>\n",
       "      <td>13.0</td>\n",
       "      <td>National Hospital, Near Quetta Laboratory Prin...</td>\n",
       "      <td>https://www.marham.pk/doctors/quetta/dermatolo...</td>\n",
       "      <td>5000.0</td>\n",
       "    </tr>\n",
       "  </tbody>\n",
       "</table>\n",
       "</div>"
      ],
      "text/plain": [
       "                 Doctor Name    City Specialization Doctor Qualification  \\\n",
       "0  Prof. Dr. Syed Shamsuddin  QUETTA  Dermatologist     MBBS, MCPS, FCPS   \n",
       "\n",
       "   Experience(Years)  Total_Reviews  Patient Satisfaction Rate(%age)  \\\n",
       "0               30.0          827.0                             98.0   \n",
       "\n",
       "   Avg Time to Patients(mins)  Wait Time(mins)  \\\n",
       "0                        14.0             13.0   \n",
       "\n",
       "                                    Hospital Address  \\\n",
       "0  National Hospital, Near Quetta Laboratory Prin...   \n",
       "\n",
       "                                        Doctors Link  Fee(PKR)  \n",
       "0  https://www.marham.pk/doctors/quetta/dermatolo...    5000.0  "
      ]
     },
     "execution_count": 4,
     "metadata": {},
     "output_type": "execute_result"
    }
   ],
   "source": [
    "data.head(1)"
   ]
  },
  {
   "cell_type": "code",
   "execution_count": 5,
   "id": "441666c6",
   "metadata": {},
   "outputs": [
    {
     "name": "stdout",
     "output_type": "stream",
     "text": [
      "<class 'pandas.core.frame.DataFrame'>\n",
      "RangeIndex: 2652 entries, 0 to 2651\n",
      "Data columns (total 12 columns):\n",
      " #   Column                           Non-Null Count  Dtype  \n",
      "---  ------                           --------------  -----  \n",
      " 0   Doctor Name                      2652 non-null   object \n",
      " 1   City                             2652 non-null   object \n",
      " 2   Specialization                   2652 non-null   object \n",
      " 3   Doctor Qualification             2652 non-null   object \n",
      " 4   Experience(Years)                2652 non-null   float64\n",
      " 5   Total_Reviews                    2652 non-null   float64\n",
      " 6   Patient Satisfaction Rate(%age)  2652 non-null   float64\n",
      " 7   Avg Time to Patients(mins)       2652 non-null   float64\n",
      " 8   Wait Time(mins)                  2652 non-null   float64\n",
      " 9   Hospital Address                 2652 non-null   object \n",
      " 10  Doctors Link                     2652 non-null   object \n",
      " 11  Fee(PKR)                         2652 non-null   float64\n",
      "dtypes: float64(6), object(6)\n",
      "memory usage: 248.8+ KB\n"
     ]
    }
   ],
   "source": [
    "data.info()"
   ]
  },
  {
   "cell_type": "code",
   "execution_count": 6,
   "id": "3fceef89",
   "metadata": {},
   "outputs": [
    {
     "data": {
      "text/plain": [
       "Doctor Name                        0\n",
       "City                               0\n",
       "Specialization                     0\n",
       "Doctor Qualification               0\n",
       "Experience(Years)                  0\n",
       "Total_Reviews                      0\n",
       "Patient Satisfaction Rate(%age)    0\n",
       "Avg Time to Patients(mins)         0\n",
       "Wait Time(mins)                    0\n",
       "Hospital Address                   0\n",
       "Doctors Link                       0\n",
       "Fee(PKR)                           0\n",
       "dtype: int64"
      ]
     },
     "execution_count": 6,
     "metadata": {},
     "output_type": "execute_result"
    }
   ],
   "source": [
    "data.isna().sum()"
   ]
  },
  {
   "cell_type": "code",
   "execution_count": 7,
   "id": "793536b9",
   "metadata": {},
   "outputs": [
    {
     "data": {
      "text/plain": [
       "Index(['Doctor Name', 'City', 'Specialization', 'Doctor Qualification',\n",
       "       'Experience(Years)', 'Total_Reviews', 'Patient Satisfaction Rate(%age)',\n",
       "       'Avg Time to Patients(mins)', 'Wait Time(mins)', 'Hospital Address',\n",
       "       'Doctors Link', 'Fee(PKR)'],\n",
       "      dtype='object')"
      ]
     },
     "execution_count": 7,
     "metadata": {},
     "output_type": "execute_result"
    }
   ],
   "source": [
    "data.columns"
   ]
  },
  {
   "cell_type": "code",
   "execution_count": 8,
   "id": "93a83e1f",
   "metadata": {},
   "outputs": [],
   "source": [
    "data=data.rename(columns={\n",
    "    'Total_Reviews':'Total Reviews'\n",
    "})"
   ]
  },
  {
   "cell_type": "code",
   "execution_count": 9,
   "id": "ab3ca820",
   "metadata": {},
   "outputs": [
    {
     "data": {
      "text/plain": [
       "Index(['Doctor Name', 'City', 'Specialization', 'Doctor Qualification',\n",
       "       'Experience(Years)', 'Total Reviews', 'Patient Satisfaction Rate(%age)',\n",
       "       'Avg Time to Patients(mins)', 'Wait Time(mins)', 'Hospital Address',\n",
       "       'Doctors Link', 'Fee(PKR)'],\n",
       "      dtype='object')"
      ]
     },
     "execution_count": 9,
     "metadata": {},
     "output_type": "execute_result"
    }
   ],
   "source": [
    "data.columns"
   ]
  },
  {
   "cell_type": "code",
   "execution_count": 10,
   "id": "da805a13",
   "metadata": {},
   "outputs": [],
   "source": [
    "data.drop(columns=['Hospital Address','Doctors Link'],inplace=True)"
   ]
  },
  {
   "cell_type": "code",
   "execution_count": 11,
   "id": "7e2dc17a",
   "metadata": {},
   "outputs": [
    {
     "data": {
      "text/plain": [
       "Index(['Doctor Name', 'City', 'Specialization', 'Doctor Qualification',\n",
       "       'Experience(Years)', 'Total Reviews', 'Patient Satisfaction Rate(%age)',\n",
       "       'Avg Time to Patients(mins)', 'Wait Time(mins)', 'Fee(PKR)'],\n",
       "      dtype='object')"
      ]
     },
     "execution_count": 11,
     "metadata": {},
     "output_type": "execute_result"
    }
   ],
   "source": [
    "data.columns"
   ]
  },
  {
   "cell_type": "code",
   "execution_count": 12,
   "id": "942f7e5e",
   "metadata": {},
   "outputs": [
    {
     "data": {
      "text/html": [
       "<div>\n",
       "<style scoped>\n",
       "    .dataframe tbody tr th:only-of-type {\n",
       "        vertical-align: middle;\n",
       "    }\n",
       "\n",
       "    .dataframe tbody tr th {\n",
       "        vertical-align: top;\n",
       "    }\n",
       "\n",
       "    .dataframe thead th {\n",
       "        text-align: right;\n",
       "    }\n",
       "</style>\n",
       "<table border=\"1\" class=\"dataframe\">\n",
       "  <thead>\n",
       "    <tr style=\"text-align: right;\">\n",
       "      <th></th>\n",
       "      <th>Doctor Name</th>\n",
       "      <th>City</th>\n",
       "      <th>Specialization</th>\n",
       "      <th>Doctor Qualification</th>\n",
       "      <th>Experience(Years)</th>\n",
       "      <th>Total Reviews</th>\n",
       "      <th>Patient Satisfaction Rate(%age)</th>\n",
       "      <th>Avg Time to Patients(mins)</th>\n",
       "      <th>Wait Time(mins)</th>\n",
       "      <th>Fee(PKR)</th>\n",
       "    </tr>\n",
       "  </thead>\n",
       "  <tbody>\n",
       "    <tr>\n",
       "      <th>0</th>\n",
       "      <td>Prof. Dr. Syed Shamsuddin</td>\n",
       "      <td>QUETTA</td>\n",
       "      <td>Dermatologist</td>\n",
       "      <td>MBBS, MCPS, FCPS</td>\n",
       "      <td>30.0</td>\n",
       "      <td>827.0</td>\n",
       "      <td>98.0</td>\n",
       "      <td>14.0</td>\n",
       "      <td>13.0</td>\n",
       "      <td>5000.0</td>\n",
       "    </tr>\n",
       "  </tbody>\n",
       "</table>\n",
       "</div>"
      ],
      "text/plain": [
       "                 Doctor Name    City Specialization Doctor Qualification  \\\n",
       "0  Prof. Dr. Syed Shamsuddin  QUETTA  Dermatologist     MBBS, MCPS, FCPS   \n",
       "\n",
       "   Experience(Years)  Total Reviews  Patient Satisfaction Rate(%age)  \\\n",
       "0               30.0          827.0                             98.0   \n",
       "\n",
       "   Avg Time to Patients(mins)  Wait Time(mins)  Fee(PKR)  \n",
       "0                        14.0             13.0    5000.0  "
      ]
     },
     "execution_count": 12,
     "metadata": {},
     "output_type": "execute_result"
    }
   ],
   "source": [
    "data.head(1)"
   ]
  },
  {
   "cell_type": "code",
   "execution_count": 13,
   "id": "ab8e58ad",
   "metadata": {},
   "outputs": [],
   "source": [
    "data.to_csv(\"cleaned_doctors_data.csv\")"
   ]
  },
  {
   "cell_type": "code",
   "execution_count": null,
   "id": "393450e6",
   "metadata": {},
   "outputs": [],
   "source": []
  },
  {
   "cell_type": "code",
   "execution_count": null,
   "id": "1b4ff303",
   "metadata": {},
   "outputs": [],
   "source": []
  }
 ],
 "metadata": {
  "kernelspec": {
   "display_name": "Python 3",
   "language": "python",
   "name": "python3"
  },
  "language_info": {
   "codemirror_mode": {
    "name": "ipython",
    "version": 3
   },
   "file_extension": ".py",
   "mimetype": "text/x-python",
   "name": "python",
   "nbconvert_exporter": "python",
   "pygments_lexer": "ipython3",
   "version": "3.12.3"
  }
 },
 "nbformat": 4,
 "nbformat_minor": 5
}
