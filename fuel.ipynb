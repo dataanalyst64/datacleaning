{
 "cells": [
  {
   "cell_type": "code",
   "execution_count": 1,
   "id": "61c9a6b7",
   "metadata": {},
   "outputs": [],
   "source": [
    "import pandas as pd"
   ]
  },
  {
   "cell_type": "code",
   "execution_count": 2,
   "id": "68971317",
   "metadata": {},
   "outputs": [
    {
     "data": {
      "text/plain": [
       "'2.2.3'"
      ]
     },
     "execution_count": 2,
     "metadata": {},
     "output_type": "execute_result"
    }
   ],
   "source": [
    "pd.__version__"
   ]
  },
  {
   "cell_type": "code",
   "execution_count": 6,
   "id": "6440486e",
   "metadata": {},
   "outputs": [],
   "source": [
    "data = pd.read_csv(\"fuel sales.csv\")"
   ]
  },
  {
   "cell_type": "code",
   "execution_count": 7,
   "id": "cb050572",
   "metadata": {},
   "outputs": [
    {
     "data": {
      "text/html": [
       "<div>\n",
       "<style scoped>\n",
       "    .dataframe tbody tr th:only-of-type {\n",
       "        vertical-align: middle;\n",
       "    }\n",
       "\n",
       "    .dataframe tbody tr th {\n",
       "        vertical-align: top;\n",
       "    }\n",
       "\n",
       "    .dataframe thead th {\n",
       "        text-align: right;\n",
       "    }\n",
       "</style>\n",
       "<table border=\"1\" class=\"dataframe\">\n",
       "  <thead>\n",
       "    <tr style=\"text-align: right;\">\n",
       "      <th></th>\n",
       "      <th>Date</th>\n",
       "      <th>Station_Name</th>\n",
       "      <th>AGO_Sales (L)</th>\n",
       "      <th>PMS_Sales (L)</th>\n",
       "      <th>Lubricant_Sales (L)</th>\n",
       "      <th>Diesel_Sales (L)</th>\n",
       "      <th>LPG_Sales (kg)</th>\n",
       "      <th>Total_Revenue (?)</th>\n",
       "      <th>AGO_Price</th>\n",
       "      <th>PMS_Price</th>\n",
       "      <th>Lubricant_Price</th>\n",
       "      <th>Diesel_Price</th>\n",
       "      <th>LPG_Price</th>\n",
       "      <th>Product_Category</th>\n",
       "      <th>Shift</th>\n",
       "      <th>Supervisor</th>\n",
       "      <th>Weekday</th>\n",
       "    </tr>\n",
       "  </thead>\n",
       "  <tbody>\n",
       "    <tr>\n",
       "      <th>0</th>\n",
       "      <td>2025-01-01</td>\n",
       "      <td>Idimu</td>\n",
       "      <td>9751</td>\n",
       "      <td>14423</td>\n",
       "      <td>991</td>\n",
       "      <td>14362</td>\n",
       "      <td>1407</td>\n",
       "      <td>31642990</td>\n",
       "      <td>750</td>\n",
       "      <td>650</td>\n",
       "      <td>2000</td>\n",
       "      <td>820</td>\n",
       "      <td>850</td>\n",
       "      <td>Lubricant</td>\n",
       "      <td>Morning</td>\n",
       "      <td>Mr. John</td>\n",
       "      <td>Wednesday</td>\n",
       "    </tr>\n",
       "  </tbody>\n",
       "</table>\n",
       "</div>"
      ],
      "text/plain": [
       "         Date Station_Name  AGO_Sales (L)  PMS_Sales (L)  Lubricant_Sales (L)  \\\n",
       "0  2025-01-01        Idimu           9751          14423                  991   \n",
       "\n",
       "   Diesel_Sales (L)  LPG_Sales (kg)  Total_Revenue (?)  AGO_Price  PMS_Price  \\\n",
       "0             14362            1407           31642990        750        650   \n",
       "\n",
       "   Lubricant_Price  Diesel_Price  LPG_Price Product_Category    Shift  \\\n",
       "0             2000           820        850        Lubricant  Morning   \n",
       "\n",
       "  Supervisor    Weekday  \n",
       "0   Mr. John  Wednesday  "
      ]
     },
     "execution_count": 7,
     "metadata": {},
     "output_type": "execute_result"
    }
   ],
   "source": [
    "data.head(1)"
   ]
  },
  {
   "cell_type": "code",
   "execution_count": 8,
   "id": "04f19ff6",
   "metadata": {},
   "outputs": [
    {
     "name": "stdout",
     "output_type": "stream",
     "text": [
      "<class 'pandas.core.frame.DataFrame'>\n",
      "RangeIndex: 500 entries, 0 to 499\n",
      "Data columns (total 17 columns):\n",
      " #   Column               Non-Null Count  Dtype \n",
      "---  ------               --------------  ----- \n",
      " 0   Date                 500 non-null    object\n",
      " 1   Station_Name         500 non-null    object\n",
      " 2   AGO_Sales (L)        500 non-null    int64 \n",
      " 3   PMS_Sales (L)        500 non-null    int64 \n",
      " 4   Lubricant_Sales (L)  500 non-null    int64 \n",
      " 5   Diesel_Sales (L)     500 non-null    int64 \n",
      " 6   LPG_Sales (kg)       500 non-null    int64 \n",
      " 7   Total_Revenue (?)    500 non-null    int64 \n",
      " 8   AGO_Price            500 non-null    int64 \n",
      " 9   PMS_Price            500 non-null    int64 \n",
      " 10  Lubricant_Price      500 non-null    int64 \n",
      " 11  Diesel_Price         500 non-null    int64 \n",
      " 12  LPG_Price            500 non-null    int64 \n",
      " 13  Product_Category     500 non-null    object\n",
      " 14  Shift                500 non-null    object\n",
      " 15  Supervisor           500 non-null    object\n",
      " 16  Weekday              500 non-null    object\n",
      "dtypes: int64(11), object(6)\n",
      "memory usage: 66.5+ KB\n"
     ]
    }
   ],
   "source": [
    "data.info()"
   ]
  },
  {
   "cell_type": "code",
   "execution_count": 9,
   "id": "efe37e08",
   "metadata": {},
   "outputs": [
    {
     "data": {
      "text/plain": [
       "Index(['Date', 'Station_Name', 'AGO_Sales (L)', 'PMS_Sales (L)',\n",
       "       'Lubricant_Sales (L)', 'Diesel_Sales (L)', 'LPG_Sales (kg)',\n",
       "       'Total_Revenue (?)', 'AGO_Price', 'PMS_Price', 'Lubricant_Price',\n",
       "       'Diesel_Price', 'LPG_Price', 'Product_Category', 'Shift', 'Supervisor',\n",
       "       'Weekday'],\n",
       "      dtype='object')"
      ]
     },
     "execution_count": 9,
     "metadata": {},
     "output_type": "execute_result"
    }
   ],
   "source": [
    "data.columns"
   ]
  },
  {
   "cell_type": "code",
   "execution_count": 10,
   "id": "352f6e29",
   "metadata": {},
   "outputs": [],
   "source": [
    "data.drop(columns = \"Weekday\", inplace= True)"
   ]
  },
  {
   "cell_type": "code",
   "execution_count": 11,
   "id": "e7448b2b",
   "metadata": {},
   "outputs": [
    {
     "data": {
      "text/plain": [
       "Index(['Date', 'Station_Name', 'AGO_Sales (L)', 'PMS_Sales (L)',\n",
       "       'Lubricant_Sales (L)', 'Diesel_Sales (L)', 'LPG_Sales (kg)',\n",
       "       'Total_Revenue (?)', 'AGO_Price', 'PMS_Price', 'Lubricant_Price',\n",
       "       'Diesel_Price', 'LPG_Price', 'Product_Category', 'Shift', 'Supervisor'],\n",
       "      dtype='object')"
      ]
     },
     "execution_count": 11,
     "metadata": {},
     "output_type": "execute_result"
    }
   ],
   "source": [
    "data.columns"
   ]
  },
  {
   "cell_type": "code",
   "execution_count": 12,
   "id": "0c9a9674",
   "metadata": {},
   "outputs": [
    {
     "data": {
      "text/html": [
       "<div>\n",
       "<style scoped>\n",
       "    .dataframe tbody tr th:only-of-type {\n",
       "        vertical-align: middle;\n",
       "    }\n",
       "\n",
       "    .dataframe tbody tr th {\n",
       "        vertical-align: top;\n",
       "    }\n",
       "\n",
       "    .dataframe thead th {\n",
       "        text-align: right;\n",
       "    }\n",
       "</style>\n",
       "<table border=\"1\" class=\"dataframe\">\n",
       "  <thead>\n",
       "    <tr style=\"text-align: right;\">\n",
       "      <th></th>\n",
       "      <th>Date</th>\n",
       "      <th>Station_Name</th>\n",
       "      <th>AGO_Sales (L)</th>\n",
       "      <th>PMS_Sales (L)</th>\n",
       "      <th>Lubricant_Sales (L)</th>\n",
       "      <th>Diesel_Sales (L)</th>\n",
       "      <th>LPG_Sales (kg)</th>\n",
       "      <th>Total_Revenue (?)</th>\n",
       "      <th>AGO_Price</th>\n",
       "      <th>PMS_Price</th>\n",
       "      <th>Lubricant_Price</th>\n",
       "      <th>Diesel_Price</th>\n",
       "      <th>LPG_Price</th>\n",
       "      <th>Product_Category</th>\n",
       "      <th>Shift</th>\n",
       "      <th>Supervisor</th>\n",
       "    </tr>\n",
       "  </thead>\n",
       "  <tbody>\n",
       "    <tr>\n",
       "      <th>0</th>\n",
       "      <td>2025-01-01</td>\n",
       "      <td>Idimu</td>\n",
       "      <td>9751</td>\n",
       "      <td>14423</td>\n",
       "      <td>991</td>\n",
       "      <td>14362</td>\n",
       "      <td>1407</td>\n",
       "      <td>31642990</td>\n",
       "      <td>750</td>\n",
       "      <td>650</td>\n",
       "      <td>2000</td>\n",
       "      <td>820</td>\n",
       "      <td>850</td>\n",
       "      <td>Lubricant</td>\n",
       "      <td>Morning</td>\n",
       "      <td>Mr. John</td>\n",
       "    </tr>\n",
       "  </tbody>\n",
       "</table>\n",
       "</div>"
      ],
      "text/plain": [
       "         Date Station_Name  AGO_Sales (L)  PMS_Sales (L)  Lubricant_Sales (L)  \\\n",
       "0  2025-01-01        Idimu           9751          14423                  991   \n",
       "\n",
       "   Diesel_Sales (L)  LPG_Sales (kg)  Total_Revenue (?)  AGO_Price  PMS_Price  \\\n",
       "0             14362            1407           31642990        750        650   \n",
       "\n",
       "   Lubricant_Price  Diesel_Price  LPG_Price Product_Category    Shift  \\\n",
       "0             2000           820        850        Lubricant  Morning   \n",
       "\n",
       "  Supervisor  \n",
       "0   Mr. John  "
      ]
     },
     "execution_count": 12,
     "metadata": {},
     "output_type": "execute_result"
    }
   ],
   "source": [
    "data.head(1)"
   ]
  },
  {
   "cell_type": "code",
   "execution_count": 14,
   "id": "95f26b33",
   "metadata": {},
   "outputs": [],
   "source": [
    "data = data.rename(columns = {\"Station_Name\": \"Station Name\"})"
   ]
  },
  {
   "cell_type": "code",
   "execution_count": 15,
   "id": "1bc6a8d5",
   "metadata": {},
   "outputs": [
    {
     "data": {
      "text/html": [
       "<div>\n",
       "<style scoped>\n",
       "    .dataframe tbody tr th:only-of-type {\n",
       "        vertical-align: middle;\n",
       "    }\n",
       "\n",
       "    .dataframe tbody tr th {\n",
       "        vertical-align: top;\n",
       "    }\n",
       "\n",
       "    .dataframe thead th {\n",
       "        text-align: right;\n",
       "    }\n",
       "</style>\n",
       "<table border=\"1\" class=\"dataframe\">\n",
       "  <thead>\n",
       "    <tr style=\"text-align: right;\">\n",
       "      <th></th>\n",
       "      <th>Date</th>\n",
       "      <th>Station Name</th>\n",
       "      <th>AGO_Sales (L)</th>\n",
       "      <th>PMS_Sales (L)</th>\n",
       "      <th>Lubricant_Sales (L)</th>\n",
       "      <th>Diesel_Sales (L)</th>\n",
       "      <th>LPG_Sales (kg)</th>\n",
       "      <th>Total_Revenue (?)</th>\n",
       "      <th>AGO_Price</th>\n",
       "      <th>PMS_Price</th>\n",
       "      <th>Lubricant_Price</th>\n",
       "      <th>Diesel_Price</th>\n",
       "      <th>LPG_Price</th>\n",
       "      <th>Product_Category</th>\n",
       "      <th>Shift</th>\n",
       "      <th>Supervisor</th>\n",
       "    </tr>\n",
       "  </thead>\n",
       "  <tbody>\n",
       "    <tr>\n",
       "      <th>0</th>\n",
       "      <td>2025-01-01</td>\n",
       "      <td>Idimu</td>\n",
       "      <td>9751</td>\n",
       "      <td>14423</td>\n",
       "      <td>991</td>\n",
       "      <td>14362</td>\n",
       "      <td>1407</td>\n",
       "      <td>31642990</td>\n",
       "      <td>750</td>\n",
       "      <td>650</td>\n",
       "      <td>2000</td>\n",
       "      <td>820</td>\n",
       "      <td>850</td>\n",
       "      <td>Lubricant</td>\n",
       "      <td>Morning</td>\n",
       "      <td>Mr. John</td>\n",
       "    </tr>\n",
       "  </tbody>\n",
       "</table>\n",
       "</div>"
      ],
      "text/plain": [
       "         Date Station Name  AGO_Sales (L)  PMS_Sales (L)  Lubricant_Sales (L)  \\\n",
       "0  2025-01-01        Idimu           9751          14423                  991   \n",
       "\n",
       "   Diesel_Sales (L)  LPG_Sales (kg)  Total_Revenue (?)  AGO_Price  PMS_Price  \\\n",
       "0             14362            1407           31642990        750        650   \n",
       "\n",
       "   Lubricant_Price  Diesel_Price  LPG_Price Product_Category    Shift  \\\n",
       "0             2000           820        850        Lubricant  Morning   \n",
       "\n",
       "  Supervisor  \n",
       "0   Mr. John  "
      ]
     },
     "execution_count": 15,
     "metadata": {},
     "output_type": "execute_result"
    }
   ],
   "source": [
    "data.head(1)"
   ]
  },
  {
   "cell_type": "code",
   "execution_count": 16,
   "id": "8a169081",
   "metadata": {},
   "outputs": [
    {
     "data": {
      "text/plain": [
       "Index(['Date', 'Station Name', 'AGO_Sales (L)', 'PMS_Sales (L)',\n",
       "       'Lubricant_Sales (L)', 'Diesel_Sales (L)', 'LPG_Sales (kg)',\n",
       "       'Total_Revenue (?)', 'AGO_Price', 'PMS_Price', 'Lubricant_Price',\n",
       "       'Diesel_Price', 'LPG_Price', 'Product_Category', 'Shift', 'Supervisor'],\n",
       "      dtype='object')"
      ]
     },
     "execution_count": 16,
     "metadata": {},
     "output_type": "execute_result"
    }
   ],
   "source": [
    "data.columns"
   ]
  },
  {
   "cell_type": "code",
   "execution_count": 19,
   "id": "7d425a10",
   "metadata": {},
   "outputs": [],
   "source": [
    "data = data.rename(columns = {\n",
    "    \"Station_Name\": \"Station Name\",\n",
    "    'AGO_Sales (L)': 'AGO Sales (L)',\n",
    "    'PMS_Sales (L)': 'PMS Sales (L)',\n",
    "    'Lubricant_Sales (L)': 'Lubricant Sales (L)', \n",
    "    'Diesel_Sales (L)': 'Diesel Sales (L)', \n",
    "    'LPG_Sales (kg)': 'LPG Sales (kg)',\n",
    "    'Total_Revenue (?)': 'Total Revenue', \n",
    "    'AGO_Price': 'AGO Price', \n",
    "    'PMS_Price': 'PMS Price', \n",
    "    'Lubricant_Price': 'Lubricant Price',\n",
    "    'Diesel_Price': 'Diesel Price', \n",
    "    'LPG_Price': 'LPG Price', \n",
    "    'Product_Category': 'Product Category'\n",
    "    \n",
    "    })"
   ]
  },
  {
   "cell_type": "code",
   "execution_count": 20,
   "id": "464d9f20",
   "metadata": {},
   "outputs": [
    {
     "data": {
      "text/plain": [
       "Index(['Date', 'Station Name', 'AGO Sales (L)', 'PMS Sales (L)',\n",
       "       'Lubricant Sales (L)', 'Diesel Sales (L)', 'LPG Sales (kg)',\n",
       "       'Total Revenue', 'AGO Price', 'PMS Price', 'Lubricant Price',\n",
       "       'Diesel Price', 'LPG Price', 'Product Category', 'Shift', 'Supervisor'],\n",
       "      dtype='object')"
      ]
     },
     "execution_count": 20,
     "metadata": {},
     "output_type": "execute_result"
    }
   ],
   "source": [
    "data.columns"
   ]
  },
  {
   "cell_type": "code",
   "execution_count": 21,
   "id": "b9ab2227",
   "metadata": {},
   "outputs": [
    {
     "data": {
      "text/html": [
       "<div>\n",
       "<style scoped>\n",
       "    .dataframe tbody tr th:only-of-type {\n",
       "        vertical-align: middle;\n",
       "    }\n",
       "\n",
       "    .dataframe tbody tr th {\n",
       "        vertical-align: top;\n",
       "    }\n",
       "\n",
       "    .dataframe thead th {\n",
       "        text-align: right;\n",
       "    }\n",
       "</style>\n",
       "<table border=\"1\" class=\"dataframe\">\n",
       "  <thead>\n",
       "    <tr style=\"text-align: right;\">\n",
       "      <th></th>\n",
       "      <th>Date</th>\n",
       "      <th>Station Name</th>\n",
       "      <th>AGO Sales (L)</th>\n",
       "      <th>PMS Sales (L)</th>\n",
       "      <th>Lubricant Sales (L)</th>\n",
       "      <th>Diesel Sales (L)</th>\n",
       "      <th>LPG Sales (kg)</th>\n",
       "      <th>Total Revenue</th>\n",
       "      <th>AGO Price</th>\n",
       "      <th>PMS Price</th>\n",
       "      <th>Lubricant Price</th>\n",
       "      <th>Diesel Price</th>\n",
       "      <th>LPG Price</th>\n",
       "      <th>Product Category</th>\n",
       "      <th>Shift</th>\n",
       "      <th>Supervisor</th>\n",
       "    </tr>\n",
       "  </thead>\n",
       "  <tbody>\n",
       "    <tr>\n",
       "      <th>0</th>\n",
       "      <td>2025-01-01</td>\n",
       "      <td>Idimu</td>\n",
       "      <td>9751</td>\n",
       "      <td>14423</td>\n",
       "      <td>991</td>\n",
       "      <td>14362</td>\n",
       "      <td>1407</td>\n",
       "      <td>31642990</td>\n",
       "      <td>750</td>\n",
       "      <td>650</td>\n",
       "      <td>2000</td>\n",
       "      <td>820</td>\n",
       "      <td>850</td>\n",
       "      <td>Lubricant</td>\n",
       "      <td>Morning</td>\n",
       "      <td>Mr. John</td>\n",
       "    </tr>\n",
       "  </tbody>\n",
       "</table>\n",
       "</div>"
      ],
      "text/plain": [
       "         Date Station Name  AGO Sales (L)  PMS Sales (L)  Lubricant Sales (L)  \\\n",
       "0  2025-01-01        Idimu           9751          14423                  991   \n",
       "\n",
       "   Diesel Sales (L)  LPG Sales (kg)  Total Revenue  AGO Price  PMS Price  \\\n",
       "0             14362            1407       31642990        750        650   \n",
       "\n",
       "   Lubricant Price  Diesel Price  LPG Price Product Category    Shift  \\\n",
       "0             2000           820        850        Lubricant  Morning   \n",
       "\n",
       "  Supervisor  \n",
       "0   Mr. John  "
      ]
     },
     "execution_count": 21,
     "metadata": {},
     "output_type": "execute_result"
    }
   ],
   "source": [
    "data.head(1)"
   ]
  },
  {
   "cell_type": "code",
   "execution_count": 23,
   "id": "0f91a21e",
   "metadata": {},
   "outputs": [
    {
     "data": {
      "text/plain": [
       "(500, 16)"
      ]
     },
     "execution_count": 23,
     "metadata": {},
     "output_type": "execute_result"
    }
   ],
   "source": [
    "data.shape"
   ]
  },
  {
   "cell_type": "code",
   "execution_count": 24,
   "id": "26769c62",
   "metadata": {},
   "outputs": [
    {
     "data": {
      "text/plain": [
       "Date                   0\n",
       "Station Name           0\n",
       "AGO Sales (L)          0\n",
       "PMS Sales (L)          0\n",
       "Lubricant Sales (L)    0\n",
       "Diesel Sales (L)       0\n",
       "LPG Sales (kg)         0\n",
       "Total Revenue          0\n",
       "AGO Price              0\n",
       "PMS Price              0\n",
       "Lubricant Price        0\n",
       "Diesel Price           0\n",
       "LPG Price              0\n",
       "Product Category       0\n",
       "Shift                  0\n",
       "Supervisor             0\n",
       "dtype: int64"
      ]
     },
     "execution_count": 24,
     "metadata": {},
     "output_type": "execute_result"
    }
   ],
   "source": [
    "data.isnull().sum()"
   ]
  },
  {
   "cell_type": "code",
   "execution_count": 25,
   "id": "0a330d41",
   "metadata": {},
   "outputs": [
    {
     "data": {
      "text/plain": [
       "Date                   0\n",
       "Station Name           0\n",
       "AGO Sales (L)          0\n",
       "PMS Sales (L)          0\n",
       "Lubricant Sales (L)    0\n",
       "Diesel Sales (L)       0\n",
       "LPG Sales (kg)         0\n",
       "Total Revenue          0\n",
       "AGO Price              0\n",
       "PMS Price              0\n",
       "Lubricant Price        0\n",
       "Diesel Price           0\n",
       "LPG Price              0\n",
       "Product Category       0\n",
       "Shift                  0\n",
       "Supervisor             0\n",
       "dtype: int64"
      ]
     },
     "execution_count": 25,
     "metadata": {},
     "output_type": "execute_result"
    }
   ],
   "source": [
    "data.isna().sum()"
   ]
  },
  {
   "cell_type": "code",
   "execution_count": 26,
   "id": "451dbcdd",
   "metadata": {},
   "outputs": [],
   "source": [
    "data.drop(columns= \"Shift\", inplace= True)"
   ]
  },
  {
   "cell_type": "code",
   "execution_count": 27,
   "id": "59d08919",
   "metadata": {},
   "outputs": [
    {
     "data": {
      "text/plain": [
       "Index(['Date', 'Station Name', 'AGO Sales (L)', 'PMS Sales (L)',\n",
       "       'Lubricant Sales (L)', 'Diesel Sales (L)', 'LPG Sales (kg)',\n",
       "       'Total Revenue', 'AGO Price', 'PMS Price', 'Lubricant Price',\n",
       "       'Diesel Price', 'LPG Price', 'Product Category', 'Supervisor'],\n",
       "      dtype='object')"
      ]
     },
     "execution_count": 27,
     "metadata": {},
     "output_type": "execute_result"
    }
   ],
   "source": [
    "data.columns"
   ]
  },
  {
   "cell_type": "code",
   "execution_count": 28,
   "id": "4b4d4bce",
   "metadata": {},
   "outputs": [
    {
     "data": {
      "text/html": [
       "<div>\n",
       "<style scoped>\n",
       "    .dataframe tbody tr th:only-of-type {\n",
       "        vertical-align: middle;\n",
       "    }\n",
       "\n",
       "    .dataframe tbody tr th {\n",
       "        vertical-align: top;\n",
       "    }\n",
       "\n",
       "    .dataframe thead th {\n",
       "        text-align: right;\n",
       "    }\n",
       "</style>\n",
       "<table border=\"1\" class=\"dataframe\">\n",
       "  <thead>\n",
       "    <tr style=\"text-align: right;\">\n",
       "      <th></th>\n",
       "      <th>Date</th>\n",
       "      <th>Station Name</th>\n",
       "      <th>AGO Sales (L)</th>\n",
       "      <th>PMS Sales (L)</th>\n",
       "      <th>Lubricant Sales (L)</th>\n",
       "      <th>Diesel Sales (L)</th>\n",
       "      <th>LPG Sales (kg)</th>\n",
       "      <th>Total Revenue</th>\n",
       "      <th>AGO Price</th>\n",
       "      <th>PMS Price</th>\n",
       "      <th>Lubricant Price</th>\n",
       "      <th>Diesel Price</th>\n",
       "      <th>LPG Price</th>\n",
       "      <th>Product Category</th>\n",
       "      <th>Supervisor</th>\n",
       "    </tr>\n",
       "  </thead>\n",
       "  <tbody>\n",
       "    <tr>\n",
       "      <th>0</th>\n",
       "      <td>2025-01-01</td>\n",
       "      <td>Idimu</td>\n",
       "      <td>9751</td>\n",
       "      <td>14423</td>\n",
       "      <td>991</td>\n",
       "      <td>14362</td>\n",
       "      <td>1407</td>\n",
       "      <td>31642990</td>\n",
       "      <td>750</td>\n",
       "      <td>650</td>\n",
       "      <td>2000</td>\n",
       "      <td>820</td>\n",
       "      <td>850</td>\n",
       "      <td>Lubricant</td>\n",
       "      <td>Mr. John</td>\n",
       "    </tr>\n",
       "    <tr>\n",
       "      <th>1</th>\n",
       "      <td>2025-01-02</td>\n",
       "      <td>Iwaya</td>\n",
       "      <td>5866</td>\n",
       "      <td>12731</td>\n",
       "      <td>1427</td>\n",
       "      <td>11577</td>\n",
       "      <td>2207</td>\n",
       "      <td>26897740</td>\n",
       "      <td>750</td>\n",
       "      <td>650</td>\n",
       "      <td>2000</td>\n",
       "      <td>820</td>\n",
       "      <td>850</td>\n",
       "      <td>Automotive Fuel</td>\n",
       "      <td>Mrs. Chika</td>\n",
       "    </tr>\n",
       "    <tr>\n",
       "      <th>2</th>\n",
       "      <td>2025-01-03</td>\n",
       "      <td>Maryland</td>\n",
       "      <td>10568</td>\n",
       "      <td>21058</td>\n",
       "      <td>884</td>\n",
       "      <td>14609</td>\n",
       "      <td>2112</td>\n",
       "      <td>37156280</td>\n",
       "      <td>750</td>\n",
       "      <td>650</td>\n",
       "      <td>2000</td>\n",
       "      <td>820</td>\n",
       "      <td>850</td>\n",
       "      <td>Lubricant</td>\n",
       "      <td>Mr. John</td>\n",
       "    </tr>\n",
       "    <tr>\n",
       "      <th>3</th>\n",
       "      <td>2025-01-04</td>\n",
       "      <td>Idimu</td>\n",
       "      <td>11098</td>\n",
       "      <td>11588</td>\n",
       "      <td>679</td>\n",
       "      <td>9188</td>\n",
       "      <td>2465</td>\n",
       "      <td>26843110</td>\n",
       "      <td>750</td>\n",
       "      <td>650</td>\n",
       "      <td>2000</td>\n",
       "      <td>820</td>\n",
       "      <td>850</td>\n",
       "      <td>Automotive Fuel</td>\n",
       "      <td>Ms. Ada</td>\n",
       "    </tr>\n",
       "    <tr>\n",
       "      <th>4</th>\n",
       "      <td>2025-01-05</td>\n",
       "      <td>Iwaya</td>\n",
       "      <td>10284</td>\n",
       "      <td>10074</td>\n",
       "      <td>662</td>\n",
       "      <td>16289</td>\n",
       "      <td>1824</td>\n",
       "      <td>30492480</td>\n",
       "      <td>750</td>\n",
       "      <td>650</td>\n",
       "      <td>2000</td>\n",
       "      <td>820</td>\n",
       "      <td>850</td>\n",
       "      <td>Cooking Gas</td>\n",
       "      <td>Mr. Tunde</td>\n",
       "    </tr>\n",
       "    <tr>\n",
       "      <th>...</th>\n",
       "      <td>...</td>\n",
       "      <td>...</td>\n",
       "      <td>...</td>\n",
       "      <td>...</td>\n",
       "      <td>...</td>\n",
       "      <td>...</td>\n",
       "      <td>...</td>\n",
       "      <td>...</td>\n",
       "      <td>...</td>\n",
       "      <td>...</td>\n",
       "      <td>...</td>\n",
       "      <td>...</td>\n",
       "      <td>...</td>\n",
       "      <td>...</td>\n",
       "      <td>...</td>\n",
       "    </tr>\n",
       "    <tr>\n",
       "      <th>495</th>\n",
       "      <td>2025-02-15</td>\n",
       "      <td>Idimu</td>\n",
       "      <td>5845</td>\n",
       "      <td>15469</td>\n",
       "      <td>595</td>\n",
       "      <td>8390</td>\n",
       "      <td>2751</td>\n",
       "      <td>24846750</td>\n",
       "      <td>750</td>\n",
       "      <td>650</td>\n",
       "      <td>2000</td>\n",
       "      <td>820</td>\n",
       "      <td>850</td>\n",
       "      <td>Lubricant</td>\n",
       "      <td>Mr. Tunde</td>\n",
       "    </tr>\n",
       "    <tr>\n",
       "      <th>496</th>\n",
       "      <td>2025-02-16</td>\n",
       "      <td>Iwaya</td>\n",
       "      <td>6578</td>\n",
       "      <td>17105</td>\n",
       "      <td>1170</td>\n",
       "      <td>18183</td>\n",
       "      <td>2642</td>\n",
       "      <td>35547510</td>\n",
       "      <td>750</td>\n",
       "      <td>650</td>\n",
       "      <td>2000</td>\n",
       "      <td>820</td>\n",
       "      <td>850</td>\n",
       "      <td>Automotive Fuel</td>\n",
       "      <td>Ms. Ada</td>\n",
       "    </tr>\n",
       "    <tr>\n",
       "      <th>497</th>\n",
       "      <td>2025-02-17</td>\n",
       "      <td>Maryland</td>\n",
       "      <td>5797</td>\n",
       "      <td>16975</td>\n",
       "      <td>909</td>\n",
       "      <td>19810</td>\n",
       "      <td>1316</td>\n",
       "      <td>34562300</td>\n",
       "      <td>750</td>\n",
       "      <td>650</td>\n",
       "      <td>2000</td>\n",
       "      <td>820</td>\n",
       "      <td>850</td>\n",
       "      <td>Lubricant</td>\n",
       "      <td>Mr. Tunde</td>\n",
       "    </tr>\n",
       "    <tr>\n",
       "      <th>498</th>\n",
       "      <td>2025-02-18</td>\n",
       "      <td>Idimu</td>\n",
       "      <td>8426</td>\n",
       "      <td>12824</td>\n",
       "      <td>598</td>\n",
       "      <td>15446</td>\n",
       "      <td>1234</td>\n",
       "      <td>29565720</td>\n",
       "      <td>750</td>\n",
       "      <td>650</td>\n",
       "      <td>2000</td>\n",
       "      <td>820</td>\n",
       "      <td>850</td>\n",
       "      <td>Lubricant</td>\n",
       "      <td>Mr. Tunde</td>\n",
       "    </tr>\n",
       "    <tr>\n",
       "      <th>499</th>\n",
       "      <td>2025-02-19</td>\n",
       "      <td>Iwaya</td>\n",
       "      <td>6467</td>\n",
       "      <td>27636</td>\n",
       "      <td>1119</td>\n",
       "      <td>11349</td>\n",
       "      <td>2605</td>\n",
       "      <td>36572080</td>\n",
       "      <td>750</td>\n",
       "      <td>650</td>\n",
       "      <td>2000</td>\n",
       "      <td>820</td>\n",
       "      <td>850</td>\n",
       "      <td>Lubricant</td>\n",
       "      <td>Ms. Ada</td>\n",
       "    </tr>\n",
       "  </tbody>\n",
       "</table>\n",
       "<p>500 rows × 15 columns</p>\n",
       "</div>"
      ],
      "text/plain": [
       "           Date Station Name  AGO Sales (L)  PMS Sales (L)  \\\n",
       "0    2025-01-01        Idimu           9751          14423   \n",
       "1    2025-01-02        Iwaya           5866          12731   \n",
       "2    2025-01-03     Maryland          10568          21058   \n",
       "3    2025-01-04        Idimu          11098          11588   \n",
       "4    2025-01-05        Iwaya          10284          10074   \n",
       "..          ...          ...            ...            ...   \n",
       "495  2025-02-15        Idimu           5845          15469   \n",
       "496  2025-02-16        Iwaya           6578          17105   \n",
       "497  2025-02-17     Maryland           5797          16975   \n",
       "498  2025-02-18        Idimu           8426          12824   \n",
       "499  2025-02-19        Iwaya           6467          27636   \n",
       "\n",
       "     Lubricant Sales (L)  Diesel Sales (L)  LPG Sales (kg)  Total Revenue  \\\n",
       "0                    991             14362            1407       31642990   \n",
       "1                   1427             11577            2207       26897740   \n",
       "2                    884             14609            2112       37156280   \n",
       "3                    679              9188            2465       26843110   \n",
       "4                    662             16289            1824       30492480   \n",
       "..                   ...               ...             ...            ...   \n",
       "495                  595              8390            2751       24846750   \n",
       "496                 1170             18183            2642       35547510   \n",
       "497                  909             19810            1316       34562300   \n",
       "498                  598             15446            1234       29565720   \n",
       "499                 1119             11349            2605       36572080   \n",
       "\n",
       "     AGO Price  PMS Price  Lubricant Price  Diesel Price  LPG Price  \\\n",
       "0          750        650             2000           820        850   \n",
       "1          750        650             2000           820        850   \n",
       "2          750        650             2000           820        850   \n",
       "3          750        650             2000           820        850   \n",
       "4          750        650             2000           820        850   \n",
       "..         ...        ...              ...           ...        ...   \n",
       "495        750        650             2000           820        850   \n",
       "496        750        650             2000           820        850   \n",
       "497        750        650             2000           820        850   \n",
       "498        750        650             2000           820        850   \n",
       "499        750        650             2000           820        850   \n",
       "\n",
       "    Product Category  Supervisor  \n",
       "0          Lubricant    Mr. John  \n",
       "1    Automotive Fuel  Mrs. Chika  \n",
       "2          Lubricant    Mr. John  \n",
       "3    Automotive Fuel     Ms. Ada  \n",
       "4        Cooking Gas   Mr. Tunde  \n",
       "..               ...         ...  \n",
       "495        Lubricant   Mr. Tunde  \n",
       "496  Automotive Fuel     Ms. Ada  \n",
       "497        Lubricant   Mr. Tunde  \n",
       "498        Lubricant   Mr. Tunde  \n",
       "499        Lubricant     Ms. Ada  \n",
       "\n",
       "[500 rows x 15 columns]"
      ]
     },
     "execution_count": 28,
     "metadata": {},
     "output_type": "execute_result"
    }
   ],
   "source": [
    "data"
   ]
  },
  {
   "cell_type": "code",
   "execution_count": 29,
   "id": "5f099a67",
   "metadata": {},
   "outputs": [
    {
     "data": {
      "text/html": [
       "<div>\n",
       "<style scoped>\n",
       "    .dataframe tbody tr th:only-of-type {\n",
       "        vertical-align: middle;\n",
       "    }\n",
       "\n",
       "    .dataframe tbody tr th {\n",
       "        vertical-align: top;\n",
       "    }\n",
       "\n",
       "    .dataframe thead th {\n",
       "        text-align: right;\n",
       "    }\n",
       "</style>\n",
       "<table border=\"1\" class=\"dataframe\">\n",
       "  <thead>\n",
       "    <tr style=\"text-align: right;\">\n",
       "      <th></th>\n",
       "      <th>Date</th>\n",
       "      <th>Station Name</th>\n",
       "      <th>AGO Sales (L)</th>\n",
       "      <th>PMS Sales (L)</th>\n",
       "      <th>Lubricant Sales (L)</th>\n",
       "      <th>Diesel Sales (L)</th>\n",
       "      <th>LPG Sales (kg)</th>\n",
       "      <th>Total Revenue</th>\n",
       "      <th>AGO Price</th>\n",
       "      <th>PMS Price</th>\n",
       "      <th>Lubricant Price</th>\n",
       "      <th>Diesel Price</th>\n",
       "      <th>LPG Price</th>\n",
       "      <th>Product Category</th>\n",
       "      <th>Supervisor</th>\n",
       "    </tr>\n",
       "  </thead>\n",
       "  <tbody>\n",
       "    <tr>\n",
       "      <th>0</th>\n",
       "      <td>2025-01-01</td>\n",
       "      <td>Idimu</td>\n",
       "      <td>9751</td>\n",
       "      <td>14423</td>\n",
       "      <td>991</td>\n",
       "      <td>14362</td>\n",
       "      <td>1407</td>\n",
       "      <td>31642990</td>\n",
       "      <td>750</td>\n",
       "      <td>650</td>\n",
       "      <td>2000</td>\n",
       "      <td>820</td>\n",
       "      <td>850</td>\n",
       "      <td>Lubricant</td>\n",
       "      <td>Mr. John</td>\n",
       "    </tr>\n",
       "  </tbody>\n",
       "</table>\n",
       "</div>"
      ],
      "text/plain": [
       "         Date Station Name  AGO Sales (L)  PMS Sales (L)  Lubricant Sales (L)  \\\n",
       "0  2025-01-01        Idimu           9751          14423                  991   \n",
       "\n",
       "   Diesel Sales (L)  LPG Sales (kg)  Total Revenue  AGO Price  PMS Price  \\\n",
       "0             14362            1407       31642990        750        650   \n",
       "\n",
       "   Lubricant Price  Diesel Price  LPG Price Product Category Supervisor  \n",
       "0             2000           820        850        Lubricant   Mr. John  "
      ]
     },
     "execution_count": 29,
     "metadata": {},
     "output_type": "execute_result"
    }
   ],
   "source": [
    "data.head(1)"
   ]
  },
  {
   "cell_type": "code",
   "execution_count": 30,
   "id": "d2ee2962",
   "metadata": {},
   "outputs": [],
   "source": [
    "data.to_csv(\"cleaned fuel data.csv\", index= False)"
   ]
  },
  {
   "cell_type": "code",
   "execution_count": null,
   "id": "f9771569",
   "metadata": {},
   "outputs": [],
   "source": []
  },
  {
   "cell_type": "code",
   "execution_count": null,
   "id": "e02da3a3",
   "metadata": {},
   "outputs": [],
   "source": []
  },
  {
   "cell_type": "code",
   "execution_count": null,
   "id": "7728e9f9",
   "metadata": {},
   "outputs": [],
   "source": []
  },
  {
   "cell_type": "code",
   "execution_count": null,
   "id": "fd3ece39",
   "metadata": {},
   "outputs": [],
   "source": []
  },
  {
   "cell_type": "code",
   "execution_count": null,
   "id": "2bbbb63b",
   "metadata": {},
   "outputs": [],
   "source": []
  }
 ],
 "metadata": {
  "kernelspec": {
   "display_name": "Python 3",
   "language": "python",
   "name": "python3"
  },
  "language_info": {
   "codemirror_mode": {
    "name": "ipython",
    "version": 3
   },
   "file_extension": ".py",
   "mimetype": "text/x-python",
   "name": "python",
   "nbconvert_exporter": "python",
   "pygments_lexer": "ipython3",
   "version": "3.12.3"
  }
 },
 "nbformat": 4,
 "nbformat_minor": 5
}
