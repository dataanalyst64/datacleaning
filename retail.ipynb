{
 "cells": [
  {
   "cell_type": "code",
   "execution_count": 1,
   "id": "e6d46138",
   "metadata": {},
   "outputs": [],
   "source": [
    "import pandas as pd"
   ]
  },
  {
   "cell_type": "code",
   "execution_count": 3,
   "id": "245b2320",
   "metadata": {},
   "outputs": [],
   "source": [
    "data= pd.read_csv(\"retail_sales_dataset.csv\")"
   ]
  },
  {
   "cell_type": "code",
   "execution_count": 4,
   "id": "392739b3",
   "metadata": {},
   "outputs": [
    {
     "data": {
      "text/html": [
       "<div>\n",
       "<style scoped>\n",
       "    .dataframe tbody tr th:only-of-type {\n",
       "        vertical-align: middle;\n",
       "    }\n",
       "\n",
       "    .dataframe tbody tr th {\n",
       "        vertical-align: top;\n",
       "    }\n",
       "\n",
       "    .dataframe thead th {\n",
       "        text-align: right;\n",
       "    }\n",
       "</style>\n",
       "<table border=\"1\" class=\"dataframe\">\n",
       "  <thead>\n",
       "    <tr style=\"text-align: right;\">\n",
       "      <th></th>\n",
       "      <th>Transaction ID</th>\n",
       "      <th>Date</th>\n",
       "      <th>Customer ID</th>\n",
       "      <th>Gender</th>\n",
       "      <th>Age</th>\n",
       "      <th>Product Category</th>\n",
       "      <th>Quantity</th>\n",
       "      <th>Price per Unit</th>\n",
       "      <th>Total Amount</th>\n",
       "    </tr>\n",
       "  </thead>\n",
       "  <tbody>\n",
       "    <tr>\n",
       "      <th>0</th>\n",
       "      <td>1</td>\n",
       "      <td>2023-11-24</td>\n",
       "      <td>CUST001</td>\n",
       "      <td>Male</td>\n",
       "      <td>34</td>\n",
       "      <td>Beauty</td>\n",
       "      <td>3</td>\n",
       "      <td>50</td>\n",
       "      <td>150</td>\n",
       "    </tr>\n",
       "    <tr>\n",
       "      <th>1</th>\n",
       "      <td>2</td>\n",
       "      <td>2023-02-27</td>\n",
       "      <td>CUST002</td>\n",
       "      <td>Female</td>\n",
       "      <td>26</td>\n",
       "      <td>Clothing</td>\n",
       "      <td>2</td>\n",
       "      <td>500</td>\n",
       "      <td>1000</td>\n",
       "    </tr>\n",
       "    <tr>\n",
       "      <th>2</th>\n",
       "      <td>3</td>\n",
       "      <td>2023-01-13</td>\n",
       "      <td>CUST003</td>\n",
       "      <td>Male</td>\n",
       "      <td>50</td>\n",
       "      <td>Electronics</td>\n",
       "      <td>1</td>\n",
       "      <td>30</td>\n",
       "      <td>30</td>\n",
       "    </tr>\n",
       "    <tr>\n",
       "      <th>3</th>\n",
       "      <td>4</td>\n",
       "      <td>2023-05-21</td>\n",
       "      <td>CUST004</td>\n",
       "      <td>Male</td>\n",
       "      <td>37</td>\n",
       "      <td>Clothing</td>\n",
       "      <td>1</td>\n",
       "      <td>500</td>\n",
       "      <td>500</td>\n",
       "    </tr>\n",
       "    <tr>\n",
       "      <th>4</th>\n",
       "      <td>5</td>\n",
       "      <td>2023-05-06</td>\n",
       "      <td>CUST005</td>\n",
       "      <td>Male</td>\n",
       "      <td>30</td>\n",
       "      <td>Beauty</td>\n",
       "      <td>2</td>\n",
       "      <td>50</td>\n",
       "      <td>100</td>\n",
       "    </tr>\n",
       "    <tr>\n",
       "      <th>...</th>\n",
       "      <td>...</td>\n",
       "      <td>...</td>\n",
       "      <td>...</td>\n",
       "      <td>...</td>\n",
       "      <td>...</td>\n",
       "      <td>...</td>\n",
       "      <td>...</td>\n",
       "      <td>...</td>\n",
       "      <td>...</td>\n",
       "    </tr>\n",
       "    <tr>\n",
       "      <th>995</th>\n",
       "      <td>996</td>\n",
       "      <td>2023-05-16</td>\n",
       "      <td>CUST996</td>\n",
       "      <td>Male</td>\n",
       "      <td>62</td>\n",
       "      <td>Clothing</td>\n",
       "      <td>1</td>\n",
       "      <td>50</td>\n",
       "      <td>50</td>\n",
       "    </tr>\n",
       "    <tr>\n",
       "      <th>996</th>\n",
       "      <td>997</td>\n",
       "      <td>2023-11-17</td>\n",
       "      <td>CUST997</td>\n",
       "      <td>Male</td>\n",
       "      <td>52</td>\n",
       "      <td>Beauty</td>\n",
       "      <td>3</td>\n",
       "      <td>30</td>\n",
       "      <td>90</td>\n",
       "    </tr>\n",
       "    <tr>\n",
       "      <th>997</th>\n",
       "      <td>998</td>\n",
       "      <td>2023-10-29</td>\n",
       "      <td>CUST998</td>\n",
       "      <td>Female</td>\n",
       "      <td>23</td>\n",
       "      <td>Beauty</td>\n",
       "      <td>4</td>\n",
       "      <td>25</td>\n",
       "      <td>100</td>\n",
       "    </tr>\n",
       "    <tr>\n",
       "      <th>998</th>\n",
       "      <td>999</td>\n",
       "      <td>2023-12-05</td>\n",
       "      <td>CUST999</td>\n",
       "      <td>Female</td>\n",
       "      <td>36</td>\n",
       "      <td>Electronics</td>\n",
       "      <td>3</td>\n",
       "      <td>50</td>\n",
       "      <td>150</td>\n",
       "    </tr>\n",
       "    <tr>\n",
       "      <th>999</th>\n",
       "      <td>1000</td>\n",
       "      <td>2023-04-12</td>\n",
       "      <td>CUST1000</td>\n",
       "      <td>Male</td>\n",
       "      <td>47</td>\n",
       "      <td>Electronics</td>\n",
       "      <td>4</td>\n",
       "      <td>30</td>\n",
       "      <td>120</td>\n",
       "    </tr>\n",
       "  </tbody>\n",
       "</table>\n",
       "<p>1000 rows × 9 columns</p>\n",
       "</div>"
      ],
      "text/plain": [
       "     Transaction ID        Date Customer ID  Gender  Age Product Category  \\\n",
       "0                 1  2023-11-24     CUST001    Male   34           Beauty   \n",
       "1                 2  2023-02-27     CUST002  Female   26         Clothing   \n",
       "2                 3  2023-01-13     CUST003    Male   50      Electronics   \n",
       "3                 4  2023-05-21     CUST004    Male   37         Clothing   \n",
       "4                 5  2023-05-06     CUST005    Male   30           Beauty   \n",
       "..              ...         ...         ...     ...  ...              ...   \n",
       "995             996  2023-05-16     CUST996    Male   62         Clothing   \n",
       "996             997  2023-11-17     CUST997    Male   52           Beauty   \n",
       "997             998  2023-10-29     CUST998  Female   23           Beauty   \n",
       "998             999  2023-12-05     CUST999  Female   36      Electronics   \n",
       "999            1000  2023-04-12    CUST1000    Male   47      Electronics   \n",
       "\n",
       "     Quantity  Price per Unit  Total Amount  \n",
       "0           3              50           150  \n",
       "1           2             500          1000  \n",
       "2           1              30            30  \n",
       "3           1             500           500  \n",
       "4           2              50           100  \n",
       "..        ...             ...           ...  \n",
       "995         1              50            50  \n",
       "996         3              30            90  \n",
       "997         4              25           100  \n",
       "998         3              50           150  \n",
       "999         4              30           120  \n",
       "\n",
       "[1000 rows x 9 columns]"
      ]
     },
     "execution_count": 4,
     "metadata": {},
     "output_type": "execute_result"
    }
   ],
   "source": [
    "data"
   ]
  },
  {
   "cell_type": "code",
   "execution_count": 5,
   "id": "66d4b849",
   "metadata": {},
   "outputs": [
    {
     "data": {
      "text/html": [
       "<div>\n",
       "<style scoped>\n",
       "    .dataframe tbody tr th:only-of-type {\n",
       "        vertical-align: middle;\n",
       "    }\n",
       "\n",
       "    .dataframe tbody tr th {\n",
       "        vertical-align: top;\n",
       "    }\n",
       "\n",
       "    .dataframe thead th {\n",
       "        text-align: right;\n",
       "    }\n",
       "</style>\n",
       "<table border=\"1\" class=\"dataframe\">\n",
       "  <thead>\n",
       "    <tr style=\"text-align: right;\">\n",
       "      <th></th>\n",
       "      <th>Transaction ID</th>\n",
       "      <th>Date</th>\n",
       "      <th>Customer ID</th>\n",
       "      <th>Gender</th>\n",
       "      <th>Age</th>\n",
       "      <th>Product Category</th>\n",
       "      <th>Quantity</th>\n",
       "      <th>Price per Unit</th>\n",
       "      <th>Total Amount</th>\n",
       "    </tr>\n",
       "  </thead>\n",
       "  <tbody>\n",
       "    <tr>\n",
       "      <th>0</th>\n",
       "      <td>1</td>\n",
       "      <td>2023-11-24</td>\n",
       "      <td>CUST001</td>\n",
       "      <td>Male</td>\n",
       "      <td>34</td>\n",
       "      <td>Beauty</td>\n",
       "      <td>3</td>\n",
       "      <td>50</td>\n",
       "      <td>150</td>\n",
       "    </tr>\n",
       "  </tbody>\n",
       "</table>\n",
       "</div>"
      ],
      "text/plain": [
       "   Transaction ID        Date Customer ID Gender  Age Product Category  \\\n",
       "0               1  2023-11-24     CUST001   Male   34           Beauty   \n",
       "\n",
       "   Quantity  Price per Unit  Total Amount  \n",
       "0         3              50           150  "
      ]
     },
     "execution_count": 5,
     "metadata": {},
     "output_type": "execute_result"
    }
   ],
   "source": [
    "data.head(1)"
   ]
  },
  {
   "cell_type": "code",
   "execution_count": 6,
   "id": "8f5a0811",
   "metadata": {},
   "outputs": [
    {
     "data": {
      "text/plain": [
       "Index(['Transaction ID', 'Date', 'Customer ID', 'Gender', 'Age',\n",
       "       'Product Category', 'Quantity', 'Price per Unit', 'Total Amount'],\n",
       "      dtype='object')"
      ]
     },
     "execution_count": 6,
     "metadata": {},
     "output_type": "execute_result"
    }
   ],
   "source": [
    "data.columns"
   ]
  },
  {
   "cell_type": "code",
   "execution_count": 7,
   "id": "633f1ae0",
   "metadata": {},
   "outputs": [
    {
     "name": "stdout",
     "output_type": "stream",
     "text": [
      "<class 'pandas.core.frame.DataFrame'>\n",
      "RangeIndex: 1000 entries, 0 to 999\n",
      "Data columns (total 9 columns):\n",
      " #   Column            Non-Null Count  Dtype \n",
      "---  ------            --------------  ----- \n",
      " 0   Transaction ID    1000 non-null   int64 \n",
      " 1   Date              1000 non-null   object\n",
      " 2   Customer ID       1000 non-null   object\n",
      " 3   Gender            1000 non-null   object\n",
      " 4   Age               1000 non-null   int64 \n",
      " 5   Product Category  1000 non-null   object\n",
      " 6   Quantity          1000 non-null   int64 \n",
      " 7   Price per Unit    1000 non-null   int64 \n",
      " 8   Total Amount      1000 non-null   int64 \n",
      "dtypes: int64(5), object(4)\n",
      "memory usage: 70.4+ KB\n"
     ]
    }
   ],
   "source": [
    "data.info()"
   ]
  },
  {
   "cell_type": "code",
   "execution_count": 8,
   "id": "6a785840",
   "metadata": {},
   "outputs": [
    {
     "data": {
      "text/plain": [
       "Transaction ID      0\n",
       "Date                0\n",
       "Customer ID         0\n",
       "Gender              0\n",
       "Age                 0\n",
       "Product Category    0\n",
       "Quantity            0\n",
       "Price per Unit      0\n",
       "Total Amount        0\n",
       "dtype: int64"
      ]
     },
     "execution_count": 8,
     "metadata": {},
     "output_type": "execute_result"
    }
   ],
   "source": [
    "data.isna().sum()"
   ]
  },
  {
   "cell_type": "code",
   "execution_count": 9,
   "id": "aa24b235",
   "metadata": {},
   "outputs": [
    {
     "data": {
      "text/plain": [
       "Transaction ID      0\n",
       "Date                0\n",
       "Customer ID         0\n",
       "Gender              0\n",
       "Age                 0\n",
       "Product Category    0\n",
       "Quantity            0\n",
       "Price per Unit      0\n",
       "Total Amount        0\n",
       "dtype: int64"
      ]
     },
     "execution_count": 9,
     "metadata": {},
     "output_type": "execute_result"
    }
   ],
   "source": [
    "data.isnull().sum()"
   ]
  },
  {
   "cell_type": "code",
   "execution_count": 10,
   "id": "e1d7e899",
   "metadata": {},
   "outputs": [
    {
     "data": {
      "text/plain": [
       "Index(['Transaction ID', 'Date', 'Customer ID', 'Gender', 'Age',\n",
       "       'Product Category', 'Quantity', 'Price per Unit', 'Total Amount'],\n",
       "      dtype='object')"
      ]
     },
     "execution_count": 10,
     "metadata": {},
     "output_type": "execute_result"
    }
   ],
   "source": [
    "data.columns"
   ]
  },
  {
   "cell_type": "code",
   "execution_count": 11,
   "id": "9d55dab4",
   "metadata": {},
   "outputs": [
    {
     "data": {
      "text/plain": [
       "0      2023-11-24\n",
       "1      2023-02-27\n",
       "2      2023-01-13\n",
       "3      2023-05-21\n",
       "4      2023-05-06\n",
       "          ...    \n",
       "995    2023-05-16\n",
       "996    2023-11-17\n",
       "997    2023-10-29\n",
       "998    2023-12-05\n",
       "999    2023-04-12\n",
       "Name: Date, Length: 1000, dtype: object"
      ]
     },
     "execution_count": 11,
     "metadata": {},
     "output_type": "execute_result"
    }
   ],
   "source": [
    "#we can extract month from date and year \n",
    "data['Date']"
   ]
  },
  {
   "cell_type": "code",
   "execution_count": 13,
   "id": "c14a3edf",
   "metadata": {},
   "outputs": [],
   "source": [
    "data['Date']= pd.to_datetime(data['Date'])"
   ]
  },
  {
   "cell_type": "code",
   "execution_count": 17,
   "id": "c21daf58",
   "metadata": {},
   "outputs": [],
   "source": [
    "data.to_csv(\"cleaned_retail_data.csv\",index= False)"
   ]
  },
  {
   "cell_type": "code",
   "execution_count": null,
   "id": "15c9b928",
   "metadata": {},
   "outputs": [],
   "source": []
  },
  {
   "cell_type": "code",
   "execution_count": null,
   "id": "89b6a7fd",
   "metadata": {},
   "outputs": [],
   "source": []
  },
  {
   "cell_type": "code",
   "execution_count": null,
   "id": "56ac17e3",
   "metadata": {},
   "outputs": [],
   "source": []
  },
  {
   "cell_type": "code",
   "execution_count": null,
   "id": "6408803a",
   "metadata": {},
   "outputs": [],
   "source": []
  },
  {
   "cell_type": "code",
   "execution_count": null,
   "id": "c30b87b6",
   "metadata": {},
   "outputs": [],
   "source": []
  }
 ],
 "metadata": {
  "kernelspec": {
   "display_name": "Python 3",
   "language": "python",
   "name": "python3"
  },
  "language_info": {
   "codemirror_mode": {
    "name": "ipython",
    "version": 3
   },
   "file_extension": ".py",
   "mimetype": "text/x-python",
   "name": "python",
   "nbconvert_exporter": "python",
   "pygments_lexer": "ipython3",
   "version": "3.12.3"
  }
 },
 "nbformat": 4,
 "nbformat_minor": 5
}
