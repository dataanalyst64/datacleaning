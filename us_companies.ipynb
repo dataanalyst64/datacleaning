{
 "cells": [
  {
   "cell_type": "code",
   "execution_count": 1,
   "id": "9e624e6b",
   "metadata": {},
   "outputs": [],
   "source": [
    "import pandas as pd"
   ]
  },
  {
   "cell_type": "code",
   "execution_count": 4,
   "id": "af4d35ae",
   "metadata": {},
   "outputs": [],
   "source": [
    "data=pd.read_csv(\"Top 50 US Tech Companies 2022 - 2023.csv\")"
   ]
  },
  {
   "cell_type": "code",
   "execution_count": 5,
   "id": "db79377b",
   "metadata": {},
   "outputs": [
    {
     "data": {
      "text/html": [
       "<div>\n",
       "<style scoped>\n",
       "    .dataframe tbody tr th:only-of-type {\n",
       "        vertical-align: middle;\n",
       "    }\n",
       "\n",
       "    .dataframe tbody tr th {\n",
       "        vertical-align: top;\n",
       "    }\n",
       "\n",
       "    .dataframe thead th {\n",
       "        text-align: right;\n",
       "    }\n",
       "</style>\n",
       "<table border=\"1\" class=\"dataframe\">\n",
       "  <thead>\n",
       "    <tr style=\"text-align: right;\">\n",
       "      <th></th>\n",
       "      <th>Company Name</th>\n",
       "      <th>Industry</th>\n",
       "      <th>Sector</th>\n",
       "      <th>HQ State</th>\n",
       "      <th>Founding Year</th>\n",
       "      <th>Annual Revenue 2022-2023 (USD in Billions)</th>\n",
       "      <th>Market Cap (USD in Trillions)</th>\n",
       "      <th>Stock Name</th>\n",
       "      <th>Annual Income Tax in 2022-2023 (USD in Billions)</th>\n",
       "      <th>Employee Size</th>\n",
       "    </tr>\n",
       "  </thead>\n",
       "  <tbody>\n",
       "    <tr>\n",
       "      <th>0</th>\n",
       "      <td>Apple Inc.</td>\n",
       "      <td>Technology</td>\n",
       "      <td>Consumer Electronics</td>\n",
       "      <td>California</td>\n",
       "      <td>1976</td>\n",
       "      <td>387.53</td>\n",
       "      <td>2.52</td>\n",
       "      <td>AAPL</td>\n",
       "      <td>18.314</td>\n",
       "      <td>164000</td>\n",
       "    </tr>\n",
       "  </tbody>\n",
       "</table>\n",
       "</div>"
      ],
      "text/plain": [
       "  Company Name    Industry                Sector    HQ State  Founding Year  \\\n",
       "0   Apple Inc.  Technology  Consumer Electronics  California           1976   \n",
       "\n",
       "   Annual Revenue 2022-2023 (USD in Billions)  Market Cap (USD in Trillions)  \\\n",
       "0                                      387.53                           2.52   \n",
       "\n",
       "  Stock Name  Annual Income Tax in 2022-2023 (USD in Billions)  Employee Size  \n",
       "0       AAPL                                            18.314         164000  "
      ]
     },
     "execution_count": 5,
     "metadata": {},
     "output_type": "execute_result"
    }
   ],
   "source": [
    "data.head(1)"
   ]
  },
  {
   "cell_type": "code",
   "execution_count": 6,
   "id": "b4c9a7df",
   "metadata": {},
   "outputs": [
    {
     "name": "stdout",
     "output_type": "stream",
     "text": [
      "<class 'pandas.core.frame.DataFrame'>\n",
      "RangeIndex: 50 entries, 0 to 49\n",
      "Data columns (total 10 columns):\n",
      " #   Column                                            Non-Null Count  Dtype  \n",
      "---  ------                                            --------------  -----  \n",
      " 0   Company Name                                      50 non-null     object \n",
      " 1   Industry                                          50 non-null     object \n",
      " 2   Sector                                            50 non-null     object \n",
      " 3   HQ State                                          50 non-null     object \n",
      " 4   Founding Year                                     50 non-null     int64  \n",
      " 5   Annual Revenue 2022-2023 (USD in Billions)        50 non-null     float64\n",
      " 6   Market Cap (USD in Trillions)                     50 non-null     float64\n",
      " 7   Stock Name                                        50 non-null     object \n",
      " 8   Annual Income Tax in 2022-2023 (USD in Billions)  50 non-null     float64\n",
      " 9   Employee Size                                     50 non-null     int64  \n",
      "dtypes: float64(3), int64(2), object(5)\n",
      "memory usage: 4.0+ KB\n"
     ]
    }
   ],
   "source": [
    "data.info()"
   ]
  },
  {
   "cell_type": "code",
   "execution_count": 7,
   "id": "8b9f9bfe",
   "metadata": {},
   "outputs": [
    {
     "data": {
      "text/plain": [
       "Company Name                                        0\n",
       "Industry                                            0\n",
       "Sector                                              0\n",
       "HQ State                                            0\n",
       "Founding Year                                       0\n",
       "Annual Revenue 2022-2023 (USD in Billions)          0\n",
       "Market Cap (USD in Trillions)                       0\n",
       "Stock Name                                          0\n",
       "Annual Income Tax in 2022-2023 (USD in Billions)    0\n",
       "Employee Size                                       0\n",
       "dtype: int64"
      ]
     },
     "execution_count": 7,
     "metadata": {},
     "output_type": "execute_result"
    }
   ],
   "source": [
    "data.isna().sum()"
   ]
  },
  {
   "cell_type": "code",
   "execution_count": 8,
   "id": "8e2046c3",
   "metadata": {},
   "outputs": [
    {
     "data": {
      "text/plain": [
       "Index(['Company Name', 'Industry', 'Sector', 'HQ State', 'Founding Year',\n",
       "       'Annual Revenue 2022-2023 (USD in Billions)',\n",
       "       'Market Cap (USD in Trillions)', 'Stock Name',\n",
       "       'Annual Income Tax in 2022-2023 (USD in Billions)', 'Employee Size'],\n",
       "      dtype='object')"
      ]
     },
     "execution_count": 8,
     "metadata": {},
     "output_type": "execute_result"
    }
   ],
   "source": [
    "data.columns"
   ]
  },
  {
   "cell_type": "code",
   "execution_count": 9,
   "id": "8fb781af",
   "metadata": {},
   "outputs": [],
   "source": [
    "data=data.rename(columns={\n",
    "    'Annual Revenue 2022-2023 (USD in Billions)': 'Annual Revenue',\n",
    "    'Market Cap (USD in Trillions)': 'Market Cap',\n",
    "    'Annual Income Tax in 2022-2023 (USD in Billions)': 'Annual Income Tax'\n",
    "\n",
    "})"
   ]
  },
  {
   "cell_type": "code",
   "execution_count": 10,
   "id": "ccc99290",
   "metadata": {},
   "outputs": [
    {
     "data": {
      "text/plain": [
       "Index(['Company Name', 'Industry', 'Sector', 'HQ State', 'Founding Year',\n",
       "       'Annual Revenue', 'Market Cap', 'Stock Name', 'Annual Income Tax',\n",
       "       'Employee Size'],\n",
       "      dtype='object')"
      ]
     },
     "execution_count": 10,
     "metadata": {},
     "output_type": "execute_result"
    }
   ],
   "source": [
    "data.columns"
   ]
  },
  {
   "cell_type": "code",
   "execution_count": 11,
   "id": "38fb27ad",
   "metadata": {},
   "outputs": [
    {
     "name": "stdout",
     "output_type": "stream",
     "text": [
      "<class 'pandas.core.frame.DataFrame'>\n",
      "RangeIndex: 50 entries, 0 to 49\n",
      "Data columns (total 10 columns):\n",
      " #   Column             Non-Null Count  Dtype  \n",
      "---  ------             --------------  -----  \n",
      " 0   Company Name       50 non-null     object \n",
      " 1   Industry           50 non-null     object \n",
      " 2   Sector             50 non-null     object \n",
      " 3   HQ State           50 non-null     object \n",
      " 4   Founding Year      50 non-null     int64  \n",
      " 5   Annual Revenue     50 non-null     float64\n",
      " 6   Market Cap         50 non-null     float64\n",
      " 7   Stock Name         50 non-null     object \n",
      " 8   Annual Income Tax  50 non-null     float64\n",
      " 9   Employee Size      50 non-null     int64  \n",
      "dtypes: float64(3), int64(2), object(5)\n",
      "memory usage: 4.0+ KB\n"
     ]
    }
   ],
   "source": [
    "data.info()"
   ]
  },
  {
   "cell_type": "code",
   "execution_count": 12,
   "id": "08c797f5",
   "metadata": {},
   "outputs": [],
   "source": [
    "data.to_csv(\"cleaned_IT_companies_data.csv\",index=False)"
   ]
  },
  {
   "cell_type": "code",
   "execution_count": null,
   "id": "23ffe980",
   "metadata": {},
   "outputs": [],
   "source": []
  },
  {
   "cell_type": "code",
   "execution_count": null,
   "id": "abae963e",
   "metadata": {},
   "outputs": [],
   "source": []
  },
  {
   "cell_type": "code",
   "execution_count": null,
   "id": "5deb2a93",
   "metadata": {},
   "outputs": [],
   "source": []
  }
 ],
 "metadata": {
  "kernelspec": {
   "display_name": "Python 3",
   "language": "python",
   "name": "python3"
  },
  "language_info": {
   "codemirror_mode": {
    "name": "ipython",
    "version": 3
   },
   "file_extension": ".py",
   "mimetype": "text/x-python",
   "name": "python",
   "nbconvert_exporter": "python",
   "pygments_lexer": "ipython3",
   "version": "3.12.3"
  }
 },
 "nbformat": 4,
 "nbformat_minor": 5
}
