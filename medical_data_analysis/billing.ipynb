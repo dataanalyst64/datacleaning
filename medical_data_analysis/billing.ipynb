{
 "cells": [
  {
   "cell_type": "code",
   "execution_count": 1,
   "id": "89320d79",
   "metadata": {},
   "outputs": [],
   "source": [
    "import pandas as pd\n"
   ]
  },
  {
   "cell_type": "code",
   "execution_count": 3,
   "id": "214db61c",
   "metadata": {},
   "outputs": [],
   "source": [
    "data=pd.read_csv(\"billing.csv\")"
   ]
  },
  {
   "cell_type": "code",
   "execution_count": 4,
   "id": "1b0c3d62",
   "metadata": {},
   "outputs": [
    {
     "data": {
      "text/html": [
       "<div>\n",
       "<style scoped>\n",
       "    .dataframe tbody tr th:only-of-type {\n",
       "        vertical-align: middle;\n",
       "    }\n",
       "\n",
       "    .dataframe tbody tr th {\n",
       "        vertical-align: top;\n",
       "    }\n",
       "\n",
       "    .dataframe thead th {\n",
       "        text-align: right;\n",
       "    }\n",
       "</style>\n",
       "<table border=\"1\" class=\"dataframe\">\n",
       "  <thead>\n",
       "    <tr style=\"text-align: right;\">\n",
       "      <th></th>\n",
       "      <th>bill_id</th>\n",
       "      <th>patient_id</th>\n",
       "      <th>treatment_id</th>\n",
       "      <th>bill_date</th>\n",
       "      <th>amount</th>\n",
       "      <th>payment_method</th>\n",
       "      <th>payment_status</th>\n",
       "    </tr>\n",
       "  </thead>\n",
       "  <tbody>\n",
       "    <tr>\n",
       "      <th>0</th>\n",
       "      <td>B001</td>\n",
       "      <td>P034</td>\n",
       "      <td>T001</td>\n",
       "      <td>2023-08-09</td>\n",
       "      <td>3941.97</td>\n",
       "      <td>Insurance</td>\n",
       "      <td>Pending</td>\n",
       "    </tr>\n",
       "    <tr>\n",
       "      <th>1</th>\n",
       "      <td>B002</td>\n",
       "      <td>P032</td>\n",
       "      <td>T002</td>\n",
       "      <td>2023-06-09</td>\n",
       "      <td>4158.44</td>\n",
       "      <td>Insurance</td>\n",
       "      <td>Paid</td>\n",
       "    </tr>\n",
       "    <tr>\n",
       "      <th>2</th>\n",
       "      <td>B003</td>\n",
       "      <td>P048</td>\n",
       "      <td>T003</td>\n",
       "      <td>2023-06-28</td>\n",
       "      <td>3731.55</td>\n",
       "      <td>Insurance</td>\n",
       "      <td>Paid</td>\n",
       "    </tr>\n",
       "    <tr>\n",
       "      <th>3</th>\n",
       "      <td>B004</td>\n",
       "      <td>P025</td>\n",
       "      <td>T004</td>\n",
       "      <td>2023-09-01</td>\n",
       "      <td>4799.86</td>\n",
       "      <td>Insurance</td>\n",
       "      <td>Failed</td>\n",
       "    </tr>\n",
       "    <tr>\n",
       "      <th>4</th>\n",
       "      <td>B005</td>\n",
       "      <td>P040</td>\n",
       "      <td>T005</td>\n",
       "      <td>2023-07-06</td>\n",
       "      <td>582.05</td>\n",
       "      <td>Credit Card</td>\n",
       "      <td>Pending</td>\n",
       "    </tr>\n",
       "  </tbody>\n",
       "</table>\n",
       "</div>"
      ],
      "text/plain": [
       "  bill_id patient_id treatment_id   bill_date   amount payment_method  \\\n",
       "0    B001       P034         T001  2023-08-09  3941.97      Insurance   \n",
       "1    B002       P032         T002  2023-06-09  4158.44      Insurance   \n",
       "2    B003       P048         T003  2023-06-28  3731.55      Insurance   \n",
       "3    B004       P025         T004  2023-09-01  4799.86      Insurance   \n",
       "4    B005       P040         T005  2023-07-06   582.05    Credit Card   \n",
       "\n",
       "  payment_status  \n",
       "0        Pending  \n",
       "1           Paid  \n",
       "2           Paid  \n",
       "3         Failed  \n",
       "4        Pending  "
      ]
     },
     "execution_count": 4,
     "metadata": {},
     "output_type": "execute_result"
    }
   ],
   "source": [
    "data.head()"
   ]
  },
  {
   "cell_type": "code",
   "execution_count": 5,
   "id": "27bd841c",
   "metadata": {},
   "outputs": [
    {
     "data": {
      "text/plain": [
       "bill_id           0\n",
       "patient_id        0\n",
       "treatment_id      0\n",
       "bill_date         0\n",
       "amount            0\n",
       "payment_method    0\n",
       "payment_status    0\n",
       "dtype: int64"
      ]
     },
     "execution_count": 5,
     "metadata": {},
     "output_type": "execute_result"
    }
   ],
   "source": [
    "data.isna().sum()"
   ]
  },
  {
   "cell_type": "code",
   "execution_count": 6,
   "id": "442ee9a0",
   "metadata": {},
   "outputs": [
    {
     "data": {
      "text/plain": [
       "Index(['bill_id', 'patient_id', 'treatment_id', 'bill_date', 'amount',\n",
       "       'payment_method', 'payment_status'],\n",
       "      dtype='object')"
      ]
     },
     "execution_count": 6,
     "metadata": {},
     "output_type": "execute_result"
    }
   ],
   "source": [
    "data.columns"
   ]
  },
  {
   "cell_type": "code",
   "execution_count": 7,
   "id": "1e56e842",
   "metadata": {},
   "outputs": [],
   "source": [
    "data=data.rename(columns={\n",
    "    'bill_id': 'Bill ID', \n",
    "    'patient_id': 'Patient ID', \n",
    "    'treatment_id': 'Treatment ID', \n",
    "    'bill_date': 'Bill Date', \n",
    "    'amount': 'Amount',\n",
    "    'payment_method': 'Payment Method', \n",
    "    'payment_status': 'Payment Status'\n",
    "})"
   ]
  },
  {
   "cell_type": "code",
   "execution_count": 8,
   "id": "06eb7d7e",
   "metadata": {},
   "outputs": [
    {
     "data": {
      "text/plain": [
       "Index(['Bill ID', 'Patient ID', 'Treatment ID', 'Bill Date', 'Amount',\n",
       "       'Payment Method', 'Payment Status'],\n",
       "      dtype='object')"
      ]
     },
     "execution_count": 8,
     "metadata": {},
     "output_type": "execute_result"
    }
   ],
   "source": [
    "data.columns"
   ]
  },
  {
   "cell_type": "code",
   "execution_count": 10,
   "id": "04d42460",
   "metadata": {},
   "outputs": [],
   "source": [
    "data['Bill Date']=pd.to_datetime(data['Bill Date'], errors='coerce')"
   ]
  },
  {
   "cell_type": "code",
   "execution_count": 11,
   "id": "37109b9a",
   "metadata": {},
   "outputs": [
    {
     "name": "stdout",
     "output_type": "stream",
     "text": [
      "<class 'pandas.core.frame.DataFrame'>\n",
      "RangeIndex: 200 entries, 0 to 199\n",
      "Data columns (total 7 columns):\n",
      " #   Column          Non-Null Count  Dtype         \n",
      "---  ------          --------------  -----         \n",
      " 0   Bill ID         200 non-null    object        \n",
      " 1   Patient ID      200 non-null    object        \n",
      " 2   Treatment ID    200 non-null    object        \n",
      " 3   Bill Date       200 non-null    datetime64[ns]\n",
      " 4   Amount          200 non-null    float64       \n",
      " 5   Payment Method  200 non-null    object        \n",
      " 6   Payment Status  200 non-null    object        \n",
      "dtypes: datetime64[ns](1), float64(1), object(5)\n",
      "memory usage: 11.1+ KB\n"
     ]
    }
   ],
   "source": [
    "data.info()"
   ]
  },
  {
   "cell_type": "code",
   "execution_count": 12,
   "id": "8e0c2b3e",
   "metadata": {},
   "outputs": [
    {
     "data": {
      "text/html": [
       "<div>\n",
       "<style scoped>\n",
       "    .dataframe tbody tr th:only-of-type {\n",
       "        vertical-align: middle;\n",
       "    }\n",
       "\n",
       "    .dataframe tbody tr th {\n",
       "        vertical-align: top;\n",
       "    }\n",
       "\n",
       "    .dataframe thead th {\n",
       "        text-align: right;\n",
       "    }\n",
       "</style>\n",
       "<table border=\"1\" class=\"dataframe\">\n",
       "  <thead>\n",
       "    <tr style=\"text-align: right;\">\n",
       "      <th></th>\n",
       "      <th>Bill ID</th>\n",
       "      <th>Patient ID</th>\n",
       "      <th>Treatment ID</th>\n",
       "      <th>Bill Date</th>\n",
       "      <th>Amount</th>\n",
       "      <th>Payment Method</th>\n",
       "      <th>Payment Status</th>\n",
       "    </tr>\n",
       "  </thead>\n",
       "  <tbody>\n",
       "    <tr>\n",
       "      <th>0</th>\n",
       "      <td>B001</td>\n",
       "      <td>P034</td>\n",
       "      <td>T001</td>\n",
       "      <td>2023-08-09</td>\n",
       "      <td>3941.97</td>\n",
       "      <td>Insurance</td>\n",
       "      <td>Pending</td>\n",
       "    </tr>\n",
       "    <tr>\n",
       "      <th>1</th>\n",
       "      <td>B002</td>\n",
       "      <td>P032</td>\n",
       "      <td>T002</td>\n",
       "      <td>2023-06-09</td>\n",
       "      <td>4158.44</td>\n",
       "      <td>Insurance</td>\n",
       "      <td>Paid</td>\n",
       "    </tr>\n",
       "    <tr>\n",
       "      <th>2</th>\n",
       "      <td>B003</td>\n",
       "      <td>P048</td>\n",
       "      <td>T003</td>\n",
       "      <td>2023-06-28</td>\n",
       "      <td>3731.55</td>\n",
       "      <td>Insurance</td>\n",
       "      <td>Paid</td>\n",
       "    </tr>\n",
       "    <tr>\n",
       "      <th>3</th>\n",
       "      <td>B004</td>\n",
       "      <td>P025</td>\n",
       "      <td>T004</td>\n",
       "      <td>2023-09-01</td>\n",
       "      <td>4799.86</td>\n",
       "      <td>Insurance</td>\n",
       "      <td>Failed</td>\n",
       "    </tr>\n",
       "    <tr>\n",
       "      <th>4</th>\n",
       "      <td>B005</td>\n",
       "      <td>P040</td>\n",
       "      <td>T005</td>\n",
       "      <td>2023-07-06</td>\n",
       "      <td>582.05</td>\n",
       "      <td>Credit Card</td>\n",
       "      <td>Pending</td>\n",
       "    </tr>\n",
       "  </tbody>\n",
       "</table>\n",
       "</div>"
      ],
      "text/plain": [
       "  Bill ID Patient ID Treatment ID  Bill Date   Amount Payment Method  \\\n",
       "0    B001       P034         T001 2023-08-09  3941.97      Insurance   \n",
       "1    B002       P032         T002 2023-06-09  4158.44      Insurance   \n",
       "2    B003       P048         T003 2023-06-28  3731.55      Insurance   \n",
       "3    B004       P025         T004 2023-09-01  4799.86      Insurance   \n",
       "4    B005       P040         T005 2023-07-06   582.05    Credit Card   \n",
       "\n",
       "  Payment Status  \n",
       "0        Pending  \n",
       "1           Paid  \n",
       "2           Paid  \n",
       "3         Failed  \n",
       "4        Pending  "
      ]
     },
     "execution_count": 12,
     "metadata": {},
     "output_type": "execute_result"
    }
   ],
   "source": [
    "data.head()"
   ]
  },
  {
   "cell_type": "code",
   "execution_count": 13,
   "id": "8eab1aba",
   "metadata": {},
   "outputs": [],
   "source": [
    "data.to_csv(\"cleaned_billing_data.csv\",index=False)"
   ]
  },
  {
   "cell_type": "code",
   "execution_count": null,
   "id": "505da0ed",
   "metadata": {},
   "outputs": [],
   "source": []
  },
  {
   "cell_type": "code",
   "execution_count": null,
   "id": "b9e6f4a4",
   "metadata": {},
   "outputs": [],
   "source": []
  },
  {
   "cell_type": "code",
   "execution_count": null,
   "id": "27c4c71c",
   "metadata": {},
   "outputs": [],
   "source": []
  }
 ],
 "metadata": {
  "kernelspec": {
   "display_name": "Python 3",
   "language": "python",
   "name": "python3"
  },
  "language_info": {
   "codemirror_mode": {
    "name": "ipython",
    "version": 3
   },
   "file_extension": ".py",
   "mimetype": "text/x-python",
   "name": "python",
   "nbconvert_exporter": "python",
   "pygments_lexer": "ipython3",
   "version": "3.12.3"
  }
 },
 "nbformat": 4,
 "nbformat_minor": 5
}
