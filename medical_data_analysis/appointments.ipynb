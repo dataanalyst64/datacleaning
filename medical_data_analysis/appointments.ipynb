{
 "cells": [
  {
   "cell_type": "code",
   "execution_count": null,
   "id": "92fb385d",
   "metadata": {},
   "outputs": [],
   "source": [
    "import pandas as pd"
   ]
  },
  {
   "cell_type": "code",
   "execution_count": 3,
   "id": "82093fbd",
   "metadata": {},
   "outputs": [],
   "source": [
    "data=pd.read_csv(\"appointments.csv\")"
   ]
  },
  {
   "cell_type": "code",
   "execution_count": 4,
   "id": "c70d39d1",
   "metadata": {},
   "outputs": [
    {
     "data": {
      "text/html": [
       "<div>\n",
       "<style scoped>\n",
       "    .dataframe tbody tr th:only-of-type {\n",
       "        vertical-align: middle;\n",
       "    }\n",
       "\n",
       "    .dataframe tbody tr th {\n",
       "        vertical-align: top;\n",
       "    }\n",
       "\n",
       "    .dataframe thead th {\n",
       "        text-align: right;\n",
       "    }\n",
       "</style>\n",
       "<table border=\"1\" class=\"dataframe\">\n",
       "  <thead>\n",
       "    <tr style=\"text-align: right;\">\n",
       "      <th></th>\n",
       "      <th>appointment_id</th>\n",
       "      <th>patient_id</th>\n",
       "      <th>doctor_id</th>\n",
       "      <th>appointment_date</th>\n",
       "      <th>appointment_time</th>\n",
       "      <th>reason_for_visit</th>\n",
       "      <th>status</th>\n",
       "    </tr>\n",
       "  </thead>\n",
       "  <tbody>\n",
       "    <tr>\n",
       "      <th>0</th>\n",
       "      <td>A001</td>\n",
       "      <td>P034</td>\n",
       "      <td>D009</td>\n",
       "      <td>2023-08-09</td>\n",
       "      <td>15:15:00</td>\n",
       "      <td>Therapy</td>\n",
       "      <td>Scheduled</td>\n",
       "    </tr>\n",
       "    <tr>\n",
       "      <th>1</th>\n",
       "      <td>A002</td>\n",
       "      <td>P032</td>\n",
       "      <td>D004</td>\n",
       "      <td>2023-06-09</td>\n",
       "      <td>14:30:00</td>\n",
       "      <td>Therapy</td>\n",
       "      <td>No-show</td>\n",
       "    </tr>\n",
       "    <tr>\n",
       "      <th>2</th>\n",
       "      <td>A003</td>\n",
       "      <td>P048</td>\n",
       "      <td>D004</td>\n",
       "      <td>2023-06-28</td>\n",
       "      <td>8:00:00</td>\n",
       "      <td>Consultation</td>\n",
       "      <td>Cancelled</td>\n",
       "    </tr>\n",
       "    <tr>\n",
       "      <th>3</th>\n",
       "      <td>A004</td>\n",
       "      <td>P025</td>\n",
       "      <td>D006</td>\n",
       "      <td>2023-09-01</td>\n",
       "      <td>9:15:00</td>\n",
       "      <td>Consultation</td>\n",
       "      <td>Cancelled</td>\n",
       "    </tr>\n",
       "    <tr>\n",
       "      <th>4</th>\n",
       "      <td>A005</td>\n",
       "      <td>P040</td>\n",
       "      <td>D003</td>\n",
       "      <td>2023-07-06</td>\n",
       "      <td>12:45:00</td>\n",
       "      <td>Emergency</td>\n",
       "      <td>No-show</td>\n",
       "    </tr>\n",
       "  </tbody>\n",
       "</table>\n",
       "</div>"
      ],
      "text/plain": [
       "  appointment_id patient_id doctor_id appointment_date appointment_time  \\\n",
       "0           A001       P034      D009       2023-08-09         15:15:00   \n",
       "1           A002       P032      D004       2023-06-09         14:30:00   \n",
       "2           A003       P048      D004       2023-06-28          8:00:00   \n",
       "3           A004       P025      D006       2023-09-01          9:15:00   \n",
       "4           A005       P040      D003       2023-07-06         12:45:00   \n",
       "\n",
       "  reason_for_visit     status  \n",
       "0          Therapy  Scheduled  \n",
       "1          Therapy    No-show  \n",
       "2     Consultation  Cancelled  \n",
       "3     Consultation  Cancelled  \n",
       "4        Emergency    No-show  "
      ]
     },
     "execution_count": 4,
     "metadata": {},
     "output_type": "execute_result"
    }
   ],
   "source": [
    "data.head()"
   ]
  },
  {
   "cell_type": "code",
   "execution_count": 5,
   "id": "10ec7642",
   "metadata": {},
   "outputs": [
    {
     "data": {
      "text/plain": [
       "appointment_id      0\n",
       "patient_id          0\n",
       "doctor_id           0\n",
       "appointment_date    0\n",
       "appointment_time    0\n",
       "reason_for_visit    0\n",
       "status              0\n",
       "dtype: int64"
      ]
     },
     "execution_count": 5,
     "metadata": {},
     "output_type": "execute_result"
    }
   ],
   "source": [
    "data.isna().sum()"
   ]
  },
  {
   "cell_type": "code",
   "execution_count": 6,
   "id": "2fb40846",
   "metadata": {},
   "outputs": [
    {
     "name": "stdout",
     "output_type": "stream",
     "text": [
      "<class 'pandas.core.frame.DataFrame'>\n",
      "RangeIndex: 200 entries, 0 to 199\n",
      "Data columns (total 7 columns):\n",
      " #   Column            Non-Null Count  Dtype \n",
      "---  ------            --------------  ----- \n",
      " 0   appointment_id    200 non-null    object\n",
      " 1   patient_id        200 non-null    object\n",
      " 2   doctor_id         200 non-null    object\n",
      " 3   appointment_date  200 non-null    object\n",
      " 4   appointment_time  200 non-null    object\n",
      " 5   reason_for_visit  200 non-null    object\n",
      " 6   status            200 non-null    object\n",
      "dtypes: object(7)\n",
      "memory usage: 11.1+ KB\n"
     ]
    }
   ],
   "source": [
    "data.info()"
   ]
  },
  {
   "cell_type": "code",
   "execution_count": 7,
   "id": "421b5f26",
   "metadata": {},
   "outputs": [
    {
     "data": {
      "text/plain": [
       "Index(['appointment_id', 'patient_id', 'doctor_id', 'appointment_date',\n",
       "       'appointment_time', 'reason_for_visit', 'status'],\n",
       "      dtype='object')"
      ]
     },
     "execution_count": 7,
     "metadata": {},
     "output_type": "execute_result"
    }
   ],
   "source": [
    "data.columns"
   ]
  },
  {
   "cell_type": "code",
   "execution_count": 8,
   "id": "96c18ce0",
   "metadata": {},
   "outputs": [],
   "source": [
    "data=data.rename(columns={\n",
    "    'appointment_id': 'Appointment ID', \n",
    "    'patient_id': 'Patient ID', \n",
    "    'doctor_id': 'Doctor ID', \n",
    "    'appointment_date': 'Appointment Date',\n",
    "    'appointment_time': 'Appointment Time', \n",
    "    'reason_for_visit': 'Reason for Visit', \n",
    "    'status': 'Status'\n",
    "})"
   ]
  },
  {
   "cell_type": "code",
   "execution_count": 9,
   "id": "8a811f81",
   "metadata": {},
   "outputs": [
    {
     "data": {
      "text/plain": [
       "Index(['Appointment ID', 'Patient ID', 'Doctor ID', 'Appointment Date',\n",
       "       'Appointment Time', 'Reason for Visit', 'Status'],\n",
       "      dtype='object')"
      ]
     },
     "execution_count": 9,
     "metadata": {},
     "output_type": "execute_result"
    }
   ],
   "source": [
    "data.columns"
   ]
  },
  {
   "cell_type": "code",
   "execution_count": 10,
   "id": "661b5df3",
   "metadata": {},
   "outputs": [
    {
     "name": "stdout",
     "output_type": "stream",
     "text": [
      "<class 'pandas.core.frame.DataFrame'>\n",
      "RangeIndex: 200 entries, 0 to 199\n",
      "Data columns (total 7 columns):\n",
      " #   Column            Non-Null Count  Dtype \n",
      "---  ------            --------------  ----- \n",
      " 0   Appointment ID    200 non-null    object\n",
      " 1   Patient ID        200 non-null    object\n",
      " 2   Doctor ID         200 non-null    object\n",
      " 3   Appointment Date  200 non-null    object\n",
      " 4   Appointment Time  200 non-null    object\n",
      " 5   Reason for Visit  200 non-null    object\n",
      " 6   Status            200 non-null    object\n",
      "dtypes: object(7)\n",
      "memory usage: 11.1+ KB\n"
     ]
    }
   ],
   "source": [
    "data.info()"
   ]
  },
  {
   "cell_type": "code",
   "execution_count": 12,
   "id": "f22484e0",
   "metadata": {},
   "outputs": [],
   "source": [
    "data['Appointment Date']=pd.to_datetime(data['Appointment Date'], errors='coerce')"
   ]
  },
  {
   "cell_type": "code",
   "execution_count": 14,
   "id": "8abd5863",
   "metadata": {},
   "outputs": [
    {
     "name": "stderr",
     "output_type": "stream",
     "text": [
      "C:\\Users\\DELL\\AppData\\Local\\Temp\\ipykernel_31544\\200683728.py:1: UserWarning: Could not infer format, so each element will be parsed individually, falling back to `dateutil`. To ensure parsing is consistent and as-expected, please specify a format.\n",
      "  data['Appointment Time']=pd.to_datetime(data['Appointment Time'], errors='coerce')\n"
     ]
    }
   ],
   "source": [
    "data['Appointment Time']=pd.to_datetime(data['Appointment Time'], errors='coerce')"
   ]
  },
  {
   "cell_type": "code",
   "execution_count": 15,
   "id": "6c4e9b65",
   "metadata": {},
   "outputs": [
    {
     "name": "stdout",
     "output_type": "stream",
     "text": [
      "<class 'pandas.core.frame.DataFrame'>\n",
      "RangeIndex: 200 entries, 0 to 199\n",
      "Data columns (total 7 columns):\n",
      " #   Column            Non-Null Count  Dtype         \n",
      "---  ------            --------------  -----         \n",
      " 0   Appointment ID    200 non-null    object        \n",
      " 1   Patient ID        200 non-null    object        \n",
      " 2   Doctor ID         200 non-null    object        \n",
      " 3   Appointment Date  200 non-null    datetime64[ns]\n",
      " 4   Appointment Time  200 non-null    datetime64[ns]\n",
      " 5   Reason for Visit  200 non-null    object        \n",
      " 6   Status            200 non-null    object        \n",
      "dtypes: datetime64[ns](2), object(5)\n",
      "memory usage: 11.1+ KB\n"
     ]
    }
   ],
   "source": [
    "data.info()"
   ]
  },
  {
   "cell_type": "code",
   "execution_count": 16,
   "id": "fc29bc2f",
   "metadata": {},
   "outputs": [
    {
     "data": {
      "text/html": [
       "<div>\n",
       "<style scoped>\n",
       "    .dataframe tbody tr th:only-of-type {\n",
       "        vertical-align: middle;\n",
       "    }\n",
       "\n",
       "    .dataframe tbody tr th {\n",
       "        vertical-align: top;\n",
       "    }\n",
       "\n",
       "    .dataframe thead th {\n",
       "        text-align: right;\n",
       "    }\n",
       "</style>\n",
       "<table border=\"1\" class=\"dataframe\">\n",
       "  <thead>\n",
       "    <tr style=\"text-align: right;\">\n",
       "      <th></th>\n",
       "      <th>Appointment ID</th>\n",
       "      <th>Patient ID</th>\n",
       "      <th>Doctor ID</th>\n",
       "      <th>Appointment Date</th>\n",
       "      <th>Appointment Time</th>\n",
       "      <th>Reason for Visit</th>\n",
       "      <th>Status</th>\n",
       "    </tr>\n",
       "  </thead>\n",
       "  <tbody>\n",
       "    <tr>\n",
       "      <th>0</th>\n",
       "      <td>A001</td>\n",
       "      <td>P034</td>\n",
       "      <td>D009</td>\n",
       "      <td>2023-08-09</td>\n",
       "      <td>2025-07-24 15:15:00</td>\n",
       "      <td>Therapy</td>\n",
       "      <td>Scheduled</td>\n",
       "    </tr>\n",
       "    <tr>\n",
       "      <th>1</th>\n",
       "      <td>A002</td>\n",
       "      <td>P032</td>\n",
       "      <td>D004</td>\n",
       "      <td>2023-06-09</td>\n",
       "      <td>2025-07-24 14:30:00</td>\n",
       "      <td>Therapy</td>\n",
       "      <td>No-show</td>\n",
       "    </tr>\n",
       "    <tr>\n",
       "      <th>2</th>\n",
       "      <td>A003</td>\n",
       "      <td>P048</td>\n",
       "      <td>D004</td>\n",
       "      <td>2023-06-28</td>\n",
       "      <td>2025-07-24 08:00:00</td>\n",
       "      <td>Consultation</td>\n",
       "      <td>Cancelled</td>\n",
       "    </tr>\n",
       "    <tr>\n",
       "      <th>3</th>\n",
       "      <td>A004</td>\n",
       "      <td>P025</td>\n",
       "      <td>D006</td>\n",
       "      <td>2023-09-01</td>\n",
       "      <td>2025-07-24 09:15:00</td>\n",
       "      <td>Consultation</td>\n",
       "      <td>Cancelled</td>\n",
       "    </tr>\n",
       "    <tr>\n",
       "      <th>4</th>\n",
       "      <td>A005</td>\n",
       "      <td>P040</td>\n",
       "      <td>D003</td>\n",
       "      <td>2023-07-06</td>\n",
       "      <td>2025-07-24 12:45:00</td>\n",
       "      <td>Emergency</td>\n",
       "      <td>No-show</td>\n",
       "    </tr>\n",
       "  </tbody>\n",
       "</table>\n",
       "</div>"
      ],
      "text/plain": [
       "  Appointment ID Patient ID Doctor ID Appointment Date    Appointment Time  \\\n",
       "0           A001       P034      D009       2023-08-09 2025-07-24 15:15:00   \n",
       "1           A002       P032      D004       2023-06-09 2025-07-24 14:30:00   \n",
       "2           A003       P048      D004       2023-06-28 2025-07-24 08:00:00   \n",
       "3           A004       P025      D006       2023-09-01 2025-07-24 09:15:00   \n",
       "4           A005       P040      D003       2023-07-06 2025-07-24 12:45:00   \n",
       "\n",
       "  Reason for Visit     Status  \n",
       "0          Therapy  Scheduled  \n",
       "1          Therapy    No-show  \n",
       "2     Consultation  Cancelled  \n",
       "3     Consultation  Cancelled  \n",
       "4        Emergency    No-show  "
      ]
     },
     "execution_count": 16,
     "metadata": {},
     "output_type": "execute_result"
    }
   ],
   "source": [
    "data.head()"
   ]
  },
  {
   "cell_type": "code",
   "execution_count": 18,
   "id": "291a777a",
   "metadata": {},
   "outputs": [],
   "source": [
    "#now we make two more columns of DATE and TIME\n",
    "\n",
    "from datetime import datetime\n",
    "\n",
    "data['time']= pd.DatetimeIndex(data['Appointment Time']).hour"
   ]
  },
  {
   "cell_type": "code",
   "execution_count": 19,
   "id": "71223c1a",
   "metadata": {},
   "outputs": [
    {
     "data": {
      "text/html": [
       "<div>\n",
       "<style scoped>\n",
       "    .dataframe tbody tr th:only-of-type {\n",
       "        vertical-align: middle;\n",
       "    }\n",
       "\n",
       "    .dataframe tbody tr th {\n",
       "        vertical-align: top;\n",
       "    }\n",
       "\n",
       "    .dataframe thead th {\n",
       "        text-align: right;\n",
       "    }\n",
       "</style>\n",
       "<table border=\"1\" class=\"dataframe\">\n",
       "  <thead>\n",
       "    <tr style=\"text-align: right;\">\n",
       "      <th></th>\n",
       "      <th>Appointment ID</th>\n",
       "      <th>Patient ID</th>\n",
       "      <th>Doctor ID</th>\n",
       "      <th>Appointment Date</th>\n",
       "      <th>Appointment Time</th>\n",
       "      <th>Reason for Visit</th>\n",
       "      <th>Status</th>\n",
       "      <th>time</th>\n",
       "    </tr>\n",
       "  </thead>\n",
       "  <tbody>\n",
       "    <tr>\n",
       "      <th>0</th>\n",
       "      <td>A001</td>\n",
       "      <td>P034</td>\n",
       "      <td>D009</td>\n",
       "      <td>2023-08-09</td>\n",
       "      <td>2025-07-24 15:15:00</td>\n",
       "      <td>Therapy</td>\n",
       "      <td>Scheduled</td>\n",
       "      <td>15</td>\n",
       "    </tr>\n",
       "    <tr>\n",
       "      <th>1</th>\n",
       "      <td>A002</td>\n",
       "      <td>P032</td>\n",
       "      <td>D004</td>\n",
       "      <td>2023-06-09</td>\n",
       "      <td>2025-07-24 14:30:00</td>\n",
       "      <td>Therapy</td>\n",
       "      <td>No-show</td>\n",
       "      <td>14</td>\n",
       "    </tr>\n",
       "    <tr>\n",
       "      <th>2</th>\n",
       "      <td>A003</td>\n",
       "      <td>P048</td>\n",
       "      <td>D004</td>\n",
       "      <td>2023-06-28</td>\n",
       "      <td>2025-07-24 08:00:00</td>\n",
       "      <td>Consultation</td>\n",
       "      <td>Cancelled</td>\n",
       "      <td>8</td>\n",
       "    </tr>\n",
       "    <tr>\n",
       "      <th>3</th>\n",
       "      <td>A004</td>\n",
       "      <td>P025</td>\n",
       "      <td>D006</td>\n",
       "      <td>2023-09-01</td>\n",
       "      <td>2025-07-24 09:15:00</td>\n",
       "      <td>Consultation</td>\n",
       "      <td>Cancelled</td>\n",
       "      <td>9</td>\n",
       "    </tr>\n",
       "    <tr>\n",
       "      <th>4</th>\n",
       "      <td>A005</td>\n",
       "      <td>P040</td>\n",
       "      <td>D003</td>\n",
       "      <td>2023-07-06</td>\n",
       "      <td>2025-07-24 12:45:00</td>\n",
       "      <td>Emergency</td>\n",
       "      <td>No-show</td>\n",
       "      <td>12</td>\n",
       "    </tr>\n",
       "  </tbody>\n",
       "</table>\n",
       "</div>"
      ],
      "text/plain": [
       "  Appointment ID Patient ID Doctor ID Appointment Date    Appointment Time  \\\n",
       "0           A001       P034      D009       2023-08-09 2025-07-24 15:15:00   \n",
       "1           A002       P032      D004       2023-06-09 2025-07-24 14:30:00   \n",
       "2           A003       P048      D004       2023-06-28 2025-07-24 08:00:00   \n",
       "3           A004       P025      D006       2023-09-01 2025-07-24 09:15:00   \n",
       "4           A005       P040      D003       2023-07-06 2025-07-24 12:45:00   \n",
       "\n",
       "  Reason for Visit     Status  time  \n",
       "0          Therapy  Scheduled    15  \n",
       "1          Therapy    No-show    14  \n",
       "2     Consultation  Cancelled     8  \n",
       "3     Consultation  Cancelled     9  \n",
       "4        Emergency    No-show    12  "
      ]
     },
     "execution_count": 19,
     "metadata": {},
     "output_type": "execute_result"
    }
   ],
   "source": [
    "data.head()"
   ]
  },
  {
   "cell_type": "code",
   "execution_count": 20,
   "id": "b5e3dc8d",
   "metadata": {},
   "outputs": [],
   "source": [
    "data.to_csv(\"cleaned_appointments_data.csv\",index=False)"
   ]
  },
  {
   "cell_type": "code",
   "execution_count": null,
   "id": "df07143a",
   "metadata": {},
   "outputs": [],
   "source": []
  },
  {
   "cell_type": "code",
   "execution_count": null,
   "id": "bc701750",
   "metadata": {},
   "outputs": [],
   "source": []
  },
  {
   "cell_type": "code",
   "execution_count": null,
   "id": "1a0a5aa6",
   "metadata": {},
   "outputs": [],
   "source": []
  },
  {
   "cell_type": "code",
   "execution_count": null,
   "id": "42cdc621",
   "metadata": {},
   "outputs": [],
   "source": []
  }
 ],
 "metadata": {
  "kernelspec": {
   "display_name": "Python 3",
   "language": "python",
   "name": "python3"
  },
  "language_info": {
   "codemirror_mode": {
    "name": "ipython",
    "version": 3
   },
   "file_extension": ".py",
   "mimetype": "text/x-python",
   "name": "python",
   "nbconvert_exporter": "python",
   "pygments_lexer": "ipython3",
   "version": "3.12.3"
  }
 },
 "nbformat": 4,
 "nbformat_minor": 5
}
