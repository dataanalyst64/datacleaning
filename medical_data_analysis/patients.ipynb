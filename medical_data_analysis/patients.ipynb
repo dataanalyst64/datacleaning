{
 "cells": [
  {
   "cell_type": "code",
   "execution_count": 1,
   "id": "e6dad1b1",
   "metadata": {},
   "outputs": [],
   "source": [
    "import pandas as pd"
   ]
  },
  {
   "cell_type": "code",
   "execution_count": 3,
   "id": "b9fc5e94",
   "metadata": {},
   "outputs": [],
   "source": [
    "data=pd.read_csv(\"patients.csv\")"
   ]
  },
  {
   "cell_type": "code",
   "execution_count": 4,
   "id": "0f37af4b",
   "metadata": {},
   "outputs": [
    {
     "data": {
      "text/html": [
       "<div>\n",
       "<style scoped>\n",
       "    .dataframe tbody tr th:only-of-type {\n",
       "        vertical-align: middle;\n",
       "    }\n",
       "\n",
       "    .dataframe tbody tr th {\n",
       "        vertical-align: top;\n",
       "    }\n",
       "\n",
       "    .dataframe thead th {\n",
       "        text-align: right;\n",
       "    }\n",
       "</style>\n",
       "<table border=\"1\" class=\"dataframe\">\n",
       "  <thead>\n",
       "    <tr style=\"text-align: right;\">\n",
       "      <th></th>\n",
       "      <th>patient_id</th>\n",
       "      <th>first_name</th>\n",
       "      <th>last_name</th>\n",
       "      <th>gender</th>\n",
       "      <th>date_of_birth</th>\n",
       "      <th>contact_number</th>\n",
       "      <th>address</th>\n",
       "      <th>registration_date</th>\n",
       "      <th>insurance_provider</th>\n",
       "      <th>insurance_number</th>\n",
       "      <th>email</th>\n",
       "    </tr>\n",
       "  </thead>\n",
       "  <tbody>\n",
       "    <tr>\n",
       "      <th>0</th>\n",
       "      <td>P001</td>\n",
       "      <td>David</td>\n",
       "      <td>Williams</td>\n",
       "      <td>F</td>\n",
       "      <td>1955-06-04</td>\n",
       "      <td>6939585183</td>\n",
       "      <td>789 Pine Rd</td>\n",
       "      <td>2022-06-23</td>\n",
       "      <td>WellnessCorp</td>\n",
       "      <td>INS840674</td>\n",
       "      <td>david.williams@mail.com</td>\n",
       "    </tr>\n",
       "    <tr>\n",
       "      <th>1</th>\n",
       "      <td>P002</td>\n",
       "      <td>Emily</td>\n",
       "      <td>Smith</td>\n",
       "      <td>F</td>\n",
       "      <td>1984-10-12</td>\n",
       "      <td>8228188767</td>\n",
       "      <td>321 Maple Dr</td>\n",
       "      <td>2022-01-15</td>\n",
       "      <td>PulseSecure</td>\n",
       "      <td>INS354079</td>\n",
       "      <td>emily.smith@mail.com</td>\n",
       "    </tr>\n",
       "    <tr>\n",
       "      <th>2</th>\n",
       "      <td>P003</td>\n",
       "      <td>Laura</td>\n",
       "      <td>Jones</td>\n",
       "      <td>M</td>\n",
       "      <td>1977-08-21</td>\n",
       "      <td>8397029847</td>\n",
       "      <td>321 Maple Dr</td>\n",
       "      <td>2022-02-07</td>\n",
       "      <td>PulseSecure</td>\n",
       "      <td>INS650929</td>\n",
       "      <td>laura.jones@mail.com</td>\n",
       "    </tr>\n",
       "    <tr>\n",
       "      <th>3</th>\n",
       "      <td>P004</td>\n",
       "      <td>Michael</td>\n",
       "      <td>Johnson</td>\n",
       "      <td>F</td>\n",
       "      <td>1981-02-20</td>\n",
       "      <td>9019443432</td>\n",
       "      <td>123 Elm St</td>\n",
       "      <td>2021-03-02</td>\n",
       "      <td>HealthIndia</td>\n",
       "      <td>INS789944</td>\n",
       "      <td>michael.johnson@mail.com</td>\n",
       "    </tr>\n",
       "    <tr>\n",
       "      <th>4</th>\n",
       "      <td>P005</td>\n",
       "      <td>David</td>\n",
       "      <td>Wilson</td>\n",
       "      <td>M</td>\n",
       "      <td>1960-06-23</td>\n",
       "      <td>7734463155</td>\n",
       "      <td>123 Elm St</td>\n",
       "      <td>2021-09-29</td>\n",
       "      <td>MedCare Plus</td>\n",
       "      <td>INS788105</td>\n",
       "      <td>david.wilson@mail.com</td>\n",
       "    </tr>\n",
       "  </tbody>\n",
       "</table>\n",
       "</div>"
      ],
      "text/plain": [
       "  patient_id first_name last_name gender date_of_birth  contact_number  \\\n",
       "0       P001      David  Williams      F    1955-06-04      6939585183   \n",
       "1       P002      Emily     Smith      F    1984-10-12      8228188767   \n",
       "2       P003      Laura     Jones      M    1977-08-21      8397029847   \n",
       "3       P004    Michael   Johnson      F    1981-02-20      9019443432   \n",
       "4       P005      David    Wilson      M    1960-06-23      7734463155   \n",
       "\n",
       "        address registration_date insurance_provider insurance_number  \\\n",
       "0   789 Pine Rd        2022-06-23       WellnessCorp        INS840674   \n",
       "1  321 Maple Dr        2022-01-15        PulseSecure        INS354079   \n",
       "2  321 Maple Dr        2022-02-07        PulseSecure        INS650929   \n",
       "3    123 Elm St        2021-03-02        HealthIndia        INS789944   \n",
       "4    123 Elm St        2021-09-29       MedCare Plus        INS788105   \n",
       "\n",
       "                      email  \n",
       "0   david.williams@mail.com  \n",
       "1      emily.smith@mail.com  \n",
       "2      laura.jones@mail.com  \n",
       "3  michael.johnson@mail.com  \n",
       "4     david.wilson@mail.com  "
      ]
     },
     "execution_count": 4,
     "metadata": {},
     "output_type": "execute_result"
    }
   ],
   "source": [
    "data.head()"
   ]
  },
  {
   "cell_type": "code",
   "execution_count": 5,
   "id": "a60e9411",
   "metadata": {},
   "outputs": [
    {
     "name": "stdout",
     "output_type": "stream",
     "text": [
      "<class 'pandas.core.frame.DataFrame'>\n",
      "RangeIndex: 50 entries, 0 to 49\n",
      "Data columns (total 11 columns):\n",
      " #   Column              Non-Null Count  Dtype \n",
      "---  ------              --------------  ----- \n",
      " 0   patient_id          50 non-null     object\n",
      " 1   first_name          50 non-null     object\n",
      " 2   last_name           50 non-null     object\n",
      " 3   gender              50 non-null     object\n",
      " 4   date_of_birth       50 non-null     object\n",
      " 5   contact_number      50 non-null     int64 \n",
      " 6   address             50 non-null     object\n",
      " 7   registration_date   50 non-null     object\n",
      " 8   insurance_provider  50 non-null     object\n",
      " 9   insurance_number    50 non-null     object\n",
      " 10  email               50 non-null     object\n",
      "dtypes: int64(1), object(10)\n",
      "memory usage: 4.4+ KB\n"
     ]
    }
   ],
   "source": [
    "data.info()"
   ]
  },
  {
   "cell_type": "code",
   "execution_count": 6,
   "id": "1a1f496e",
   "metadata": {},
   "outputs": [
    {
     "data": {
      "text/plain": [
       "patient_id            0\n",
       "first_name            0\n",
       "last_name             0\n",
       "gender                0\n",
       "date_of_birth         0\n",
       "contact_number        0\n",
       "address               0\n",
       "registration_date     0\n",
       "insurance_provider    0\n",
       "insurance_number      0\n",
       "email                 0\n",
       "dtype: int64"
      ]
     },
     "execution_count": 6,
     "metadata": {},
     "output_type": "execute_result"
    }
   ],
   "source": [
    "data.isna().sum()"
   ]
  },
  {
   "cell_type": "code",
   "execution_count": 7,
   "id": "8668d7b4",
   "metadata": {},
   "outputs": [
    {
     "data": {
      "text/plain": [
       "Index(['patient_id', 'first_name', 'last_name', 'gender', 'date_of_birth',\n",
       "       'contact_number', 'address', 'registration_date', 'insurance_provider',\n",
       "       'insurance_number', 'email'],\n",
       "      dtype='object')"
      ]
     },
     "execution_count": 7,
     "metadata": {},
     "output_type": "execute_result"
    }
   ],
   "source": [
    "data.columns"
   ]
  },
  {
   "cell_type": "code",
   "execution_count": 8,
   "id": "c032757c",
   "metadata": {},
   "outputs": [],
   "source": [
    "data=data.rename(columns={\n",
    "    'patient_id': 'Patient ID', \n",
    "    'first_name': 'First Name', \n",
    "    'last_name': 'Last Name', \n",
    "    'gender': 'Gender', \n",
    "    'date_of_birth': 'DOB',\n",
    "    'contact_number': 'Contact Number', \n",
    "    'address': 'Address', \n",
    "    'registration_date': 'Registration Date',\n",
    "     'insurance_provider': 'Insurance Provider',\n",
    "    'insurance_number': 'Insurance Number', \n",
    "    'email': 'Email'\n",
    "})"
   ]
  },
  {
   "cell_type": "code",
   "execution_count": 9,
   "id": "034c0692",
   "metadata": {},
   "outputs": [
    {
     "data": {
      "text/plain": [
       "Index(['Patient ID', 'First Name', 'Last Name', 'Gender', 'DOB',\n",
       "       'Contact Number', 'Address', 'Registration Date', 'Insurance Provider',\n",
       "       'Insurance Number', 'Email'],\n",
       "      dtype='object')"
      ]
     },
     "execution_count": 9,
     "metadata": {},
     "output_type": "execute_result"
    }
   ],
   "source": [
    "data.columns"
   ]
  },
  {
   "cell_type": "code",
   "execution_count": 10,
   "id": "1d838e7d",
   "metadata": {},
   "outputs": [
    {
     "data": {
      "text/html": [
       "<div>\n",
       "<style scoped>\n",
       "    .dataframe tbody tr th:only-of-type {\n",
       "        vertical-align: middle;\n",
       "    }\n",
       "\n",
       "    .dataframe tbody tr th {\n",
       "        vertical-align: top;\n",
       "    }\n",
       "\n",
       "    .dataframe thead th {\n",
       "        text-align: right;\n",
       "    }\n",
       "</style>\n",
       "<table border=\"1\" class=\"dataframe\">\n",
       "  <thead>\n",
       "    <tr style=\"text-align: right;\">\n",
       "      <th></th>\n",
       "      <th>Patient ID</th>\n",
       "      <th>First Name</th>\n",
       "      <th>Last Name</th>\n",
       "      <th>Gender</th>\n",
       "      <th>DOB</th>\n",
       "      <th>Contact Number</th>\n",
       "      <th>Address</th>\n",
       "      <th>Registration Date</th>\n",
       "      <th>Insurance Provider</th>\n",
       "      <th>Insurance Number</th>\n",
       "      <th>Email</th>\n",
       "    </tr>\n",
       "  </thead>\n",
       "  <tbody>\n",
       "    <tr>\n",
       "      <th>0</th>\n",
       "      <td>P001</td>\n",
       "      <td>David</td>\n",
       "      <td>Williams</td>\n",
       "      <td>F</td>\n",
       "      <td>1955-06-04</td>\n",
       "      <td>6939585183</td>\n",
       "      <td>789 Pine Rd</td>\n",
       "      <td>2022-06-23</td>\n",
       "      <td>WellnessCorp</td>\n",
       "      <td>INS840674</td>\n",
       "      <td>david.williams@mail.com</td>\n",
       "    </tr>\n",
       "    <tr>\n",
       "      <th>1</th>\n",
       "      <td>P002</td>\n",
       "      <td>Emily</td>\n",
       "      <td>Smith</td>\n",
       "      <td>F</td>\n",
       "      <td>1984-10-12</td>\n",
       "      <td>8228188767</td>\n",
       "      <td>321 Maple Dr</td>\n",
       "      <td>2022-01-15</td>\n",
       "      <td>PulseSecure</td>\n",
       "      <td>INS354079</td>\n",
       "      <td>emily.smith@mail.com</td>\n",
       "    </tr>\n",
       "    <tr>\n",
       "      <th>2</th>\n",
       "      <td>P003</td>\n",
       "      <td>Laura</td>\n",
       "      <td>Jones</td>\n",
       "      <td>M</td>\n",
       "      <td>1977-08-21</td>\n",
       "      <td>8397029847</td>\n",
       "      <td>321 Maple Dr</td>\n",
       "      <td>2022-02-07</td>\n",
       "      <td>PulseSecure</td>\n",
       "      <td>INS650929</td>\n",
       "      <td>laura.jones@mail.com</td>\n",
       "    </tr>\n",
       "    <tr>\n",
       "      <th>3</th>\n",
       "      <td>P004</td>\n",
       "      <td>Michael</td>\n",
       "      <td>Johnson</td>\n",
       "      <td>F</td>\n",
       "      <td>1981-02-20</td>\n",
       "      <td>9019443432</td>\n",
       "      <td>123 Elm St</td>\n",
       "      <td>2021-03-02</td>\n",
       "      <td>HealthIndia</td>\n",
       "      <td>INS789944</td>\n",
       "      <td>michael.johnson@mail.com</td>\n",
       "    </tr>\n",
       "    <tr>\n",
       "      <th>4</th>\n",
       "      <td>P005</td>\n",
       "      <td>David</td>\n",
       "      <td>Wilson</td>\n",
       "      <td>M</td>\n",
       "      <td>1960-06-23</td>\n",
       "      <td>7734463155</td>\n",
       "      <td>123 Elm St</td>\n",
       "      <td>2021-09-29</td>\n",
       "      <td>MedCare Plus</td>\n",
       "      <td>INS788105</td>\n",
       "      <td>david.wilson@mail.com</td>\n",
       "    </tr>\n",
       "  </tbody>\n",
       "</table>\n",
       "</div>"
      ],
      "text/plain": [
       "  Patient ID First Name Last Name Gender         DOB  Contact Number  \\\n",
       "0       P001      David  Williams      F  1955-06-04      6939585183   \n",
       "1       P002      Emily     Smith      F  1984-10-12      8228188767   \n",
       "2       P003      Laura     Jones      M  1977-08-21      8397029847   \n",
       "3       P004    Michael   Johnson      F  1981-02-20      9019443432   \n",
       "4       P005      David    Wilson      M  1960-06-23      7734463155   \n",
       "\n",
       "        Address Registration Date Insurance Provider Insurance Number  \\\n",
       "0   789 Pine Rd        2022-06-23       WellnessCorp        INS840674   \n",
       "1  321 Maple Dr        2022-01-15        PulseSecure        INS354079   \n",
       "2  321 Maple Dr        2022-02-07        PulseSecure        INS650929   \n",
       "3    123 Elm St        2021-03-02        HealthIndia        INS789944   \n",
       "4    123 Elm St        2021-09-29       MedCare Plus        INS788105   \n",
       "\n",
       "                      Email  \n",
       "0   david.williams@mail.com  \n",
       "1      emily.smith@mail.com  \n",
       "2      laura.jones@mail.com  \n",
       "3  michael.johnson@mail.com  \n",
       "4     david.wilson@mail.com  "
      ]
     },
     "execution_count": 10,
     "metadata": {},
     "output_type": "execute_result"
    }
   ],
   "source": [
    "data.head()"
   ]
  },
  {
   "cell_type": "code",
   "execution_count": 11,
   "id": "4b1ac59f",
   "metadata": {},
   "outputs": [
    {
     "data": {
      "text/plain": [
       "0     1955-06-04\n",
       "1     1984-10-12\n",
       "2     1977-08-21\n",
       "3     1981-02-20\n",
       "4     1960-06-23\n",
       "5     1963-06-16\n",
       "6     1989-06-08\n",
       "7     1976-07-05\n",
       "8     1971-12-11\n",
       "9     2001-10-13\n",
       "10    1966-12-04\n",
       "11    1991-12-08\n",
       "12    1990-03-28\n",
       "13    1968-02-27\n",
       "14    1964-05-11\n",
       "15    2000-07-22\n",
       "16    1991-05-01\n",
       "17    1979-09-24\n",
       "18    1975-05-24\n",
       "19    2003-06-06\n",
       "20    2002-03-01\n",
       "21    1955-05-10\n",
       "22    1994-02-22\n",
       "23    1991-11-04\n",
       "24    1966-08-14\n",
       "25    2003-11-28\n",
       "26    1998-06-29\n",
       "27    1993-04-13\n",
       "28    2005-05-15\n",
       "29    1964-12-23\n",
       "30    1987-01-14\n",
       "31    1981-01-08\n",
       "32    1970-02-06\n",
       "33    1950-01-26\n",
       "34    1993-04-13\n",
       "35    1997-12-26\n",
       "36    1999-02-05\n",
       "37    1991-06-25\n",
       "38    1950-12-12\n",
       "39    1972-05-30\n",
       "40    1951-06-19\n",
       "41    1954-08-22\n",
       "42    1980-03-25\n",
       "43    1976-03-11\n",
       "44    1966-04-25\n",
       "45    1986-09-01\n",
       "46    1995-12-13\n",
       "47    1983-03-24\n",
       "48    1972-11-26\n",
       "49    1993-12-27\n",
       "Name: DOB, dtype: object"
      ]
     },
     "execution_count": 11,
     "metadata": {},
     "output_type": "execute_result"
    }
   ],
   "source": [
    "data['DOB']"
   ]
  },
  {
   "cell_type": "code",
   "execution_count": 13,
   "id": "c28815f1",
   "metadata": {},
   "outputs": [],
   "source": [
    "data['DOB']= pd.to_datetime(data['DOB'], errors='coerce')"
   ]
  },
  {
   "cell_type": "code",
   "execution_count": 14,
   "id": "df0b9bb7",
   "metadata": {},
   "outputs": [],
   "source": [
    "data['Registration Date']= pd.to_datetime(data['Registration Date'], errors='coerce')"
   ]
  },
  {
   "cell_type": "code",
   "execution_count": 15,
   "id": "2eb28025",
   "metadata": {},
   "outputs": [
    {
     "name": "stdout",
     "output_type": "stream",
     "text": [
      "<class 'pandas.core.frame.DataFrame'>\n",
      "RangeIndex: 50 entries, 0 to 49\n",
      "Data columns (total 11 columns):\n",
      " #   Column              Non-Null Count  Dtype         \n",
      "---  ------              --------------  -----         \n",
      " 0   Patient ID          50 non-null     object        \n",
      " 1   First Name          50 non-null     object        \n",
      " 2   Last Name           50 non-null     object        \n",
      " 3   Gender              50 non-null     object        \n",
      " 4   DOB                 50 non-null     datetime64[ns]\n",
      " 5   Contact Number      50 non-null     int64         \n",
      " 6   Address             50 non-null     object        \n",
      " 7   Registration Date   50 non-null     datetime64[ns]\n",
      " 8   Insurance Provider  50 non-null     object        \n",
      " 9   Insurance Number    50 non-null     object        \n",
      " 10  Email               50 non-null     object        \n",
      "dtypes: datetime64[ns](2), int64(1), object(8)\n",
      "memory usage: 4.4+ KB\n"
     ]
    }
   ],
   "source": [
    "data.info()"
   ]
  },
  {
   "cell_type": "code",
   "execution_count": 16,
   "id": "40b36a2e",
   "metadata": {},
   "outputs": [],
   "source": [
    "data.drop(columns='Contact Number',inplace=True)"
   ]
  },
  {
   "cell_type": "code",
   "execution_count": 17,
   "id": "4bb74920",
   "metadata": {},
   "outputs": [
    {
     "data": {
      "text/plain": [
       "Index(['Patient ID', 'First Name', 'Last Name', 'Gender', 'DOB', 'Address',\n",
       "       'Registration Date', 'Insurance Provider', 'Insurance Number', 'Email'],\n",
       "      dtype='object')"
      ]
     },
     "execution_count": 17,
     "metadata": {},
     "output_type": "execute_result"
    }
   ],
   "source": [
    "data.columns"
   ]
  },
  {
   "cell_type": "code",
   "execution_count": 18,
   "id": "8af04cf4",
   "metadata": {},
   "outputs": [
    {
     "data": {
      "text/plain": [
       "np.int64(0)"
      ]
     },
     "execution_count": 18,
     "metadata": {},
     "output_type": "execute_result"
    }
   ],
   "source": [
    "data.duplicated().sum()"
   ]
  },
  {
   "cell_type": "code",
   "execution_count": 19,
   "id": "d760a982",
   "metadata": {},
   "outputs": [],
   "source": [
    "data.to_csv(\"cleaned_patient_data.csv\",index=False)"
   ]
  },
  {
   "cell_type": "code",
   "execution_count": null,
   "id": "0ee1a671",
   "metadata": {},
   "outputs": [],
   "source": []
  },
  {
   "cell_type": "code",
   "execution_count": null,
   "id": "d4af0a14",
   "metadata": {},
   "outputs": [],
   "source": []
  },
  {
   "cell_type": "code",
   "execution_count": null,
   "id": "fe52a510",
   "metadata": {},
   "outputs": [],
   "source": []
  }
 ],
 "metadata": {
  "kernelspec": {
   "display_name": "Python 3",
   "language": "python",
   "name": "python3"
  },
  "language_info": {
   "codemirror_mode": {
    "name": "ipython",
    "version": 3
   },
   "file_extension": ".py",
   "mimetype": "text/x-python",
   "name": "python",
   "nbconvert_exporter": "python",
   "pygments_lexer": "ipython3",
   "version": "3.12.3"
  }
 },
 "nbformat": 4,
 "nbformat_minor": 5
}
