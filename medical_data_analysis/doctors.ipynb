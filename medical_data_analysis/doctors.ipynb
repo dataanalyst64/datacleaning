{
 "cells": [
  {
   "cell_type": "code",
   "execution_count": 1,
   "id": "ec77a179",
   "metadata": {},
   "outputs": [],
   "source": [
    "import pandas as pd"
   ]
  },
  {
   "cell_type": "code",
   "execution_count": 3,
   "id": "3818e8b1",
   "metadata": {},
   "outputs": [],
   "source": [
    "data=pd.read_csv(\"doctors.csv\")"
   ]
  },
  {
   "cell_type": "code",
   "execution_count": 4,
   "id": "a3da37e7",
   "metadata": {},
   "outputs": [
    {
     "data": {
      "text/html": [
       "<div>\n",
       "<style scoped>\n",
       "    .dataframe tbody tr th:only-of-type {\n",
       "        vertical-align: middle;\n",
       "    }\n",
       "\n",
       "    .dataframe tbody tr th {\n",
       "        vertical-align: top;\n",
       "    }\n",
       "\n",
       "    .dataframe thead th {\n",
       "        text-align: right;\n",
       "    }\n",
       "</style>\n",
       "<table border=\"1\" class=\"dataframe\">\n",
       "  <thead>\n",
       "    <tr style=\"text-align: right;\">\n",
       "      <th></th>\n",
       "      <th>doctor_id</th>\n",
       "      <th>first_name</th>\n",
       "      <th>last_name</th>\n",
       "      <th>specialization</th>\n",
       "      <th>phone_number</th>\n",
       "      <th>years_experience</th>\n",
       "      <th>hospital_branch</th>\n",
       "      <th>email</th>\n",
       "    </tr>\n",
       "  </thead>\n",
       "  <tbody>\n",
       "    <tr>\n",
       "      <th>0</th>\n",
       "      <td>D001</td>\n",
       "      <td>David</td>\n",
       "      <td>Taylor</td>\n",
       "      <td>Dermatology</td>\n",
       "      <td>8322010158</td>\n",
       "      <td>17</td>\n",
       "      <td>Westside Clinic</td>\n",
       "      <td>dr.david.taylor@hospital.com</td>\n",
       "    </tr>\n",
       "    <tr>\n",
       "      <th>1</th>\n",
       "      <td>D002</td>\n",
       "      <td>Jane</td>\n",
       "      <td>Davis</td>\n",
       "      <td>Pediatrics</td>\n",
       "      <td>9004382050</td>\n",
       "      <td>24</td>\n",
       "      <td>Eastside Clinic</td>\n",
       "      <td>dr.jane.davis@hospital.com</td>\n",
       "    </tr>\n",
       "    <tr>\n",
       "      <th>2</th>\n",
       "      <td>D003</td>\n",
       "      <td>Jane</td>\n",
       "      <td>Smith</td>\n",
       "      <td>Pediatrics</td>\n",
       "      <td>8737740598</td>\n",
       "      <td>19</td>\n",
       "      <td>Eastside Clinic</td>\n",
       "      <td>dr.jane.smith@hospital.com</td>\n",
       "    </tr>\n",
       "    <tr>\n",
       "      <th>3</th>\n",
       "      <td>D004</td>\n",
       "      <td>David</td>\n",
       "      <td>Jones</td>\n",
       "      <td>Pediatrics</td>\n",
       "      <td>6594221991</td>\n",
       "      <td>28</td>\n",
       "      <td>Central Hospital</td>\n",
       "      <td>dr.david.jones@hospital.com</td>\n",
       "    </tr>\n",
       "    <tr>\n",
       "      <th>4</th>\n",
       "      <td>D005</td>\n",
       "      <td>Sarah</td>\n",
       "      <td>Taylor</td>\n",
       "      <td>Dermatology</td>\n",
       "      <td>9118538547</td>\n",
       "      <td>26</td>\n",
       "      <td>Central Hospital</td>\n",
       "      <td>dr.sarah.taylor@hospital.com</td>\n",
       "    </tr>\n",
       "  </tbody>\n",
       "</table>\n",
       "</div>"
      ],
      "text/plain": [
       "  doctor_id first_name last_name specialization  phone_number  \\\n",
       "0      D001      David    Taylor    Dermatology    8322010158   \n",
       "1      D002       Jane     Davis     Pediatrics    9004382050   \n",
       "2      D003       Jane     Smith     Pediatrics    8737740598   \n",
       "3      D004      David     Jones     Pediatrics    6594221991   \n",
       "4      D005      Sarah    Taylor    Dermatology    9118538547   \n",
       "\n",
       "   years_experience   hospital_branch                         email  \n",
       "0                17   Westside Clinic  dr.david.taylor@hospital.com  \n",
       "1                24   Eastside Clinic    dr.jane.davis@hospital.com  \n",
       "2                19   Eastside Clinic    dr.jane.smith@hospital.com  \n",
       "3                28  Central Hospital   dr.david.jones@hospital.com  \n",
       "4                26  Central Hospital  dr.sarah.taylor@hospital.com  "
      ]
     },
     "execution_count": 4,
     "metadata": {},
     "output_type": "execute_result"
    }
   ],
   "source": [
    "data.head()"
   ]
  },
  {
   "cell_type": "code",
   "execution_count": 5,
   "id": "427e5c98",
   "metadata": {},
   "outputs": [
    {
     "name": "stdout",
     "output_type": "stream",
     "text": [
      "<class 'pandas.core.frame.DataFrame'>\n",
      "RangeIndex: 10 entries, 0 to 9\n",
      "Data columns (total 8 columns):\n",
      " #   Column            Non-Null Count  Dtype \n",
      "---  ------            --------------  ----- \n",
      " 0   doctor_id         10 non-null     object\n",
      " 1   first_name        10 non-null     object\n",
      " 2   last_name         10 non-null     object\n",
      " 3   specialization    10 non-null     object\n",
      " 4   phone_number      10 non-null     int64 \n",
      " 5   years_experience  10 non-null     int64 \n",
      " 6   hospital_branch   10 non-null     object\n",
      " 7   email             10 non-null     object\n",
      "dtypes: int64(2), object(6)\n",
      "memory usage: 772.0+ bytes\n"
     ]
    }
   ],
   "source": [
    "data.info()"
   ]
  },
  {
   "cell_type": "code",
   "execution_count": 6,
   "id": "dbb9d769",
   "metadata": {},
   "outputs": [
    {
     "data": {
      "text/plain": [
       "Index(['doctor_id', 'first_name', 'last_name', 'specialization',\n",
       "       'phone_number', 'years_experience', 'hospital_branch', 'email'],\n",
       "      dtype='object')"
      ]
     },
     "execution_count": 6,
     "metadata": {},
     "output_type": "execute_result"
    }
   ],
   "source": [
    "data.columns"
   ]
  },
  {
   "cell_type": "code",
   "execution_count": 7,
   "id": "44ba32f8",
   "metadata": {},
   "outputs": [],
   "source": [
    "data=data.rename(columns={\n",
    "    'doctor_id': 'Doctor ID', \n",
    "    'first_name': 'First Name', \n",
    "    'last_name': 'Last Name', \n",
    "    'specialization': 'Specialization',\n",
    "    'phone_number': 'Phone Number', \n",
    "     'years_experience': 'Years Experience', \n",
    "     'hospital_branch': 'Hospital Branch', \n",
    "     'email': 'Email'\n",
    "})"
   ]
  },
  {
   "cell_type": "code",
   "execution_count": 8,
   "id": "cb2163ed",
   "metadata": {},
   "outputs": [
    {
     "data": {
      "text/plain": [
       "Index(['Doctor ID', 'First Name', 'Last Name', 'Specialization',\n",
       "       'Phone Number', 'Years Experience', 'Hospital Branch', 'Email'],\n",
       "      dtype='object')"
      ]
     },
     "execution_count": 8,
     "metadata": {},
     "output_type": "execute_result"
    }
   ],
   "source": [
    "data.columns"
   ]
  },
  {
   "cell_type": "code",
   "execution_count": 9,
   "id": "197e5461",
   "metadata": {},
   "outputs": [
    {
     "data": {
      "text/html": [
       "<div>\n",
       "<style scoped>\n",
       "    .dataframe tbody tr th:only-of-type {\n",
       "        vertical-align: middle;\n",
       "    }\n",
       "\n",
       "    .dataframe tbody tr th {\n",
       "        vertical-align: top;\n",
       "    }\n",
       "\n",
       "    .dataframe thead th {\n",
       "        text-align: right;\n",
       "    }\n",
       "</style>\n",
       "<table border=\"1\" class=\"dataframe\">\n",
       "  <thead>\n",
       "    <tr style=\"text-align: right;\">\n",
       "      <th></th>\n",
       "      <th>Doctor ID</th>\n",
       "      <th>First Name</th>\n",
       "      <th>Last Name</th>\n",
       "      <th>Specialization</th>\n",
       "      <th>Phone Number</th>\n",
       "      <th>Years Experience</th>\n",
       "      <th>Hospital Branch</th>\n",
       "      <th>Email</th>\n",
       "    </tr>\n",
       "  </thead>\n",
       "  <tbody>\n",
       "    <tr>\n",
       "      <th>0</th>\n",
       "      <td>D001</td>\n",
       "      <td>David</td>\n",
       "      <td>Taylor</td>\n",
       "      <td>Dermatology</td>\n",
       "      <td>8322010158</td>\n",
       "      <td>17</td>\n",
       "      <td>Westside Clinic</td>\n",
       "      <td>dr.david.taylor@hospital.com</td>\n",
       "    </tr>\n",
       "    <tr>\n",
       "      <th>1</th>\n",
       "      <td>D002</td>\n",
       "      <td>Jane</td>\n",
       "      <td>Davis</td>\n",
       "      <td>Pediatrics</td>\n",
       "      <td>9004382050</td>\n",
       "      <td>24</td>\n",
       "      <td>Eastside Clinic</td>\n",
       "      <td>dr.jane.davis@hospital.com</td>\n",
       "    </tr>\n",
       "    <tr>\n",
       "      <th>2</th>\n",
       "      <td>D003</td>\n",
       "      <td>Jane</td>\n",
       "      <td>Smith</td>\n",
       "      <td>Pediatrics</td>\n",
       "      <td>8737740598</td>\n",
       "      <td>19</td>\n",
       "      <td>Eastside Clinic</td>\n",
       "      <td>dr.jane.smith@hospital.com</td>\n",
       "    </tr>\n",
       "    <tr>\n",
       "      <th>3</th>\n",
       "      <td>D004</td>\n",
       "      <td>David</td>\n",
       "      <td>Jones</td>\n",
       "      <td>Pediatrics</td>\n",
       "      <td>6594221991</td>\n",
       "      <td>28</td>\n",
       "      <td>Central Hospital</td>\n",
       "      <td>dr.david.jones@hospital.com</td>\n",
       "    </tr>\n",
       "    <tr>\n",
       "      <th>4</th>\n",
       "      <td>D005</td>\n",
       "      <td>Sarah</td>\n",
       "      <td>Taylor</td>\n",
       "      <td>Dermatology</td>\n",
       "      <td>9118538547</td>\n",
       "      <td>26</td>\n",
       "      <td>Central Hospital</td>\n",
       "      <td>dr.sarah.taylor@hospital.com</td>\n",
       "    </tr>\n",
       "  </tbody>\n",
       "</table>\n",
       "</div>"
      ],
      "text/plain": [
       "  Doctor ID First Name Last Name Specialization  Phone Number  \\\n",
       "0      D001      David    Taylor    Dermatology    8322010158   \n",
       "1      D002       Jane     Davis     Pediatrics    9004382050   \n",
       "2      D003       Jane     Smith     Pediatrics    8737740598   \n",
       "3      D004      David     Jones     Pediatrics    6594221991   \n",
       "4      D005      Sarah    Taylor    Dermatology    9118538547   \n",
       "\n",
       "   Years Experience   Hospital Branch                         Email  \n",
       "0                17   Westside Clinic  dr.david.taylor@hospital.com  \n",
       "1                24   Eastside Clinic    dr.jane.davis@hospital.com  \n",
       "2                19   Eastside Clinic    dr.jane.smith@hospital.com  \n",
       "3                28  Central Hospital   dr.david.jones@hospital.com  \n",
       "4                26  Central Hospital  dr.sarah.taylor@hospital.com  "
      ]
     },
     "execution_count": 9,
     "metadata": {},
     "output_type": "execute_result"
    }
   ],
   "source": [
    "data.head()"
   ]
  },
  {
   "cell_type": "code",
   "execution_count": 10,
   "id": "514977bb",
   "metadata": {},
   "outputs": [
    {
     "data": {
      "text/plain": [
       "Doctor ID           0\n",
       "First Name          0\n",
       "Last Name           0\n",
       "Specialization      0\n",
       "Phone Number        0\n",
       "Years Experience    0\n",
       "Hospital Branch     0\n",
       "Email               0\n",
       "dtype: int64"
      ]
     },
     "execution_count": 10,
     "metadata": {},
     "output_type": "execute_result"
    }
   ],
   "source": [
    "data.isna().sum()"
   ]
  },
  {
   "cell_type": "code",
   "execution_count": 11,
   "id": "d686bccb",
   "metadata": {},
   "outputs": [
    {
     "data": {
      "text/plain": [
       "np.int64(0)"
      ]
     },
     "execution_count": 11,
     "metadata": {},
     "output_type": "execute_result"
    }
   ],
   "source": [
    "data.duplicated().sum()"
   ]
  },
  {
   "cell_type": "code",
   "execution_count": 12,
   "id": "b98ab566",
   "metadata": {},
   "outputs": [],
   "source": [
    "data.drop(columns='Phone Number',inplace=True)"
   ]
  },
  {
   "cell_type": "code",
   "execution_count": 13,
   "id": "00d5c22d",
   "metadata": {},
   "outputs": [
    {
     "data": {
      "text/html": [
       "<div>\n",
       "<style scoped>\n",
       "    .dataframe tbody tr th:only-of-type {\n",
       "        vertical-align: middle;\n",
       "    }\n",
       "\n",
       "    .dataframe tbody tr th {\n",
       "        vertical-align: top;\n",
       "    }\n",
       "\n",
       "    .dataframe thead th {\n",
       "        text-align: right;\n",
       "    }\n",
       "</style>\n",
       "<table border=\"1\" class=\"dataframe\">\n",
       "  <thead>\n",
       "    <tr style=\"text-align: right;\">\n",
       "      <th></th>\n",
       "      <th>Doctor ID</th>\n",
       "      <th>First Name</th>\n",
       "      <th>Last Name</th>\n",
       "      <th>Specialization</th>\n",
       "      <th>Years Experience</th>\n",
       "      <th>Hospital Branch</th>\n",
       "      <th>Email</th>\n",
       "    </tr>\n",
       "  </thead>\n",
       "  <tbody>\n",
       "    <tr>\n",
       "      <th>0</th>\n",
       "      <td>D001</td>\n",
       "      <td>David</td>\n",
       "      <td>Taylor</td>\n",
       "      <td>Dermatology</td>\n",
       "      <td>17</td>\n",
       "      <td>Westside Clinic</td>\n",
       "      <td>dr.david.taylor@hospital.com</td>\n",
       "    </tr>\n",
       "    <tr>\n",
       "      <th>1</th>\n",
       "      <td>D002</td>\n",
       "      <td>Jane</td>\n",
       "      <td>Davis</td>\n",
       "      <td>Pediatrics</td>\n",
       "      <td>24</td>\n",
       "      <td>Eastside Clinic</td>\n",
       "      <td>dr.jane.davis@hospital.com</td>\n",
       "    </tr>\n",
       "    <tr>\n",
       "      <th>2</th>\n",
       "      <td>D003</td>\n",
       "      <td>Jane</td>\n",
       "      <td>Smith</td>\n",
       "      <td>Pediatrics</td>\n",
       "      <td>19</td>\n",
       "      <td>Eastside Clinic</td>\n",
       "      <td>dr.jane.smith@hospital.com</td>\n",
       "    </tr>\n",
       "    <tr>\n",
       "      <th>3</th>\n",
       "      <td>D004</td>\n",
       "      <td>David</td>\n",
       "      <td>Jones</td>\n",
       "      <td>Pediatrics</td>\n",
       "      <td>28</td>\n",
       "      <td>Central Hospital</td>\n",
       "      <td>dr.david.jones@hospital.com</td>\n",
       "    </tr>\n",
       "    <tr>\n",
       "      <th>4</th>\n",
       "      <td>D005</td>\n",
       "      <td>Sarah</td>\n",
       "      <td>Taylor</td>\n",
       "      <td>Dermatology</td>\n",
       "      <td>26</td>\n",
       "      <td>Central Hospital</td>\n",
       "      <td>dr.sarah.taylor@hospital.com</td>\n",
       "    </tr>\n",
       "  </tbody>\n",
       "</table>\n",
       "</div>"
      ],
      "text/plain": [
       "  Doctor ID First Name Last Name Specialization  Years Experience  \\\n",
       "0      D001      David    Taylor    Dermatology                17   \n",
       "1      D002       Jane     Davis     Pediatrics                24   \n",
       "2      D003       Jane     Smith     Pediatrics                19   \n",
       "3      D004      David     Jones     Pediatrics                28   \n",
       "4      D005      Sarah    Taylor    Dermatology                26   \n",
       "\n",
       "    Hospital Branch                         Email  \n",
       "0   Westside Clinic  dr.david.taylor@hospital.com  \n",
       "1   Eastside Clinic    dr.jane.davis@hospital.com  \n",
       "2   Eastside Clinic    dr.jane.smith@hospital.com  \n",
       "3  Central Hospital   dr.david.jones@hospital.com  \n",
       "4  Central Hospital  dr.sarah.taylor@hospital.com  "
      ]
     },
     "execution_count": 13,
     "metadata": {},
     "output_type": "execute_result"
    }
   ],
   "source": [
    "data.head()"
   ]
  },
  {
   "cell_type": "code",
   "execution_count": 14,
   "id": "f3d28f5c",
   "metadata": {},
   "outputs": [],
   "source": [
    "data.to_csv(\"cleaned_doctors_data.csv\",index=False)"
   ]
  },
  {
   "cell_type": "code",
   "execution_count": null,
   "id": "1e1a1388",
   "metadata": {},
   "outputs": [],
   "source": []
  },
  {
   "cell_type": "code",
   "execution_count": null,
   "id": "75fbea0c",
   "metadata": {},
   "outputs": [],
   "source": []
  }
 ],
 "metadata": {
  "kernelspec": {
   "display_name": "Python 3",
   "language": "python",
   "name": "python3"
  },
  "language_info": {
   "codemirror_mode": {
    "name": "ipython",
    "version": 3
   },
   "file_extension": ".py",
   "mimetype": "text/x-python",
   "name": "python",
   "nbconvert_exporter": "python",
   "pygments_lexer": "ipython3",
   "version": "3.12.3"
  }
 },
 "nbformat": 4,
 "nbformat_minor": 5
}
