{
 "cells": [
  {
   "cell_type": "code",
   "execution_count": 1,
   "id": "38a8b41b",
   "metadata": {},
   "outputs": [],
   "source": [
    "import pandas as pd"
   ]
  },
  {
   "cell_type": "code",
   "execution_count": 3,
   "id": "faaded22",
   "metadata": {},
   "outputs": [],
   "source": [
    "data=pd.read_csv(\"treatments.csv\")"
   ]
  },
  {
   "cell_type": "code",
   "execution_count": 4,
   "id": "6b6cdfe1",
   "metadata": {},
   "outputs": [
    {
     "data": {
      "text/html": [
       "<div>\n",
       "<style scoped>\n",
       "    .dataframe tbody tr th:only-of-type {\n",
       "        vertical-align: middle;\n",
       "    }\n",
       "\n",
       "    .dataframe tbody tr th {\n",
       "        vertical-align: top;\n",
       "    }\n",
       "\n",
       "    .dataframe thead th {\n",
       "        text-align: right;\n",
       "    }\n",
       "</style>\n",
       "<table border=\"1\" class=\"dataframe\">\n",
       "  <thead>\n",
       "    <tr style=\"text-align: right;\">\n",
       "      <th></th>\n",
       "      <th>treatment_id</th>\n",
       "      <th>appointment_id</th>\n",
       "      <th>treatment_type</th>\n",
       "      <th>description</th>\n",
       "      <th>cost</th>\n",
       "      <th>treatment_date</th>\n",
       "    </tr>\n",
       "  </thead>\n",
       "  <tbody>\n",
       "    <tr>\n",
       "      <th>0</th>\n",
       "      <td>T001</td>\n",
       "      <td>A001</td>\n",
       "      <td>Chemotherapy</td>\n",
       "      <td>Basic screening</td>\n",
       "      <td>3941.97</td>\n",
       "      <td>2023-08-09</td>\n",
       "    </tr>\n",
       "    <tr>\n",
       "      <th>1</th>\n",
       "      <td>T002</td>\n",
       "      <td>A002</td>\n",
       "      <td>MRI</td>\n",
       "      <td>Advanced protocol</td>\n",
       "      <td>4158.44</td>\n",
       "      <td>2023-06-09</td>\n",
       "    </tr>\n",
       "    <tr>\n",
       "      <th>2</th>\n",
       "      <td>T003</td>\n",
       "      <td>A003</td>\n",
       "      <td>MRI</td>\n",
       "      <td>Standard procedure</td>\n",
       "      <td>3731.55</td>\n",
       "      <td>2023-06-28</td>\n",
       "    </tr>\n",
       "    <tr>\n",
       "      <th>3</th>\n",
       "      <td>T004</td>\n",
       "      <td>A004</td>\n",
       "      <td>MRI</td>\n",
       "      <td>Basic screening</td>\n",
       "      <td>4799.86</td>\n",
       "      <td>2023-09-01</td>\n",
       "    </tr>\n",
       "    <tr>\n",
       "      <th>4</th>\n",
       "      <td>T005</td>\n",
       "      <td>A005</td>\n",
       "      <td>ECG</td>\n",
       "      <td>Standard procedure</td>\n",
       "      <td>582.05</td>\n",
       "      <td>2023-07-06</td>\n",
       "    </tr>\n",
       "  </tbody>\n",
       "</table>\n",
       "</div>"
      ],
      "text/plain": [
       "  treatment_id appointment_id treatment_type         description     cost  \\\n",
       "0         T001           A001   Chemotherapy     Basic screening  3941.97   \n",
       "1         T002           A002            MRI   Advanced protocol  4158.44   \n",
       "2         T003           A003            MRI  Standard procedure  3731.55   \n",
       "3         T004           A004            MRI     Basic screening  4799.86   \n",
       "4         T005           A005            ECG  Standard procedure   582.05   \n",
       "\n",
       "  treatment_date  \n",
       "0     2023-08-09  \n",
       "1     2023-06-09  \n",
       "2     2023-06-28  \n",
       "3     2023-09-01  \n",
       "4     2023-07-06  "
      ]
     },
     "execution_count": 4,
     "metadata": {},
     "output_type": "execute_result"
    }
   ],
   "source": [
    "data.head()"
   ]
  },
  {
   "cell_type": "code",
   "execution_count": 5,
   "id": "910317dc",
   "metadata": {},
   "outputs": [
    {
     "data": {
      "text/plain": [
       "treatment_id      0\n",
       "appointment_id    0\n",
       "treatment_type    0\n",
       "description       0\n",
       "cost              0\n",
       "treatment_date    0\n",
       "dtype: int64"
      ]
     },
     "execution_count": 5,
     "metadata": {},
     "output_type": "execute_result"
    }
   ],
   "source": [
    "data.isna().sum()"
   ]
  },
  {
   "cell_type": "code",
   "execution_count": 6,
   "id": "c1ab3ca8",
   "metadata": {},
   "outputs": [
    {
     "data": {
      "text/plain": [
       "Index(['treatment_id', 'appointment_id', 'treatment_type', 'description',\n",
       "       'cost', 'treatment_date'],\n",
       "      dtype='object')"
      ]
     },
     "execution_count": 6,
     "metadata": {},
     "output_type": "execute_result"
    }
   ],
   "source": [
    "data.columns"
   ]
  },
  {
   "cell_type": "code",
   "execution_count": 7,
   "id": "c495a557",
   "metadata": {},
   "outputs": [],
   "source": [
    "data=data.rename(columns={\n",
    "    'treatment_id': 'Treatment ID', \n",
    "    'appointment_id': 'Appoitment ID', \n",
    "    'treatment_type': 'Treatment Type', \n",
    "    'description': 'Description',\n",
    "    'cost': 'Cost', \n",
    "    'treatment_date': 'Treatment Date'\n",
    "\n",
    "})"
   ]
  },
  {
   "cell_type": "code",
   "execution_count": 8,
   "id": "796127c2",
   "metadata": {},
   "outputs": [
    {
     "data": {
      "text/plain": [
       "Index(['Treatment ID', 'Appoitment ID', 'Treatment Type', 'Description',\n",
       "       'Cost', 'Treatment Date'],\n",
       "      dtype='object')"
      ]
     },
     "execution_count": 8,
     "metadata": {},
     "output_type": "execute_result"
    }
   ],
   "source": [
    "data.columns"
   ]
  },
  {
   "cell_type": "code",
   "execution_count": 9,
   "id": "040ae923",
   "metadata": {},
   "outputs": [
    {
     "data": {
      "text/plain": [
       "0      2023-08-09\n",
       "1      2023-06-09\n",
       "2      2023-06-28\n",
       "3      2023-09-01\n",
       "4      2023-07-06\n",
       "          ...    \n",
       "195    2023-10-26\n",
       "196    2023-04-01\n",
       "197    2023-05-15\n",
       "198    2023-05-01\n",
       "199    2023-12-30\n",
       "Name: Treatment Date, Length: 200, dtype: object"
      ]
     },
     "execution_count": 9,
     "metadata": {},
     "output_type": "execute_result"
    }
   ],
   "source": [
    "data['Treatment Date']"
   ]
  },
  {
   "cell_type": "code",
   "execution_count": 10,
   "id": "fb0fd372",
   "metadata": {},
   "outputs": [],
   "source": [
    "data['Treatment Date']=pd.to_datetime(data['Treatment Date'], errors='coerce')"
   ]
  },
  {
   "cell_type": "code",
   "execution_count": 11,
   "id": "efd3f068",
   "metadata": {},
   "outputs": [
    {
     "data": {
      "text/plain": [
       "0     2023-08-09\n",
       "1     2023-06-09\n",
       "2     2023-06-28\n",
       "3     2023-09-01\n",
       "4     2023-07-06\n",
       "         ...    \n",
       "195   2023-10-26\n",
       "196   2023-04-01\n",
       "197   2023-05-15\n",
       "198   2023-05-01\n",
       "199   2023-12-30\n",
       "Name: Treatment Date, Length: 200, dtype: datetime64[ns]"
      ]
     },
     "execution_count": 11,
     "metadata": {},
     "output_type": "execute_result"
    }
   ],
   "source": [
    "data['Treatment Date']"
   ]
  },
  {
   "cell_type": "code",
   "execution_count": 12,
   "id": "476b955d",
   "metadata": {},
   "outputs": [
    {
     "name": "stdout",
     "output_type": "stream",
     "text": [
      "<class 'pandas.core.frame.DataFrame'>\n",
      "RangeIndex: 200 entries, 0 to 199\n",
      "Data columns (total 6 columns):\n",
      " #   Column          Non-Null Count  Dtype         \n",
      "---  ------          --------------  -----         \n",
      " 0   Treatment ID    200 non-null    object        \n",
      " 1   Appoitment ID   200 non-null    object        \n",
      " 2   Treatment Type  200 non-null    object        \n",
      " 3   Description     200 non-null    object        \n",
      " 4   Cost            200 non-null    float64       \n",
      " 5   Treatment Date  200 non-null    datetime64[ns]\n",
      "dtypes: datetime64[ns](1), float64(1), object(4)\n",
      "memory usage: 9.5+ KB\n"
     ]
    }
   ],
   "source": [
    "data.info()"
   ]
  },
  {
   "cell_type": "code",
   "execution_count": 13,
   "id": "43ea9c3c",
   "metadata": {},
   "outputs": [
    {
     "data": {
      "text/html": [
       "<div>\n",
       "<style scoped>\n",
       "    .dataframe tbody tr th:only-of-type {\n",
       "        vertical-align: middle;\n",
       "    }\n",
       "\n",
       "    .dataframe tbody tr th {\n",
       "        vertical-align: top;\n",
       "    }\n",
       "\n",
       "    .dataframe thead th {\n",
       "        text-align: right;\n",
       "    }\n",
       "</style>\n",
       "<table border=\"1\" class=\"dataframe\">\n",
       "  <thead>\n",
       "    <tr style=\"text-align: right;\">\n",
       "      <th></th>\n",
       "      <th>Treatment ID</th>\n",
       "      <th>Appoitment ID</th>\n",
       "      <th>Treatment Type</th>\n",
       "      <th>Description</th>\n",
       "      <th>Cost</th>\n",
       "      <th>Treatment Date</th>\n",
       "    </tr>\n",
       "  </thead>\n",
       "  <tbody>\n",
       "    <tr>\n",
       "      <th>0</th>\n",
       "      <td>T001</td>\n",
       "      <td>A001</td>\n",
       "      <td>Chemotherapy</td>\n",
       "      <td>Basic screening</td>\n",
       "      <td>3941.97</td>\n",
       "      <td>2023-08-09</td>\n",
       "    </tr>\n",
       "    <tr>\n",
       "      <th>1</th>\n",
       "      <td>T002</td>\n",
       "      <td>A002</td>\n",
       "      <td>MRI</td>\n",
       "      <td>Advanced protocol</td>\n",
       "      <td>4158.44</td>\n",
       "      <td>2023-06-09</td>\n",
       "    </tr>\n",
       "    <tr>\n",
       "      <th>2</th>\n",
       "      <td>T003</td>\n",
       "      <td>A003</td>\n",
       "      <td>MRI</td>\n",
       "      <td>Standard procedure</td>\n",
       "      <td>3731.55</td>\n",
       "      <td>2023-06-28</td>\n",
       "    </tr>\n",
       "    <tr>\n",
       "      <th>3</th>\n",
       "      <td>T004</td>\n",
       "      <td>A004</td>\n",
       "      <td>MRI</td>\n",
       "      <td>Basic screening</td>\n",
       "      <td>4799.86</td>\n",
       "      <td>2023-09-01</td>\n",
       "    </tr>\n",
       "    <tr>\n",
       "      <th>4</th>\n",
       "      <td>T005</td>\n",
       "      <td>A005</td>\n",
       "      <td>ECG</td>\n",
       "      <td>Standard procedure</td>\n",
       "      <td>582.05</td>\n",
       "      <td>2023-07-06</td>\n",
       "    </tr>\n",
       "  </tbody>\n",
       "</table>\n",
       "</div>"
      ],
      "text/plain": [
       "  Treatment ID Appoitment ID Treatment Type         Description     Cost  \\\n",
       "0         T001          A001   Chemotherapy     Basic screening  3941.97   \n",
       "1         T002          A002            MRI   Advanced protocol  4158.44   \n",
       "2         T003          A003            MRI  Standard procedure  3731.55   \n",
       "3         T004          A004            MRI     Basic screening  4799.86   \n",
       "4         T005          A005            ECG  Standard procedure   582.05   \n",
       "\n",
       "  Treatment Date  \n",
       "0     2023-08-09  \n",
       "1     2023-06-09  \n",
       "2     2023-06-28  \n",
       "3     2023-09-01  \n",
       "4     2023-07-06  "
      ]
     },
     "execution_count": 13,
     "metadata": {},
     "output_type": "execute_result"
    }
   ],
   "source": [
    "data.head()"
   ]
  },
  {
   "cell_type": "code",
   "execution_count": 14,
   "id": "e07067eb",
   "metadata": {},
   "outputs": [],
   "source": [
    "data.to_csv(\"cleaned_treatment_data.csv\",index=False)"
   ]
  },
  {
   "cell_type": "code",
   "execution_count": null,
   "id": "22c41d8d",
   "metadata": {},
   "outputs": [],
   "source": []
  },
  {
   "cell_type": "code",
   "execution_count": null,
   "id": "b30a5dd1",
   "metadata": {},
   "outputs": [],
   "source": []
  }
 ],
 "metadata": {
  "kernelspec": {
   "display_name": "Python 3",
   "language": "python",
   "name": "python3"
  },
  "language_info": {
   "codemirror_mode": {
    "name": "ipython",
    "version": 3
   },
   "file_extension": ".py",
   "mimetype": "text/x-python",
   "name": "python",
   "nbconvert_exporter": "python",
   "pygments_lexer": "ipython3",
   "version": "3.12.3"
  }
 },
 "nbformat": 4,
 "nbformat_minor": 5
}
