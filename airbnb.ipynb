{
 "cells": [
  {
   "cell_type": "code",
   "execution_count": 1,
   "id": "8151ba7e",
   "metadata": {},
   "outputs": [],
   "source": [
    "import pandas as pd"
   ]
  },
  {
   "cell_type": "code",
   "execution_count": 3,
   "id": "c2e8243e",
   "metadata": {},
   "outputs": [],
   "source": [
    "data=pd.read_csv(\"airbnb_dataset.csv\")"
   ]
  },
  {
   "cell_type": "code",
   "execution_count": 4,
   "id": "d5163fe3",
   "metadata": {},
   "outputs": [
    {
     "data": {
      "text/html": [
       "<div>\n",
       "<style scoped>\n",
       "    .dataframe tbody tr th:only-of-type {\n",
       "        vertical-align: middle;\n",
       "    }\n",
       "\n",
       "    .dataframe tbody tr th {\n",
       "        vertical-align: top;\n",
       "    }\n",
       "\n",
       "    .dataframe thead th {\n",
       "        text-align: right;\n",
       "    }\n",
       "</style>\n",
       "<table border=\"1\" class=\"dataframe\">\n",
       "  <thead>\n",
       "    <tr style=\"text-align: right;\">\n",
       "      <th></th>\n",
       "      <th>id</th>\n",
       "      <th>name</th>\n",
       "      <th>host_id</th>\n",
       "      <th>host_name</th>\n",
       "      <th>neighbourhood_group</th>\n",
       "      <th>neighbourhood</th>\n",
       "      <th>latitude</th>\n",
       "      <th>longitude</th>\n",
       "      <th>room_type</th>\n",
       "      <th>price</th>\n",
       "      <th>minimum_nights</th>\n",
       "      <th>number_of_reviews</th>\n",
       "      <th>last_review</th>\n",
       "      <th>reviews_per_month</th>\n",
       "      <th>calculated_host_listings_count</th>\n",
       "      <th>availability_365</th>\n",
       "      <th>number_of_reviews_ltm</th>\n",
       "      <th>license</th>\n",
       "    </tr>\n",
       "  </thead>\n",
       "  <tbody>\n",
       "    <tr>\n",
       "      <th>0</th>\n",
       "      <td>329172</td>\n",
       "      <td>Hillside designer home,10 min.dwntn</td>\n",
       "      <td>1680871</td>\n",
       "      <td>Janet</td>\n",
       "      <td>NaN</td>\n",
       "      <td>78746</td>\n",
       "      <td>30.30085</td>\n",
       "      <td>-97.80794</td>\n",
       "      <td>Entire home/apt</td>\n",
       "      <td>495</td>\n",
       "      <td>3</td>\n",
       "      <td>7</td>\n",
       "      <td>2022-08-07</td>\n",
       "      <td>0.05</td>\n",
       "      <td>1</td>\n",
       "      <td>363</td>\n",
       "      <td>1</td>\n",
       "      <td>NaN</td>\n",
       "    </tr>\n",
       "  </tbody>\n",
       "</table>\n",
       "</div>"
      ],
      "text/plain": [
       "       id                                 name  host_id host_name  \\\n",
       "0  329172  Hillside designer home,10 min.dwntn  1680871     Janet   \n",
       "\n",
       "   neighbourhood_group  neighbourhood  latitude  longitude        room_type  \\\n",
       "0                  NaN          78746  30.30085  -97.80794  Entire home/apt   \n",
       "\n",
       "   price  minimum_nights  number_of_reviews last_review  reviews_per_month  \\\n",
       "0    495               3                  7  2022-08-07               0.05   \n",
       "\n",
       "   calculated_host_listings_count  availability_365  number_of_reviews_ltm  \\\n",
       "0                               1               363                      1   \n",
       "\n",
       "   license  \n",
       "0      NaN  "
      ]
     },
     "execution_count": 4,
     "metadata": {},
     "output_type": "execute_result"
    }
   ],
   "source": [
    "data.head(1)"
   ]
  },
  {
   "cell_type": "code",
   "execution_count": 5,
   "id": "a1466d17",
   "metadata": {},
   "outputs": [
    {
     "name": "stdout",
     "output_type": "stream",
     "text": [
      "<class 'pandas.core.frame.DataFrame'>\n",
      "RangeIndex: 13808 entries, 0 to 13807\n",
      "Data columns (total 18 columns):\n",
      " #   Column                          Non-Null Count  Dtype  \n",
      "---  ------                          --------------  -----  \n",
      " 0   id                              13808 non-null  int64  \n",
      " 1   name                            13808 non-null  object \n",
      " 2   host_id                         13808 non-null  int64  \n",
      " 3   host_name                       13806 non-null  object \n",
      " 4   neighbourhood_group             0 non-null      float64\n",
      " 5   neighbourhood                   13808 non-null  int64  \n",
      " 6   latitude                        13808 non-null  float64\n",
      " 7   longitude                       13808 non-null  float64\n",
      " 8   room_type                       13808 non-null  object \n",
      " 9   price                           13808 non-null  int64  \n",
      " 10  minimum_nights                  13808 non-null  int64  \n",
      " 11  number_of_reviews               13808 non-null  int64  \n",
      " 12  last_review                     10948 non-null  object \n",
      " 13  reviews_per_month               10948 non-null  float64\n",
      " 14  calculated_host_listings_count  13808 non-null  int64  \n",
      " 15  availability_365                13808 non-null  int64  \n",
      " 16  number_of_reviews_ltm           13808 non-null  int64  \n",
      " 17  license                         0 non-null      float64\n",
      "dtypes: float64(5), int64(9), object(4)\n",
      "memory usage: 1.9+ MB\n"
     ]
    }
   ],
   "source": [
    "data.info()"
   ]
  },
  {
   "cell_type": "code",
   "execution_count": 6,
   "id": "26330574",
   "metadata": {},
   "outputs": [
    {
     "data": {
      "text/plain": [
       "id                                    0\n",
       "name                                  0\n",
       "host_id                               0\n",
       "host_name                             2\n",
       "neighbourhood_group               13808\n",
       "neighbourhood                         0\n",
       "latitude                              0\n",
       "longitude                             0\n",
       "room_type                             0\n",
       "price                                 0\n",
       "minimum_nights                        0\n",
       "number_of_reviews                     0\n",
       "last_review                        2860\n",
       "reviews_per_month                  2860\n",
       "calculated_host_listings_count        0\n",
       "availability_365                      0\n",
       "number_of_reviews_ltm                 0\n",
       "license                           13808\n",
       "dtype: int64"
      ]
     },
     "execution_count": 6,
     "metadata": {},
     "output_type": "execute_result"
    }
   ],
   "source": [
    "data.isna().sum()"
   ]
  },
  {
   "cell_type": "code",
   "execution_count": 7,
   "id": "6608b4e2",
   "metadata": {},
   "outputs": [
    {
     "name": "stderr",
     "output_type": "stream",
     "text": [
      "C:\\Users\\DELL\\AppData\\Local\\Temp\\ipykernel_12216\\2740345649.py:1: FutureWarning: Setting an item of incompatible dtype is deprecated and will raise an error in a future version of pandas. Value 'unknown value' has dtype incompatible with float64, please explicitly cast to a compatible dtype first.\n",
      "  data.fillna(\"unknown value\",inplace=True)\n"
     ]
    }
   ],
   "source": [
    "data.fillna(\"unknown value\",inplace=True)"
   ]
  },
  {
   "cell_type": "code",
   "execution_count": 8,
   "id": "76ac2bad",
   "metadata": {},
   "outputs": [
    {
     "data": {
      "text/plain": [
       "id                                0\n",
       "name                              0\n",
       "host_id                           0\n",
       "host_name                         0\n",
       "neighbourhood_group               0\n",
       "neighbourhood                     0\n",
       "latitude                          0\n",
       "longitude                         0\n",
       "room_type                         0\n",
       "price                             0\n",
       "minimum_nights                    0\n",
       "number_of_reviews                 0\n",
       "last_review                       0\n",
       "reviews_per_month                 0\n",
       "calculated_host_listings_count    0\n",
       "availability_365                  0\n",
       "number_of_reviews_ltm             0\n",
       "license                           0\n",
       "dtype: int64"
      ]
     },
     "execution_count": 8,
     "metadata": {},
     "output_type": "execute_result"
    }
   ],
   "source": [
    "data.isna().sum()"
   ]
  },
  {
   "cell_type": "code",
   "execution_count": 9,
   "id": "9f5482e8",
   "metadata": {},
   "outputs": [
    {
     "data": {
      "text/plain": [
       "Index(['id', 'name', 'host_id', 'host_name', 'neighbourhood_group',\n",
       "       'neighbourhood', 'latitude', 'longitude', 'room_type', 'price',\n",
       "       'minimum_nights', 'number_of_reviews', 'last_review',\n",
       "       'reviews_per_month', 'calculated_host_listings_count',\n",
       "       'availability_365', 'number_of_reviews_ltm', 'license'],\n",
       "      dtype='object')"
      ]
     },
     "execution_count": 9,
     "metadata": {},
     "output_type": "execute_result"
    }
   ],
   "source": [
    "data.columns"
   ]
  },
  {
   "cell_type": "code",
   "execution_count": 10,
   "id": "427bc312",
   "metadata": {},
   "outputs": [],
   "source": [
    "data=data.rename(columns={\n",
    "    'id': 'ID',\n",
    "    'name': 'Name',\n",
    "    'host_id': 'Host ID',\n",
    "    'host_name': 'Host Name',\n",
    "    'neighbourhood_group': 'Neighbourhood Group',\n",
    "    'neighbourhood': 'Neighbourhood', \n",
    "    'latitude': 'Latitude', \n",
    "    'longitude': 'Longitude', \n",
    "    'room_type': 'Room Type', \n",
    "    'price': 'Price',\n",
    "    'minimum_nights': 'Minimum Nights', \n",
    "    'number_of_reviews': 'Number Of Reviews', \n",
    "    'last_review': 'Last Review',\n",
    "    'reviews_per_month': 'Reviews Per Month', \n",
    "    'calculated_host_listings_count': 'Calculated Host Listing Count',\n",
    "    'availability_365': 'Availibilty 365', \n",
    "    'number_of_reviews_ltm': 'Number of Reviews Ltm', \n",
    "    'license': 'License'\n",
    "\n",
    "})"
   ]
  },
  {
   "cell_type": "code",
   "execution_count": 11,
   "id": "005487c8",
   "metadata": {},
   "outputs": [
    {
     "data": {
      "text/plain": [
       "Index(['ID', 'Name', 'Host ID', 'Host Name', 'Neighbourhood Group',\n",
       "       'Neighbourhood', 'Latitude', 'Longitude', 'Room Type', 'Price',\n",
       "       'Minimum Nights', 'Number Of Reviews', 'Last Review',\n",
       "       'Reviews Per Month', 'Calculated Host Listing Count', 'Availibilty 365',\n",
       "       'Number of Reviews Ltm', 'License'],\n",
       "      dtype='object')"
      ]
     },
     "execution_count": 11,
     "metadata": {},
     "output_type": "execute_result"
    }
   ],
   "source": [
    "data.columns"
   ]
  },
  {
   "cell_type": "code",
   "execution_count": 12,
   "id": "e108308c",
   "metadata": {},
   "outputs": [
    {
     "data": {
      "text/plain": [
       "0        unknown value\n",
       "1        unknown value\n",
       "2        unknown value\n",
       "3        unknown value\n",
       "4        unknown value\n",
       "             ...      \n",
       "13803    unknown value\n",
       "13804    unknown value\n",
       "13805    unknown value\n",
       "13806    unknown value\n",
       "13807    unknown value\n",
       "Name: Neighbourhood Group, Length: 13808, dtype: object"
      ]
     },
     "execution_count": 12,
     "metadata": {},
     "output_type": "execute_result"
    }
   ],
   "source": [
    "data['Neighbourhood Group']"
   ]
  },
  {
   "cell_type": "code",
   "execution_count": 13,
   "id": "45b3e15c",
   "metadata": {},
   "outputs": [],
   "source": [
    "data.drop(columns=['Neighbourhood Group','Latitude', 'Longitude'],inplace=True)"
   ]
  },
  {
   "cell_type": "code",
   "execution_count": 14,
   "id": "7ce8fa3e",
   "metadata": {},
   "outputs": [
    {
     "data": {
      "text/plain": [
       "Index(['ID', 'Name', 'Host ID', 'Host Name', 'Neighbourhood', 'Room Type',\n",
       "       'Price', 'Minimum Nights', 'Number Of Reviews', 'Last Review',\n",
       "       'Reviews Per Month', 'Calculated Host Listing Count', 'Availibilty 365',\n",
       "       'Number of Reviews Ltm', 'License'],\n",
       "      dtype='object')"
      ]
     },
     "execution_count": 14,
     "metadata": {},
     "output_type": "execute_result"
    }
   ],
   "source": [
    "data.columns"
   ]
  },
  {
   "cell_type": "code",
   "execution_count": 18,
   "id": "b9f0ed6b",
   "metadata": {},
   "outputs": [
    {
     "data": {
      "text/plain": [
       "0        unknown value\n",
       "1        unknown value\n",
       "2        unknown value\n",
       "3        unknown value\n",
       "4        unknown value\n",
       "             ...      \n",
       "13803    unknown value\n",
       "13804    unknown value\n",
       "13805    unknown value\n",
       "13806    unknown value\n",
       "13807    unknown value\n",
       "Name: License, Length: 13808, dtype: object"
      ]
     },
     "execution_count": 18,
     "metadata": {},
     "output_type": "execute_result"
    }
   ],
   "source": [
    "data['License']"
   ]
  },
  {
   "cell_type": "code",
   "execution_count": 19,
   "id": "ab975940",
   "metadata": {},
   "outputs": [],
   "source": [
    "data.drop(columns='License',inplace=True)"
   ]
  },
  {
   "cell_type": "code",
   "execution_count": 20,
   "id": "187c3e50",
   "metadata": {},
   "outputs": [
    {
     "data": {
      "text/plain": [
       "Index(['ID', 'Name', 'Host ID', 'Host Name', 'Neighbourhood', 'Room Type',\n",
       "       'Price', 'Minimum Nights', 'Number Of Reviews', 'Last Review',\n",
       "       'Reviews Per Month', 'Calculated Host Listing Count', 'Availibilty 365',\n",
       "       'Number of Reviews Ltm'],\n",
       "      dtype='object')"
      ]
     },
     "execution_count": 20,
     "metadata": {},
     "output_type": "execute_result"
    }
   ],
   "source": [
    "data.columns"
   ]
  },
  {
   "cell_type": "code",
   "execution_count": 21,
   "id": "f64a0567",
   "metadata": {},
   "outputs": [
    {
     "data": {
      "text/html": [
       "<div>\n",
       "<style scoped>\n",
       "    .dataframe tbody tr th:only-of-type {\n",
       "        vertical-align: middle;\n",
       "    }\n",
       "\n",
       "    .dataframe tbody tr th {\n",
       "        vertical-align: top;\n",
       "    }\n",
       "\n",
       "    .dataframe thead th {\n",
       "        text-align: right;\n",
       "    }\n",
       "</style>\n",
       "<table border=\"1\" class=\"dataframe\">\n",
       "  <thead>\n",
       "    <tr style=\"text-align: right;\">\n",
       "      <th></th>\n",
       "      <th>ID</th>\n",
       "      <th>Name</th>\n",
       "      <th>Host ID</th>\n",
       "      <th>Host Name</th>\n",
       "      <th>Neighbourhood</th>\n",
       "      <th>Room Type</th>\n",
       "      <th>Price</th>\n",
       "      <th>Minimum Nights</th>\n",
       "      <th>Number Of Reviews</th>\n",
       "      <th>Last Review</th>\n",
       "      <th>Reviews Per Month</th>\n",
       "      <th>Calculated Host Listing Count</th>\n",
       "      <th>Availibilty 365</th>\n",
       "      <th>Number of Reviews Ltm</th>\n",
       "    </tr>\n",
       "  </thead>\n",
       "  <tbody>\n",
       "    <tr>\n",
       "      <th>0</th>\n",
       "      <td>329172</td>\n",
       "      <td>Hillside designer home,10 min.dwntn</td>\n",
       "      <td>1680871</td>\n",
       "      <td>Janet</td>\n",
       "      <td>78746</td>\n",
       "      <td>Entire home/apt</td>\n",
       "      <td>495</td>\n",
       "      <td>3</td>\n",
       "      <td>7</td>\n",
       "      <td>2022-08-07</td>\n",
       "      <td>0.05</td>\n",
       "      <td>1</td>\n",
       "      <td>363</td>\n",
       "      <td>1</td>\n",
       "    </tr>\n",
       "  </tbody>\n",
       "</table>\n",
       "</div>"
      ],
      "text/plain": [
       "       ID                                 Name  Host ID Host Name  \\\n",
       "0  329172  Hillside designer home,10 min.dwntn  1680871     Janet   \n",
       "\n",
       "   Neighbourhood        Room Type  Price  Minimum Nights  Number Of Reviews  \\\n",
       "0          78746  Entire home/apt    495               3                  7   \n",
       "\n",
       "  Last Review Reviews Per Month  Calculated Host Listing Count  \\\n",
       "0  2022-08-07              0.05                              1   \n",
       "\n",
       "   Availibilty 365  Number of Reviews Ltm  \n",
       "0              363                      1  "
      ]
     },
     "execution_count": 21,
     "metadata": {},
     "output_type": "execute_result"
    }
   ],
   "source": [
    "data.head(1)"
   ]
  },
  {
   "cell_type": "code",
   "execution_count": null,
   "id": "f94cf051",
   "metadata": {},
   "outputs": [],
   "source": []
  },
  {
   "cell_type": "code",
   "execution_count": null,
   "id": "819ed316",
   "metadata": {},
   "outputs": [],
   "source": []
  },
  {
   "cell_type": "code",
   "execution_count": null,
   "id": "bc6436a6",
   "metadata": {},
   "outputs": [],
   "source": []
  },
  {
   "cell_type": "code",
   "execution_count": null,
   "id": "ccb41394",
   "metadata": {},
   "outputs": [],
   "source": []
  },
  {
   "cell_type": "code",
   "execution_count": null,
   "id": "e1357c9c",
   "metadata": {},
   "outputs": [],
   "source": []
  }
 ],
 "metadata": {
  "kernelspec": {
   "display_name": "Python 3",
   "language": "python",
   "name": "python3"
  },
  "language_info": {
   "codemirror_mode": {
    "name": "ipython",
    "version": 3
   },
   "file_extension": ".py",
   "mimetype": "text/x-python",
   "name": "python",
   "nbconvert_exporter": "python",
   "pygments_lexer": "ipython3",
   "version": "3.12.3"
  }
 },
 "nbformat": 4,
 "nbformat_minor": 5
}
