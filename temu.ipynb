{
 "cells": [
  {
   "cell_type": "code",
   "execution_count": 1,
   "id": "7dfd05d8",
   "metadata": {},
   "outputs": [],
   "source": [
    "import pandas as pd"
   ]
  },
  {
   "cell_type": "code",
   "execution_count": 3,
   "id": "c31218a2",
   "metadata": {},
   "outputs": [],
   "source": [
    "data=pd.read_csv(\"temu_product_sales_dataset.csv\")"
   ]
  },
  {
   "cell_type": "code",
   "execution_count": 4,
   "id": "51e1cc59",
   "metadata": {},
   "outputs": [
    {
     "data": {
      "text/html": [
       "<div>\n",
       "<style scoped>\n",
       "    .dataframe tbody tr th:only-of-type {\n",
       "        vertical-align: middle;\n",
       "    }\n",
       "\n",
       "    .dataframe tbody tr th {\n",
       "        vertical-align: top;\n",
       "    }\n",
       "\n",
       "    .dataframe thead th {\n",
       "        text-align: right;\n",
       "    }\n",
       "</style>\n",
       "<table border=\"1\" class=\"dataframe\">\n",
       "  <thead>\n",
       "    <tr style=\"text-align: right;\">\n",
       "      <th></th>\n",
       "      <th>leve_1_category_id</th>\n",
       "      <th>leve_1_category_name</th>\n",
       "      <th>leve_2_category_id</th>\n",
       "      <th>leve_2_category_name</th>\n",
       "      <th>title</th>\n",
       "      <th>goods_id</th>\n",
       "      <th>sales_info</th>\n",
       "      <th>category_id</th>\n",
       "      <th>visible</th>\n",
       "      <th>sales_volume</th>\n",
       "      <th>price_str</th>\n",
       "      <th>price</th>\n",
       "      <th>goods_score</th>\n",
       "      <th>comments_num_raw</th>\n",
       "      <th>comment_num</th>\n",
       "    </tr>\n",
       "  </thead>\n",
       "  <tbody>\n",
       "    <tr>\n",
       "      <th>0</th>\n",
       "      <td>885</td>\n",
       "      <td>Patio, Lawn &amp; Garden</td>\n",
       "      <td>888</td>\n",
       "      <td>Outdoor Supplies &amp; Patio Furniture</td>\n",
       "      <td>1pc 30 LED Bubble Ball Lights Solar String Lig...</td>\n",
       "      <td>6017592186061056</td>\n",
       "      <td>5,560 sold</td>\n",
       "      <td>891</td>\n",
       "      <td>True</td>\n",
       "      <td>5560.0</td>\n",
       "      <td>655</td>\n",
       "      <td>6.55</td>\n",
       "      <td>4.7</td>\n",
       "      <td>(200)</td>\n",
       "      <td>200.0</td>\n",
       "    </tr>\n",
       "  </tbody>\n",
       "</table>\n",
       "</div>"
      ],
      "text/plain": [
       "   leve_1_category_id  leve_1_category_name  leve_2_category_id  \\\n",
       "0                 885  Patio, Lawn & Garden                 888   \n",
       "\n",
       "                 leve_2_category_name  \\\n",
       "0  Outdoor Supplies & Patio Furniture   \n",
       "\n",
       "                                               title          goods_id  \\\n",
       "0  1pc 30 LED Bubble Ball Lights Solar String Lig...  6017592186061056   \n",
       "\n",
       "   sales_info  category_id  visible  sales_volume  price_str  price  \\\n",
       "0  5,560 sold          891     True        5560.0        655   6.55   \n",
       "\n",
       "   goods_score comments_num_raw  comment_num  \n",
       "0          4.7            (200)        200.0  "
      ]
     },
     "execution_count": 4,
     "metadata": {},
     "output_type": "execute_result"
    }
   ],
   "source": [
    "data.head(1)"
   ]
  },
  {
   "cell_type": "code",
   "execution_count": 5,
   "id": "df234904",
   "metadata": {},
   "outputs": [
    {
     "name": "stdout",
     "output_type": "stream",
     "text": [
      "<class 'pandas.core.frame.DataFrame'>\n",
      "RangeIndex: 95189 entries, 0 to 95188\n",
      "Data columns (total 15 columns):\n",
      " #   Column                Non-Null Count  Dtype  \n",
      "---  ------                --------------  -----  \n",
      " 0   leve_1_category_id    95189 non-null  int64  \n",
      " 1   leve_1_category_name  95189 non-null  object \n",
      " 2   leve_2_category_id    95189 non-null  int64  \n",
      " 3   leve_2_category_name  95189 non-null  object \n",
      " 4   title                 95189 non-null  object \n",
      " 5   goods_id              95189 non-null  int64  \n",
      " 6   sales_info            93480 non-null  object \n",
      " 7   category_id           95189 non-null  int64  \n",
      " 8   visible               95189 non-null  bool   \n",
      " 9   sales_volume          93480 non-null  float64\n",
      " 10  price_str             95189 non-null  int64  \n",
      " 11  price                 95189 non-null  float64\n",
      " 12  goods_score           81070 non-null  float64\n",
      " 13  comments_num_raw      81070 non-null  object \n",
      " 14  comment_num           81070 non-null  float64\n",
      "dtypes: bool(1), float64(4), int64(5), object(5)\n",
      "memory usage: 10.3+ MB\n"
     ]
    }
   ],
   "source": [
    "data.info()"
   ]
  },
  {
   "cell_type": "code",
   "execution_count": 6,
   "id": "f55ffbc5",
   "metadata": {},
   "outputs": [
    {
     "data": {
      "text/plain": [
       "leve_1_category_id          0\n",
       "leve_1_category_name        0\n",
       "leve_2_category_id          0\n",
       "leve_2_category_name        0\n",
       "title                       0\n",
       "goods_id                    0\n",
       "sales_info               1709\n",
       "category_id                 0\n",
       "visible                     0\n",
       "sales_volume             1709\n",
       "price_str                   0\n",
       "price                       0\n",
       "goods_score             14119\n",
       "comments_num_raw        14119\n",
       "comment_num             14119\n",
       "dtype: int64"
      ]
     },
     "execution_count": 6,
     "metadata": {},
     "output_type": "execute_result"
    }
   ],
   "source": [
    "data.isna().sum()"
   ]
  },
  {
   "cell_type": "code",
   "execution_count": 7,
   "id": "9b3de4da",
   "metadata": {},
   "outputs": [
    {
     "name": "stderr",
     "output_type": "stream",
     "text": [
      "C:\\Users\\DELL\\AppData\\Local\\Temp\\ipykernel_14516\\2549502299.py:1: FutureWarning: Setting an item of incompatible dtype is deprecated and will raise an error in a future version of pandas. Value 'undefined value' has dtype incompatible with float64, please explicitly cast to a compatible dtype first.\n",
      "  data.fillna(\"undefined value\",inplace=True)\n"
     ]
    }
   ],
   "source": [
    "data.fillna(\"undefined value\",inplace=True)"
   ]
  },
  {
   "cell_type": "code",
   "execution_count": 8,
   "id": "70863b63",
   "metadata": {},
   "outputs": [
    {
     "data": {
      "text/plain": [
       "leve_1_category_id      0\n",
       "leve_1_category_name    0\n",
       "leve_2_category_id      0\n",
       "leve_2_category_name    0\n",
       "title                   0\n",
       "goods_id                0\n",
       "sales_info              0\n",
       "category_id             0\n",
       "visible                 0\n",
       "sales_volume            0\n",
       "price_str               0\n",
       "price                   0\n",
       "goods_score             0\n",
       "comments_num_raw        0\n",
       "comment_num             0\n",
       "dtype: int64"
      ]
     },
     "execution_count": 8,
     "metadata": {},
     "output_type": "execute_result"
    }
   ],
   "source": [
    "data.isna().sum()"
   ]
  },
  {
   "cell_type": "code",
   "execution_count": 9,
   "id": "90f8310a",
   "metadata": {},
   "outputs": [
    {
     "data": {
      "text/plain": [
       "Index(['leve_1_category_id', 'leve_1_category_name', 'leve_2_category_id',\n",
       "       'leve_2_category_name', 'title', 'goods_id', 'sales_info',\n",
       "       'category_id', 'visible', 'sales_volume', 'price_str', 'price',\n",
       "       'goods_score', 'comments_num_raw', 'comment_num'],\n",
       "      dtype='object')"
      ]
     },
     "execution_count": 9,
     "metadata": {},
     "output_type": "execute_result"
    }
   ],
   "source": [
    "data.columns"
   ]
  },
  {
   "cell_type": "code",
   "execution_count": 10,
   "id": "32a30051",
   "metadata": {},
   "outputs": [
    {
     "data": {
      "text/html": [
       "<div>\n",
       "<style scoped>\n",
       "    .dataframe tbody tr th:only-of-type {\n",
       "        vertical-align: middle;\n",
       "    }\n",
       "\n",
       "    .dataframe tbody tr th {\n",
       "        vertical-align: top;\n",
       "    }\n",
       "\n",
       "    .dataframe thead th {\n",
       "        text-align: right;\n",
       "    }\n",
       "</style>\n",
       "<table border=\"1\" class=\"dataframe\">\n",
       "  <thead>\n",
       "    <tr style=\"text-align: right;\">\n",
       "      <th></th>\n",
       "      <th>leve_1_category_id</th>\n",
       "      <th>leve_1_category_name</th>\n",
       "      <th>leve_2_category_id</th>\n",
       "      <th>leve_2_category_name</th>\n",
       "      <th>title</th>\n",
       "      <th>goods_id</th>\n",
       "      <th>sales_info</th>\n",
       "      <th>category_id</th>\n",
       "      <th>visible</th>\n",
       "      <th>sales_volume</th>\n",
       "      <th>price_str</th>\n",
       "      <th>price</th>\n",
       "      <th>goods_score</th>\n",
       "      <th>comments_num_raw</th>\n",
       "      <th>comment_num</th>\n",
       "    </tr>\n",
       "  </thead>\n",
       "  <tbody>\n",
       "    <tr>\n",
       "      <th>0</th>\n",
       "      <td>885</td>\n",
       "      <td>Patio, Lawn &amp; Garden</td>\n",
       "      <td>888</td>\n",
       "      <td>Outdoor Supplies &amp; Patio Furniture</td>\n",
       "      <td>1pc 30 LED Bubble Ball Lights Solar String Lig...</td>\n",
       "      <td>6017592186061056</td>\n",
       "      <td>5,560 sold</td>\n",
       "      <td>891</td>\n",
       "      <td>True</td>\n",
       "      <td>5560.0</td>\n",
       "      <td>655</td>\n",
       "      <td>6.55</td>\n",
       "      <td>4.7</td>\n",
       "      <td>(200)</td>\n",
       "      <td>200.0</td>\n",
       "    </tr>\n",
       "  </tbody>\n",
       "</table>\n",
       "</div>"
      ],
      "text/plain": [
       "   leve_1_category_id  leve_1_category_name  leve_2_category_id  \\\n",
       "0                 885  Patio, Lawn & Garden                 888   \n",
       "\n",
       "                 leve_2_category_name  \\\n",
       "0  Outdoor Supplies & Patio Furniture   \n",
       "\n",
       "                                               title          goods_id  \\\n",
       "0  1pc 30 LED Bubble Ball Lights Solar String Lig...  6017592186061056   \n",
       "\n",
       "   sales_info  category_id  visible sales_volume  price_str  price  \\\n",
       "0  5,560 sold          891     True       5560.0        655   6.55   \n",
       "\n",
       "  goods_score comments_num_raw comment_num  \n",
       "0         4.7            (200)       200.0  "
      ]
     },
     "execution_count": 10,
     "metadata": {},
     "output_type": "execute_result"
    }
   ],
   "source": [
    "data.head(1)"
   ]
  },
  {
   "cell_type": "code",
   "execution_count": 11,
   "id": "0676b695",
   "metadata": {},
   "outputs": [],
   "source": [
    "data.drop(columns=['comments_num_raw', 'comment_num'],inplace=True)"
   ]
  },
  {
   "cell_type": "code",
   "execution_count": 12,
   "id": "9861a4d8",
   "metadata": {},
   "outputs": [
    {
     "data": {
      "text/plain": [
       "Index(['leve_1_category_id', 'leve_1_category_name', 'leve_2_category_id',\n",
       "       'leve_2_category_name', 'title', 'goods_id', 'sales_info',\n",
       "       'category_id', 'visible', 'sales_volume', 'price_str', 'price',\n",
       "       'goods_score'],\n",
       "      dtype='object')"
      ]
     },
     "execution_count": 12,
     "metadata": {},
     "output_type": "execute_result"
    }
   ],
   "source": [
    "data.columns"
   ]
  },
  {
   "cell_type": "code",
   "execution_count": 13,
   "id": "bac2508c",
   "metadata": {},
   "outputs": [
    {
     "data": {
      "text/plain": [
       "0        655\n",
       "1        589\n",
       "2        489\n",
       "3        159\n",
       "4        839\n",
       "        ... \n",
       "95184    399\n",
       "95185    399\n",
       "95186    399\n",
       "95187    449\n",
       "95188    439\n",
       "Name: price_str, Length: 95189, dtype: int64"
      ]
     },
     "execution_count": 13,
     "metadata": {},
     "output_type": "execute_result"
    }
   ],
   "source": [
    "data['price_str']"
   ]
  },
  {
   "cell_type": "code",
   "execution_count": 14,
   "id": "8b532847",
   "metadata": {},
   "outputs": [
    {
     "data": {
      "text/plain": [
       "0        6.55\n",
       "1        5.89\n",
       "2        4.89\n",
       "3        1.59\n",
       "4        8.39\n",
       "         ... \n",
       "95184    3.99\n",
       "95185    3.99\n",
       "95186    3.99\n",
       "95187    4.49\n",
       "95188    4.39\n",
       "Name: price, Length: 95189, dtype: float64"
      ]
     },
     "execution_count": 14,
     "metadata": {},
     "output_type": "execute_result"
    }
   ],
   "source": [
    "data['price']"
   ]
  },
  {
   "cell_type": "code",
   "execution_count": 15,
   "id": "c938ce85",
   "metadata": {},
   "outputs": [
    {
     "data": {
      "text/plain": [
       "Index(['leve_1_category_id', 'leve_1_category_name', 'leve_2_category_id',\n",
       "       'leve_2_category_name', 'title', 'goods_id', 'sales_info',\n",
       "       'category_id', 'visible', 'sales_volume', 'price_str', 'price',\n",
       "       'goods_score'],\n",
       "      dtype='object')"
      ]
     },
     "execution_count": 15,
     "metadata": {},
     "output_type": "execute_result"
    }
   ],
   "source": [
    "data.columns"
   ]
  },
  {
   "cell_type": "code",
   "execution_count": 16,
   "id": "3accdab9",
   "metadata": {},
   "outputs": [],
   "source": [
    "data=data.rename(columns={\n",
    "    'leve_1_category_id': 'Level 1 Category ID', \n",
    "    'leve_1_category_name': 'Level 1 Category Name', \n",
    "    'leve_2_category_id': 'Level 2 Category ID',\n",
    "    'leve_2_category_name': 'Level 2 Category Name', \n",
    "    'title': 'Title', \n",
    "    'goods_id': 'Goods ID', \n",
    "    'sales_info': 'Sales Info',\n",
    "    'category_id': 'Category ID', \n",
    "    'visible': 'Visible', \n",
    "    'sales_volume': 'Sales Volume', \n",
    "    'price_str': 'Price Str', \n",
    "    'price': 'Price',\n",
    "    'goods_score': 'Goods Score'\n",
    "})"
   ]
  },
  {
   "cell_type": "code",
   "execution_count": 17,
   "id": "89966d9f",
   "metadata": {},
   "outputs": [
    {
     "data": {
      "text/plain": [
       "Index(['Level 1 Category ID', 'Level 1 Category Name', 'Level 2 Category ID',\n",
       "       'Level 2 Category Name', 'Title', 'Goods ID', 'Sales Info',\n",
       "       'Category ID', 'Visible', 'Sales Volume', 'Price Str', 'Price',\n",
       "       'Goods Score'],\n",
       "      dtype='object')"
      ]
     },
     "execution_count": 17,
     "metadata": {},
     "output_type": "execute_result"
    }
   ],
   "source": [
    "data.columns"
   ]
  },
  {
   "cell_type": "code",
   "execution_count": 18,
   "id": "b01cff08",
   "metadata": {},
   "outputs": [
    {
     "data": {
      "text/html": [
       "<div>\n",
       "<style scoped>\n",
       "    .dataframe tbody tr th:only-of-type {\n",
       "        vertical-align: middle;\n",
       "    }\n",
       "\n",
       "    .dataframe tbody tr th {\n",
       "        vertical-align: top;\n",
       "    }\n",
       "\n",
       "    .dataframe thead th {\n",
       "        text-align: right;\n",
       "    }\n",
       "</style>\n",
       "<table border=\"1\" class=\"dataframe\">\n",
       "  <thead>\n",
       "    <tr style=\"text-align: right;\">\n",
       "      <th></th>\n",
       "      <th>Level 1 Category ID</th>\n",
       "      <th>Level 1 Category Name</th>\n",
       "      <th>Level 2 Category ID</th>\n",
       "      <th>Level 2 Category Name</th>\n",
       "      <th>Title</th>\n",
       "      <th>Goods ID</th>\n",
       "      <th>Sales Info</th>\n",
       "      <th>Category ID</th>\n",
       "      <th>Visible</th>\n",
       "      <th>Sales Volume</th>\n",
       "      <th>Price Str</th>\n",
       "      <th>Price</th>\n",
       "      <th>Goods Score</th>\n",
       "    </tr>\n",
       "  </thead>\n",
       "  <tbody>\n",
       "    <tr>\n",
       "      <th>0</th>\n",
       "      <td>885</td>\n",
       "      <td>Patio, Lawn &amp; Garden</td>\n",
       "      <td>888</td>\n",
       "      <td>Outdoor Supplies &amp; Patio Furniture</td>\n",
       "      <td>1pc 30 LED Bubble Ball Lights Solar String Lig...</td>\n",
       "      <td>6017592186061056</td>\n",
       "      <td>5,560 sold</td>\n",
       "      <td>891</td>\n",
       "      <td>True</td>\n",
       "      <td>5560.0</td>\n",
       "      <td>655</td>\n",
       "      <td>6.55</td>\n",
       "      <td>4.7</td>\n",
       "    </tr>\n",
       "  </tbody>\n",
       "</table>\n",
       "</div>"
      ],
      "text/plain": [
       "   Level 1 Category ID Level 1 Category Name  Level 2 Category ID  \\\n",
       "0                  885  Patio, Lawn & Garden                  888   \n",
       "\n",
       "                Level 2 Category Name  \\\n",
       "0  Outdoor Supplies & Patio Furniture   \n",
       "\n",
       "                                               Title          Goods ID  \\\n",
       "0  1pc 30 LED Bubble Ball Lights Solar String Lig...  6017592186061056   \n",
       "\n",
       "   Sales Info  Category ID  Visible Sales Volume  Price Str  Price Goods Score  \n",
       "0  5,560 sold          891     True       5560.0        655   6.55         4.7  "
      ]
     },
     "execution_count": 18,
     "metadata": {},
     "output_type": "execute_result"
    }
   ],
   "source": [
    "data.head(1)"
   ]
  },
  {
   "cell_type": "code",
   "execution_count": 19,
   "id": "e0cf8385",
   "metadata": {},
   "outputs": [
    {
     "data": {
      "text/html": [
       "<div>\n",
       "<style scoped>\n",
       "    .dataframe tbody tr th:only-of-type {\n",
       "        vertical-align: middle;\n",
       "    }\n",
       "\n",
       "    .dataframe tbody tr th {\n",
       "        vertical-align: top;\n",
       "    }\n",
       "\n",
       "    .dataframe thead th {\n",
       "        text-align: right;\n",
       "    }\n",
       "</style>\n",
       "<table border=\"1\" class=\"dataframe\">\n",
       "  <thead>\n",
       "    <tr style=\"text-align: right;\">\n",
       "      <th></th>\n",
       "      <th>Level 1 Category ID</th>\n",
       "      <th>Level 1 Category Name</th>\n",
       "      <th>Level 2 Category ID</th>\n",
       "      <th>Level 2 Category Name</th>\n",
       "      <th>Title</th>\n",
       "      <th>Goods ID</th>\n",
       "      <th>Sales Info</th>\n",
       "      <th>Category ID</th>\n",
       "      <th>Visible</th>\n",
       "      <th>Sales Volume</th>\n",
       "      <th>Price Str</th>\n",
       "      <th>Price</th>\n",
       "      <th>Goods Score</th>\n",
       "    </tr>\n",
       "  </thead>\n",
       "  <tbody>\n",
       "    <tr>\n",
       "      <th>0</th>\n",
       "      <td>885</td>\n",
       "      <td>Patio, Lawn &amp; Garden</td>\n",
       "      <td>888</td>\n",
       "      <td>Outdoor Supplies &amp; Patio Furniture</td>\n",
       "      <td>1pc 30 LED Bubble Ball Lights Solar String Lig...</td>\n",
       "      <td>6017592186061056</td>\n",
       "      <td>5,560 sold</td>\n",
       "      <td>891</td>\n",
       "      <td>True</td>\n",
       "      <td>5560.0</td>\n",
       "      <td>655</td>\n",
       "      <td>6.55</td>\n",
       "      <td>4.7</td>\n",
       "    </tr>\n",
       "    <tr>\n",
       "      <th>1</th>\n",
       "      <td>885</td>\n",
       "      <td>Patio, Lawn &amp; Garden</td>\n",
       "      <td>888</td>\n",
       "      <td>Outdoor Supplies &amp; Patio Furniture</td>\n",
       "      <td>50 LED Solar Sakura Lights Outdoor Waterproof ...</td>\n",
       "      <td>6017592186060804</td>\n",
       "      <td>3,569 sold</td>\n",
       "      <td>891</td>\n",
       "      <td>True</td>\n",
       "      <td>3569.0</td>\n",
       "      <td>589</td>\n",
       "      <td>5.89</td>\n",
       "      <td>4.7</td>\n",
       "    </tr>\n",
       "  </tbody>\n",
       "</table>\n",
       "</div>"
      ],
      "text/plain": [
       "   Level 1 Category ID Level 1 Category Name  Level 2 Category ID  \\\n",
       "0                  885  Patio, Lawn & Garden                  888   \n",
       "1                  885  Patio, Lawn & Garden                  888   \n",
       "\n",
       "                Level 2 Category Name  \\\n",
       "0  Outdoor Supplies & Patio Furniture   \n",
       "1  Outdoor Supplies & Patio Furniture   \n",
       "\n",
       "                                               Title          Goods ID  \\\n",
       "0  1pc 30 LED Bubble Ball Lights Solar String Lig...  6017592186061056   \n",
       "1  50 LED Solar Sakura Lights Outdoor Waterproof ...  6017592186060804   \n",
       "\n",
       "   Sales Info  Category ID  Visible Sales Volume  Price Str  Price Goods Score  \n",
       "0  5,560 sold          891     True       5560.0        655   6.55         4.7  \n",
       "1  3,569 sold          891     True       3569.0        589   5.89         4.7  "
      ]
     },
     "execution_count": 19,
     "metadata": {},
     "output_type": "execute_result"
    }
   ],
   "source": [
    "data.head(2)"
   ]
  },
  {
   "cell_type": "code",
   "execution_count": 20,
   "id": "491f54a8",
   "metadata": {},
   "outputs": [
    {
     "name": "stdout",
     "output_type": "stream",
     "text": [
      "<class 'pandas.core.frame.DataFrame'>\n",
      "RangeIndex: 95189 entries, 0 to 95188\n",
      "Data columns (total 13 columns):\n",
      " #   Column                 Non-Null Count  Dtype  \n",
      "---  ------                 --------------  -----  \n",
      " 0   Level 1 Category ID    95189 non-null  int64  \n",
      " 1   Level 1 Category Name  95189 non-null  object \n",
      " 2   Level 2 Category ID    95189 non-null  int64  \n",
      " 3   Level 2 Category Name  95189 non-null  object \n",
      " 4   Title                  95189 non-null  object \n",
      " 5   Goods ID               95189 non-null  int64  \n",
      " 6   Sales Info             95189 non-null  object \n",
      " 7   Category ID            95189 non-null  int64  \n",
      " 8   Visible                95189 non-null  bool   \n",
      " 9   Sales Volume           95189 non-null  object \n",
      " 10  Price Str              95189 non-null  int64  \n",
      " 11  Price                  95189 non-null  float64\n",
      " 12  Goods Score            95189 non-null  object \n",
      "dtypes: bool(1), float64(1), int64(5), object(6)\n",
      "memory usage: 8.8+ MB\n"
     ]
    }
   ],
   "source": [
    "data.info()"
   ]
  },
  {
   "cell_type": "code",
   "execution_count": 21,
   "id": "acf8e561",
   "metadata": {},
   "outputs": [],
   "source": [
    "data.to_csv(\"cleaned_temu_data.csv\",index=False)"
   ]
  },
  {
   "cell_type": "code",
   "execution_count": null,
   "id": "ca558f50",
   "metadata": {},
   "outputs": [],
   "source": []
  },
  {
   "cell_type": "code",
   "execution_count": null,
   "id": "622263e4",
   "metadata": {},
   "outputs": [],
   "source": []
  }
 ],
 "metadata": {
  "kernelspec": {
   "display_name": "Python 3",
   "language": "python",
   "name": "python3"
  },
  "language_info": {
   "codemirror_mode": {
    "name": "ipython",
    "version": 3
   },
   "file_extension": ".py",
   "mimetype": "text/x-python",
   "name": "python",
   "nbconvert_exporter": "python",
   "pygments_lexer": "ipython3",
   "version": "3.12.3"
  }
 },
 "nbformat": 4,
 "nbformat_minor": 5
}
