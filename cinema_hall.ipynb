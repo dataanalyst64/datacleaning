{
 "cells": [
  {
   "cell_type": "code",
   "execution_count": 1,
   "id": "fa3dcf8a",
   "metadata": {},
   "outputs": [],
   "source": [
    "import pandas as pd"
   ]
  },
  {
   "cell_type": "code",
   "execution_count": 2,
   "id": "99a3989d",
   "metadata": {},
   "outputs": [
    {
     "data": {
      "text/plain": [
       "'2.2.3'"
      ]
     },
     "execution_count": 2,
     "metadata": {},
     "output_type": "execute_result"
    }
   ],
   "source": [
    "pd.__version__"
   ]
  },
  {
   "cell_type": "code",
   "execution_count": 4,
   "id": "34ffe24c",
   "metadata": {},
   "outputs": [],
   "source": [
    "data= pd.read_csv(\"cinema_hall_ticket_sales.csv\")"
   ]
  },
  {
   "cell_type": "code",
   "execution_count": 5,
   "id": "d3e45516",
   "metadata": {},
   "outputs": [
    {
     "data": {
      "text/html": [
       "<div>\n",
       "<style scoped>\n",
       "    .dataframe tbody tr th:only-of-type {\n",
       "        vertical-align: middle;\n",
       "    }\n",
       "\n",
       "    .dataframe tbody tr th {\n",
       "        vertical-align: top;\n",
       "    }\n",
       "\n",
       "    .dataframe thead th {\n",
       "        text-align: right;\n",
       "    }\n",
       "</style>\n",
       "<table border=\"1\" class=\"dataframe\">\n",
       "  <thead>\n",
       "    <tr style=\"text-align: right;\">\n",
       "      <th></th>\n",
       "      <th>Ticket_ID</th>\n",
       "      <th>Age</th>\n",
       "      <th>Ticket_Price</th>\n",
       "      <th>Movie_Genre</th>\n",
       "      <th>Seat_Type</th>\n",
       "      <th>Number_of_Person</th>\n",
       "      <th>Purchase_Again</th>\n",
       "    </tr>\n",
       "  </thead>\n",
       "  <tbody>\n",
       "    <tr>\n",
       "      <th>0</th>\n",
       "      <td>N4369</td>\n",
       "      <td>55</td>\n",
       "      <td>12.27</td>\n",
       "      <td>Comedy</td>\n",
       "      <td>Standard</td>\n",
       "      <td>7</td>\n",
       "      <td>No</td>\n",
       "    </tr>\n",
       "    <tr>\n",
       "      <th>1</th>\n",
       "      <td>B8091</td>\n",
       "      <td>35</td>\n",
       "      <td>19.02</td>\n",
       "      <td>Drama</td>\n",
       "      <td>Standard</td>\n",
       "      <td>Alone</td>\n",
       "      <td>Yes</td>\n",
       "    </tr>\n",
       "    <tr>\n",
       "      <th>2</th>\n",
       "      <td>V6341</td>\n",
       "      <td>55</td>\n",
       "      <td>22.52</td>\n",
       "      <td>Horror</td>\n",
       "      <td>VIP</td>\n",
       "      <td>3</td>\n",
       "      <td>No</td>\n",
       "    </tr>\n",
       "    <tr>\n",
       "      <th>3</th>\n",
       "      <td>B3243</td>\n",
       "      <td>53</td>\n",
       "      <td>23.01</td>\n",
       "      <td>Drama</td>\n",
       "      <td>Standard</td>\n",
       "      <td>6</td>\n",
       "      <td>Yes</td>\n",
       "    </tr>\n",
       "    <tr>\n",
       "      <th>4</th>\n",
       "      <td>I3814</td>\n",
       "      <td>30</td>\n",
       "      <td>21.81</td>\n",
       "      <td>Comedy</td>\n",
       "      <td>VIP</td>\n",
       "      <td>4</td>\n",
       "      <td>Yes</td>\n",
       "    </tr>\n",
       "    <tr>\n",
       "      <th>...</th>\n",
       "      <td>...</td>\n",
       "      <td>...</td>\n",
       "      <td>...</td>\n",
       "      <td>...</td>\n",
       "      <td>...</td>\n",
       "      <td>...</td>\n",
       "      <td>...</td>\n",
       "    </tr>\n",
       "    <tr>\n",
       "      <th>1435</th>\n",
       "      <td>E5406</td>\n",
       "      <td>41</td>\n",
       "      <td>17.09</td>\n",
       "      <td>Sci-Fi</td>\n",
       "      <td>Standard</td>\n",
       "      <td>2</td>\n",
       "      <td>Yes</td>\n",
       "    </tr>\n",
       "    <tr>\n",
       "      <th>1436</th>\n",
       "      <td>C4357</td>\n",
       "      <td>19</td>\n",
       "      <td>11.45</td>\n",
       "      <td>Action</td>\n",
       "      <td>Standard</td>\n",
       "      <td>Alone</td>\n",
       "      <td>No</td>\n",
       "    </tr>\n",
       "    <tr>\n",
       "      <th>1437</th>\n",
       "      <td>R7285</td>\n",
       "      <td>53</td>\n",
       "      <td>17.13</td>\n",
       "      <td>Comedy</td>\n",
       "      <td>Premium</td>\n",
       "      <td>Alone</td>\n",
       "      <td>Yes</td>\n",
       "    </tr>\n",
       "    <tr>\n",
       "      <th>1438</th>\n",
       "      <td>W6360</td>\n",
       "      <td>34</td>\n",
       "      <td>20.25</td>\n",
       "      <td>Comedy</td>\n",
       "      <td>Premium</td>\n",
       "      <td>2</td>\n",
       "      <td>Yes</td>\n",
       "    </tr>\n",
       "    <tr>\n",
       "      <th>1439</th>\n",
       "      <td>Z8034</td>\n",
       "      <td>60</td>\n",
       "      <td>21.90</td>\n",
       "      <td>Action</td>\n",
       "      <td>VIP</td>\n",
       "      <td>Alone</td>\n",
       "      <td>No</td>\n",
       "    </tr>\n",
       "  </tbody>\n",
       "</table>\n",
       "<p>1440 rows × 7 columns</p>\n",
       "</div>"
      ],
      "text/plain": [
       "     Ticket_ID  Age  Ticket_Price Movie_Genre Seat_Type Number_of_Person  \\\n",
       "0        N4369   55         12.27      Comedy  Standard                7   \n",
       "1        B8091   35         19.02       Drama  Standard            Alone   \n",
       "2        V6341   55         22.52      Horror       VIP                3   \n",
       "3        B3243   53         23.01       Drama  Standard                6   \n",
       "4        I3814   30         21.81      Comedy       VIP                4   \n",
       "...        ...  ...           ...         ...       ...              ...   \n",
       "1435     E5406   41         17.09      Sci-Fi  Standard                2   \n",
       "1436     C4357   19         11.45      Action  Standard            Alone   \n",
       "1437     R7285   53         17.13      Comedy   Premium            Alone   \n",
       "1438     W6360   34         20.25      Comedy   Premium                2   \n",
       "1439     Z8034   60         21.90      Action       VIP            Alone   \n",
       "\n",
       "     Purchase_Again  \n",
       "0                No  \n",
       "1               Yes  \n",
       "2                No  \n",
       "3               Yes  \n",
       "4               Yes  \n",
       "...             ...  \n",
       "1435            Yes  \n",
       "1436             No  \n",
       "1437            Yes  \n",
       "1438            Yes  \n",
       "1439             No  \n",
       "\n",
       "[1440 rows x 7 columns]"
      ]
     },
     "execution_count": 5,
     "metadata": {},
     "output_type": "execute_result"
    }
   ],
   "source": [
    "data"
   ]
  },
  {
   "cell_type": "code",
   "execution_count": 6,
   "id": "fd7d57df",
   "metadata": {},
   "outputs": [
    {
     "data": {
      "text/html": [
       "<div>\n",
       "<style scoped>\n",
       "    .dataframe tbody tr th:only-of-type {\n",
       "        vertical-align: middle;\n",
       "    }\n",
       "\n",
       "    .dataframe tbody tr th {\n",
       "        vertical-align: top;\n",
       "    }\n",
       "\n",
       "    .dataframe thead th {\n",
       "        text-align: right;\n",
       "    }\n",
       "</style>\n",
       "<table border=\"1\" class=\"dataframe\">\n",
       "  <thead>\n",
       "    <tr style=\"text-align: right;\">\n",
       "      <th></th>\n",
       "      <th>Ticket_ID</th>\n",
       "      <th>Age</th>\n",
       "      <th>Ticket_Price</th>\n",
       "      <th>Movie_Genre</th>\n",
       "      <th>Seat_Type</th>\n",
       "      <th>Number_of_Person</th>\n",
       "      <th>Purchase_Again</th>\n",
       "    </tr>\n",
       "  </thead>\n",
       "  <tbody>\n",
       "    <tr>\n",
       "      <th>0</th>\n",
       "      <td>N4369</td>\n",
       "      <td>55</td>\n",
       "      <td>12.27</td>\n",
       "      <td>Comedy</td>\n",
       "      <td>Standard</td>\n",
       "      <td>7</td>\n",
       "      <td>No</td>\n",
       "    </tr>\n",
       "  </tbody>\n",
       "</table>\n",
       "</div>"
      ],
      "text/plain": [
       "  Ticket_ID  Age  Ticket_Price Movie_Genre Seat_Type Number_of_Person  \\\n",
       "0     N4369   55         12.27      Comedy  Standard                7   \n",
       "\n",
       "  Purchase_Again  \n",
       "0             No  "
      ]
     },
     "execution_count": 6,
     "metadata": {},
     "output_type": "execute_result"
    }
   ],
   "source": [
    "data.head(1)"
   ]
  },
  {
   "cell_type": "code",
   "execution_count": 7,
   "id": "422c8b03",
   "metadata": {},
   "outputs": [
    {
     "name": "stdout",
     "output_type": "stream",
     "text": [
      "<class 'pandas.core.frame.DataFrame'>\n",
      "RangeIndex: 1440 entries, 0 to 1439\n",
      "Data columns (total 7 columns):\n",
      " #   Column            Non-Null Count  Dtype  \n",
      "---  ------            --------------  -----  \n",
      " 0   Ticket_ID         1440 non-null   object \n",
      " 1   Age               1440 non-null   int64  \n",
      " 2   Ticket_Price      1440 non-null   float64\n",
      " 3   Movie_Genre       1440 non-null   object \n",
      " 4   Seat_Type         1440 non-null   object \n",
      " 5   Number_of_Person  1440 non-null   object \n",
      " 6   Purchase_Again    1440 non-null   object \n",
      "dtypes: float64(1), int64(1), object(5)\n",
      "memory usage: 78.9+ KB\n"
     ]
    }
   ],
   "source": [
    "data.info()"
   ]
  },
  {
   "cell_type": "code",
   "execution_count": 8,
   "id": "3697e130",
   "metadata": {},
   "outputs": [
    {
     "data": {
      "text/plain": [
       "Ticket_ID           0\n",
       "Age                 0\n",
       "Ticket_Price        0\n",
       "Movie_Genre         0\n",
       "Seat_Type           0\n",
       "Number_of_Person    0\n",
       "Purchase_Again      0\n",
       "dtype: int64"
      ]
     },
     "execution_count": 8,
     "metadata": {},
     "output_type": "execute_result"
    }
   ],
   "source": [
    "#we have a correct data types so now we check for null and NaN values\n",
    "data.isna().sum()"
   ]
  },
  {
   "cell_type": "code",
   "execution_count": 9,
   "id": "670703eb",
   "metadata": {},
   "outputs": [
    {
     "data": {
      "text/plain": [
       "Ticket_ID           0\n",
       "Age                 0\n",
       "Ticket_Price        0\n",
       "Movie_Genre         0\n",
       "Seat_Type           0\n",
       "Number_of_Person    0\n",
       "Purchase_Again      0\n",
       "dtype: int64"
      ]
     },
     "execution_count": 9,
     "metadata": {},
     "output_type": "execute_result"
    }
   ],
   "source": [
    "data.isnull().sum()"
   ]
  },
  {
   "cell_type": "code",
   "execution_count": 10,
   "id": "11d73bd0",
   "metadata": {},
   "outputs": [],
   "source": [
    "#so we have everything okay\n"
   ]
  },
  {
   "cell_type": "code",
   "execution_count": 11,
   "id": "1f54c2b5",
   "metadata": {},
   "outputs": [
    {
     "data": {
      "text/plain": [
       "Index(['Ticket_ID', 'Age', 'Ticket_Price', 'Movie_Genre', 'Seat_Type',\n",
       "       'Number_of_Person', 'Purchase_Again'],\n",
       "      dtype='object')"
      ]
     },
     "execution_count": 11,
     "metadata": {},
     "output_type": "execute_result"
    }
   ],
   "source": [
    "#now i want to rename the column names\n",
    "data.columns\n"
   ]
  },
  {
   "cell_type": "code",
   "execution_count": 12,
   "id": "c5e8b679",
   "metadata": {},
   "outputs": [],
   "source": [
    "data=data.rename(columns={\n",
    "    'Ticket_ID': 'Ticket ID',\n",
    "    'Ticket_Price': 'Ticket Price', \n",
    "    'Movie_Genre': 'Movie Genre', \n",
    "    'Seat_Type': 'Seat Type',\n",
    "    'Number_of_Person': 'Number of persons', \n",
    "    'Purchase_Again': 'Purchase Again'\n",
    "})"
   ]
  },
  {
   "cell_type": "code",
   "execution_count": 13,
   "id": "86c6338f",
   "metadata": {},
   "outputs": [
    {
     "data": {
      "text/plain": [
       "Index(['Ticket ID', 'Age', 'Ticket Price', 'Movie Genre', 'Seat Type',\n",
       "       'Number of persons', 'Purchase Again'],\n",
       "      dtype='object')"
      ]
     },
     "execution_count": 13,
     "metadata": {},
     "output_type": "execute_result"
    }
   ],
   "source": [
    "data.columns"
   ]
  },
  {
   "cell_type": "code",
   "execution_count": 14,
   "id": "96c08ed2",
   "metadata": {},
   "outputs": [
    {
     "data": {
      "text/html": [
       "<div>\n",
       "<style scoped>\n",
       "    .dataframe tbody tr th:only-of-type {\n",
       "        vertical-align: middle;\n",
       "    }\n",
       "\n",
       "    .dataframe tbody tr th {\n",
       "        vertical-align: top;\n",
       "    }\n",
       "\n",
       "    .dataframe thead th {\n",
       "        text-align: right;\n",
       "    }\n",
       "</style>\n",
       "<table border=\"1\" class=\"dataframe\">\n",
       "  <thead>\n",
       "    <tr style=\"text-align: right;\">\n",
       "      <th></th>\n",
       "      <th>Ticket ID</th>\n",
       "      <th>Age</th>\n",
       "      <th>Ticket Price</th>\n",
       "      <th>Movie Genre</th>\n",
       "      <th>Seat Type</th>\n",
       "      <th>Number of persons</th>\n",
       "      <th>Purchase Again</th>\n",
       "    </tr>\n",
       "  </thead>\n",
       "  <tbody>\n",
       "    <tr>\n",
       "      <th>0</th>\n",
       "      <td>N4369</td>\n",
       "      <td>55</td>\n",
       "      <td>12.27</td>\n",
       "      <td>Comedy</td>\n",
       "      <td>Standard</td>\n",
       "      <td>7</td>\n",
       "      <td>No</td>\n",
       "    </tr>\n",
       "  </tbody>\n",
       "</table>\n",
       "</div>"
      ],
      "text/plain": [
       "  Ticket ID  Age  Ticket Price Movie Genre Seat Type Number of persons  \\\n",
       "0     N4369   55         12.27      Comedy  Standard                 7   \n",
       "\n",
       "  Purchase Again  \n",
       "0             No  "
      ]
     },
     "execution_count": 14,
     "metadata": {},
     "output_type": "execute_result"
    }
   ],
   "source": [
    "data.head(1)"
   ]
  },
  {
   "cell_type": "code",
   "execution_count": 16,
   "id": "3a77e227",
   "metadata": {},
   "outputs": [],
   "source": [
    "data.to_csv(\"cleaned_cinema_data.csv\", index=False)"
   ]
  },
  {
   "cell_type": "code",
   "execution_count": null,
   "id": "53cb4464",
   "metadata": {},
   "outputs": [],
   "source": []
  },
  {
   "cell_type": "code",
   "execution_count": null,
   "id": "9338d8dc",
   "metadata": {},
   "outputs": [],
   "source": []
  },
  {
   "cell_type": "code",
   "execution_count": null,
   "id": "fdb02c7e",
   "metadata": {},
   "outputs": [],
   "source": []
  }
 ],
 "metadata": {
  "kernelspec": {
   "display_name": "Python 3",
   "language": "python",
   "name": "python3"
  },
  "language_info": {
   "codemirror_mode": {
    "name": "ipython",
    "version": 3
   },
   "file_extension": ".py",
   "mimetype": "text/x-python",
   "name": "python",
   "nbconvert_exporter": "python",
   "pygments_lexer": "ipython3",
   "version": "3.12.3"
  }
 },
 "nbformat": 4,
 "nbformat_minor": 5
}
